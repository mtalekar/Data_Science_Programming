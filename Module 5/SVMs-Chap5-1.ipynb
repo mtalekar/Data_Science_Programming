{
 "cells": [
  {
   "cell_type": "code",
   "execution_count": 1,
   "metadata": {
    "scrolled": true
   },
   "outputs": [
    {
     "data": {
      "text/plain": [
       "array([1.])"
      ]
     },
     "execution_count": 1,
     "metadata": {},
     "output_type": "execute_result"
    }
   ],
   "source": [
    "import numpy as np\n",
    "from sklearn import datasets\n",
    "from sklearn.pipeline import Pipeline\n",
    "from sklearn.preprocessing import StandardScaler\n",
    "from sklearn.svm import LinearSVC\n",
    "from sklearn.datasets import make_moons\n",
    "\n",
    "iris = datasets.load_iris()\n",
    "X = iris[\"data\"][:, (2, 3)]  # petal length, petal width\n",
    "y = (iris[\"target\"] == 2).astype(np.float64)  # Iris-Virginica\n",
    "\n",
    "svm_clf = Pipeline([\n",
    "        (\"scaler\", StandardScaler()),\n",
    "        (\"linear_svc\", LinearSVC(C=1, loss=\"hinge\", random_state=42)),\n",
    "    ])\n",
    "\n",
    "svm_clf.fit(X, y)\n",
    "svm_clf.predict([[5.5, 1.7]])"
   ]
  },
  {
   "cell_type": "code",
   "execution_count": 3,
   "metadata": {
    "scrolled": true
   },
   "outputs": [
    {
     "name": "stdout",
     "output_type": "stream",
     "text": [
      "[[ 1.61383833 -0.49115086]\n",
      " [ 0.08984723  0.50439056]\n",
      " [ 0.74721047 -0.36911116]\n",
      " [-1.10174514  0.23685641]\n",
      " [-0.72871455  0.14652347]\n",
      " [-0.65891281  0.857088  ]\n",
      " [ 0.22828266  0.73453868]\n",
      " [ 1.39439184 -0.45063627]\n",
      " [ 0.87158283  0.70852888]\n",
      " [ 0.88304472 -0.12658445]\n",
      " [ 0.38220326  0.76957897]\n",
      " [-0.32279169  0.92145523]\n",
      " [ 1.29900621 -0.64914275]\n",
      " [-0.63569974  0.91873422]\n",
      " [ 1.96899387  0.297549  ]\n",
      " [ 1.21073294  0.37721455]\n",
      " [ 1.13998191 -0.36088456]\n",
      " [ 1.06805159 -0.53460667]\n",
      " [ 0.49598571  0.66135542]\n",
      " [-0.26038715  0.88295876]\n",
      " [-0.06516219  0.13092506]\n",
      " [ 1.87005845 -0.18659309]\n",
      " [ 0.03146515  0.79868048]\n",
      " [-1.03151461  0.35788726]\n",
      " [ 0.45814234  0.00308109]\n",
      " [ 0.40767679  0.9574049 ]\n",
      " [-0.9379972   0.46846678]\n",
      " [ 2.02675758  0.09006383]\n",
      " [ 0.73867736  0.52356398]\n",
      " [ 0.71349755 -0.61055519]\n",
      " [ 0.92445501  0.79897643]\n",
      " [-1.05805492  0.1152524 ]\n",
      " [ 1.80904221 -0.49580332]\n",
      " [-0.17181754  1.27111359]\n",
      " [ 2.22167197 -0.16625369]\n",
      " [ 0.8346617   0.34040713]\n",
      " [ 0.28332589 -0.45537977]\n",
      " [ 0.40728969 -0.10997402]\n",
      " [-0.6303002   0.81437199]\n",
      " [ 0.59525613  0.93666607]\n",
      " [-0.99578508 -0.17956306]\n",
      " [-0.45366574  0.88489567]\n",
      " [ 0.73645602  0.3315385 ]\n",
      " [ 2.10042161  0.33716789]\n",
      " [-0.26764459  0.94669172]\n",
      " [ 0.32384572  1.03101899]\n",
      " [ 1.59212445 -0.40456525]\n",
      " [ 0.14332957  1.13048376]\n",
      " [ 0.31249817 -0.41220505]\n",
      " [ 0.51814426  0.85146409]\n",
      " [-0.22452786  1.01733299]\n",
      " [ 1.131632    0.21402176]\n",
      " [ 0.3723287   0.75960715]\n",
      " [-0.63902305  0.71898449]\n",
      " [ 0.82849531  0.65051142]\n",
      " [ 1.3506206  -0.20663883]\n",
      " [ 1.01195087  0.35059194]\n",
      " [ 0.35506156 -0.57201701]\n",
      " [-0.64970203  0.73792076]\n",
      " [ 1.60190251 -0.10190367]\n",
      " [ 0.27455847  0.01455085]\n",
      " [ 1.85601581  0.66573923]\n",
      " [ 0.12784118  0.7055097 ]\n",
      " [-1.12470228  0.48332509]\n",
      " [ 0.04738364  0.50889219]\n",
      " [ 0.67403854 -0.39105811]\n",
      " [-1.27201559  0.064055  ]\n",
      " [ 0.79988167 -0.23860829]\n",
      " [ 0.18258616 -0.07268884]\n",
      " [ 2.40938072  0.36744482]\n",
      " [ 1.28279009 -0.43007805]\n",
      " [-0.78027235  0.43838237]\n",
      " [ 0.2196007  -0.28235199]\n",
      " [-0.94748558  0.07166469]\n",
      " [ 1.96532685  0.36464118]\n",
      " [ 0.00762513 -0.0559119 ]\n",
      " [ 0.68434134 -0.53968897]\n",
      " [-0.29808882  0.83628765]\n",
      " [ 2.04432263  0.02286165]\n",
      " [-0.03394274 -0.15814918]\n",
      " [ 0.17387413 -0.41773394]\n",
      " [ 1.63958277 -0.0533336 ]\n",
      " [-0.81839086  0.44190981]\n",
      " [-0.18600799  0.74328273]\n",
      " [ 0.82045555  0.13831957]\n",
      " [-0.01658646  0.26904656]\n",
      " [ 0.23277362  0.91351659]\n",
      " [ 1.27522216  0.02650645]\n",
      " [-0.04098885  0.92712414]\n",
      " [ 1.65643511 -0.106336  ]\n",
      " [ 1.57258804  0.07318633]\n",
      " [ 0.88675561 -0.38296277]\n",
      " [ 1.66515433 -0.16247383]\n",
      " [ 1.40382802 -0.32089592]\n",
      " [ 0.53409306  0.84778239]\n",
      " [ 0.18250721 -0.17104312]\n",
      " [ 1.01642634 -0.54001915]\n",
      " [ 0.51358597  0.69508995]\n",
      " [ 1.88061126 -0.05290949]\n",
      " [-0.05321289  0.45951006]]\n",
      "[1 1 1 0 0 0 0 1 0 0 0 0 1 0 1 0 1 1 0 0 1 1 0 0 1 0 0 1 0 1 0 0 1 0 1 0 1\n",
      " 1 0 0 0 0 0 1 0 0 1 0 1 0 0 0 0 0 0 1 0 1 0 1 1 1 1 0 1 1 0 1 1 1 1 0 1 0\n",
      " 1 1 1 0 1 1 1 1 0 0 0 1 0 0 0 1 1 1 1 1 0 1 1 0 1 1]\n"
     ]
    },
    {
     "data": {
      "image/png": "[encoded data removed]",
      "text/plain": [
       "<matplotlib.figure.Figure at 0x10e8fe390>"
      ]
     },
     "metadata": {},
     "output_type": "display_data"
    }
   ],
   "source": [
    "import matplotlib\n",
    "import matplotlib.pyplot as plt\n",
    "\n",
    "X, y = make_moons(n_samples=100, noise=0.15, random_state=42)\n",
    "print(X)\n",
    "print(y)\n",
    "def plot_dataset(X, y, axes):\n",
    "    plt.plot(X[:, 0][y==0], X[:, 1][y==0], \"bs\")\n",
    "    plt.plot(X[:, 0][y==1], X[:, 1][y==1], \"g^\")\n",
    "    plt.axis(axes)\n",
    "    plt.grid(True, which='both')\n",
    "    plt.xlabel(r\"$x_1$\", fontsize=20)\n",
    "    plt.ylabel(r\"$x_2$\", fontsize=20, rotation=0)\n",
    "\n",
    "plot_dataset(X, y, [-1.5, 2.5, -1, 1.5])\n",
    "plt.show()"
   ]
  },
  {
   "cell_type": "code",
   "execution_count": 12,
   "metadata": {
    "scrolled": true
   },
   "outputs": [
    {
     "data": {
      "text/plain": [
       "Pipeline(steps=[('poly_features', PolynomialFeatures(degree=3, include_bias=True, interaction_only=False)), ('scaler', StandardScaler(copy=True, with_mean=True, with_std=True)), ('svm_clf', LinearSVC(C=1000, class_weight=None, dual=True, fit_intercept=True,\n",
       "     intercept_scaling=1, loss='hinge', max_iter=1000, multi_class='ovr',\n",
       "     penalty='l2', random_state=42, tol=0.0001, verbose=0))])"
      ]
     },
     "execution_count": 12,
     "metadata": {},
     "output_type": "execute_result"
    }
   ],
   "source": [
    "from sklearn.pipeline import Pipeline\n",
    "from sklearn.preprocessing import PolynomialFeatures\n",
    "\n",
    "polynomial_svm_clf = Pipeline([\n",
    "        (\"poly_features\", PolynomialFeatures(degree=3)),\n",
    "        (\"scaler\", StandardScaler()),\n",
    "        (\"svm_clf\", LinearSVC(C=1000, loss=\"hinge\", random_state=42))\n",
    "    ])\n",
    "\n",
    "polynomial_svm_clf.fit(X, y)"
   ]
  },
  {
   "cell_type": "code",
   "execution_count": 13,
   "metadata": {
    "scrolled": true
   },
   "outputs": [
    {
     "data": {
      "image/png": "[encoded data removed]",
      "text/plain": [
       "<matplotlib.figure.Figure at 0x10e9e9470>"
      ]
     },
     "metadata": {},
     "output_type": "display_data"
    }
   ],
   "source": [
    "def plot_predictions(clf, axes):\n",
    "    x0s = np.linspace(axes[0], axes[1], 100)\n",
    "    x1s = np.linspace(axes[2], axes[3], 100)\n",
    "    x0, x1 = np.meshgrid(x0s, x1s)\n",
    "    X = np.c_[x0.ravel(), x1.ravel()]\n",
    "    y_pred = clf.predict(X).reshape(x0.shape)\n",
    "    y_decision = clf.decision_function(X).reshape(x0.shape)\n",
    "    plt.contourf(x0, x1, y_pred, cmap=plt.cm.brg, alpha=0.2)\n",
    "    plt.contourf(x0, x1, y_decision, cmap=plt.cm.brg, alpha=0.1)\n",
    "\n",
    "plot_predictions(polynomial_svm_clf, [-1.5, 2.5, -1, 1.5])\n",
    "plot_dataset(X, y, [-1.5, 2.5, -1, 1.5])\n",
    "plt.show()"
   ]
  },
  {
   "cell_type": "code",
   "execution_count": 14,
   "metadata": {
    "scrolled": true
   },
   "outputs": [
    {
     "data": {
      "text/plain": [
       "Pipeline(steps=[('scaler', StandardScaler(copy=True, with_mean=True, with_std=True)), ('svm_clf', SVC(C=5, cache_size=200, class_weight=None, coef0=1,\n",
       "  decision_function_shape=None, degree=3, gamma='auto', kernel='poly',\n",
       "  max_iter=-1, probability=False, random_state=None, shrinking=True,\n",
       "  tol=0.001, verbose=False))])"
      ]
     },
     "execution_count": 14,
     "metadata": {},
     "output_type": "execute_result"
    }
   ],
   "source": [
    "from sklearn.svm import SVC\n",
    "\n",
    "poly_kernel_svm_clf = Pipeline([\n",
    "        (\"scaler\", StandardScaler()),\n",
    "        (\"svm_clf\", SVC(kernel=\"poly\", degree=3, coef0=1, C=5))\n",
    "    ])\n",
    "poly_kernel_svm_clf.fit(X, y)"
   ]
  },
  {
   "cell_type": "code",
   "execution_count": 15,
   "metadata": {
    "scrolled": true
   },
   "outputs": [
    {
     "data": {
      "text/plain": [
       "Pipeline(steps=[('scaler', StandardScaler(copy=True, with_mean=True, with_std=True)), ('svm_clf', SVC(C=5, cache_size=200, class_weight=None, coef0=100,\n",
       "  decision_function_shape=None, degree=10, gamma='auto', kernel='poly',\n",
       "  max_iter=-1, probability=False, random_state=None, shrinking=True,\n",
       "  tol=0.001, verbose=False))])"
      ]
     },
     "execution_count": 15,
     "metadata": {},
     "output_type": "execute_result"
    }
   ],
   "source": [
    "\n",
    "poly100_kernel_svm_clf = Pipeline([\n",
    "        (\"scaler\", StandardScaler()),\n",
    "        (\"svm_clf\", SVC(kernel=\"poly\", degree=10, coef0=100, C=5))\n",
    "    ])\n",
    "poly100_kernel_svm_clf.fit(X, y)"
   ]
  },
  {
   "cell_type": "code",
   "execution_count": 10,
   "metadata": {
    "scrolled": true
   },
   "outputs": [
    {
     "data": {
      "image/png": "[encoded data removed]",
      "text/plain": [
       "<matplotlib.figure.Figure at 0x111a018d0>"
      ]
     },
     "metadata": {},
     "output_type": "display_data"
    }
   ],
   "source": [
    "plt.figure(figsize=(11, 4))\n",
    "\n",
    "plt.subplot(121)\n",
    "plot_predictions(poly_kernel_svm_clf, [-1.5, 2.5, -1, 1.5])\n",
    "plot_dataset(X, y, [-1.5, 2.5, -1, 1.5])\n",
    "plt.title(r\"$d=3, r=1, C=5$\", fontsize=18)\n",
    "\n",
    "plt.subplot(122)\n",
    "plot_predictions(poly100_kernel_svm_clf, [-1.5, 2.5, -1, 1.5])\n",
    "plot_dataset(X, y, [-1.5, 2.5, -1, 1.5])\n",
    "plt.title(r\"$d=10, r=100, C=5$\", fontsize=18)\n",
    "plt.show()"
   ]
  },
  {
   "cell_type": "code",
   "execution_count": null,
   "metadata": {
    "collapsed": true,
    "scrolled": true
   },
   "outputs": [],
   "source": []
  },
  {
   "cell_type": "code",
   "execution_count": null,
   "metadata": {
    "collapsed": true
   },
   "outputs": [],
   "source": []
  }
 ],
 "metadata": {
  "kernelspec": {
   "display_name": "Python 3",
   "language": "python",
   "name": "python3"
  },
  "language_info": {
   "codemirror_mode": {
    "name": "ipython",
    "version": 3
   },
   "file_extension": ".py",
   "mimetype": "text/x-python",
   "name": "python",
   "nbconvert_exporter": "python",
   "pygments_lexer": "ipython3",
   "version": "3.6.1"
  }
 },
 "nbformat": 4,
 "nbformat_minor": 2
}
