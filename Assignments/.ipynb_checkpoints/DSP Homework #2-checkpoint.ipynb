{
 "cells": [
  {
   "cell_type": "code",
   "execution_count": 51,
   "metadata": {},
   "outputs": [],
   "source": [
    "#import Libraries\n",
    "import numpy as np\n",
    "import matplotlib.pyplot as plt\n",
    "from sklearn.linear_model import LinearRegression\n",
    "from sklearn.datasets import fetch_openml\n",
    "from sklearn.linear_model import SGDClassifier\n",
    "from sklearn.model_selection import cross_val_predict\n",
    "from sklearn.metrics import confusion_matrix\n",
    "from sklearn.metrics import roc_curve\n",
    "from sklearn.model_selection import cross_val_score\n",
    "from sklearn.preprocessing import PolynomialFeatures\n",
    "from sklearn.model_selection import train_test_split\n",
    "from sklearn.metrics import mean_squared_error\n",
    "from sklearn.linear_model import Lasso"
   ]
  },
  {
   "cell_type": "markdown",
   "metadata": {},
   "source": [
    "## Question 1"
   ]
  },
  {
   "cell_type": "code",
   "execution_count": 2,
   "metadata": {},
   "outputs": [],
   "source": [
    "#Generating 100 random data points satisfying the given equation  \n",
    "x = np.random.rand(100,1)\n",
    "noise = np.random.randn(100,1)\n",
    "y = 2.1*x + 3.4 + noise"
   ]
  },
  {
   "cell_type": "code",
   "execution_count": 3,
   "metadata": {},
   "outputs": [],
   "source": [
    "#Compute Theta to reduce the cost function\n",
    "X_b = np.c_[np.ones((100, 1)), x]\n",
    "theta = np.linalg.inv(X_b.T.dot(X_b)).dot(X_b.T).dot(y)"
   ]
  },
  {
   "cell_type": "code",
   "execution_count": 6,
   "metadata": {},
   "outputs": [
    {
     "name": "stdout",
     "output_type": "stream",
     "text": [
      "[3.40101535] [[0.         1.90723546]]\n"
     ]
    }
   ],
   "source": [
    "#Estimating the linear regression model from above generated data\n",
    "lin_reg = LinearRegression()\n",
    "lin_reg.fit(X_b, y)\n",
    "print(lin_reg.intercept_, lin_reg.coef_)"
   ]
  },
  {
   "cell_type": "code",
   "execution_count": 11,
   "metadata": {},
   "outputs": [
    {
     "data": {
      "text/plain": [
       "array([[3.40101535],\n",
       "       [1.90723546]])"
      ]
     },
     "execution_count": 11,
     "metadata": {},
     "output_type": "execute_result"
    }
   ],
   "source": [
    "##Estimating the gradient descent model from above generated data\n",
    "rate = 0.4                                                           # learning rate\n",
    "iterations = 1000\n",
    "n = 100\n",
    "theta1 = np.random.randn(2,1)                                         \n",
    "for i in range(iterations):\n",
    "    gradient = 2/n * X_b.T.dot(X_b.dot(theta1) - y)\n",
    "    theta1 = theta1 - rate * gradient\n",
    "theta1"
   ]
  },
  {
   "cell_type": "markdown",
   "metadata": {},
   "source": [
    "Above results show that the theta values are same for both the models linear regression and gradient descent"
   ]
  },
  {
   "cell_type": "code",
   "execution_count": 12,
   "metadata": {},
   "outputs": [
    {
     "data": {
      "text/plain": [
       "array([[3.40101549],\n",
       "       [1.9072352 ]])"
      ]
     },
     "execution_count": 12,
     "metadata": {},
     "output_type": "execute_result"
    }
   ],
   "source": [
    "rate = 0.1 # learning rate reduced to 0.25 of previoue learning rate\n",
    "iterations = 1000\n",
    "n = 100\n",
    "theta1 = np.random.randn(2,1)                                         \n",
    "for i in range(iterations):\n",
    "    gradient = 2/n * X_b.T.dot(X_b.dot(theta1) - y)\n",
    "    theta1 = theta1 - rate * gradient\n",
    "theta1"
   ]
  },
  {
   "cell_type": "markdown",
   "metadata": {},
   "source": [
    "I ran the exact same steps, just changed the learning rate as mentioned in the question. The difference between the two results is insignificant."
   ]
  },
  {
   "cell_type": "markdown",
   "metadata": {},
   "source": [
    "## Question 2"
   ]
  },
  {
   "cell_type": "code",
   "execution_count": 15,
   "metadata": {},
   "outputs": [],
   "source": [
    "try:\n",
    "    mnist = fetch_openml('mnist_784', version=1, cache=True)\n",
    "    mnist.target = mnist.target.astype(np.int8) # fetch_openml() returns targets as strings\n",
    "    #sort_by_target(mnist) # fetch_openml() returns an unsorted dataset\n",
    "except ImportError:\n",
    "    from sklearn.datasets import fetch_mldata\n",
    "    mnist = fetch_mldata('MNIST original') "
   ]
  },
  {
   "cell_type": "code",
   "execution_count": 16,
   "metadata": {},
   "outputs": [],
   "source": [
    "X, y = mnist[\"data\"], mnist[\"target\"]"
   ]
  },
  {
   "cell_type": "code",
   "execution_count": 17,
   "metadata": {},
   "outputs": [],
   "source": [
    "X_train, X_test, y_train, y_test = X[0:60000], X[60000:],y[0:60000], y[60000:]"
   ]
  },
  {
   "cell_type": "code",
   "execution_count": 19,
   "metadata": {},
   "outputs": [],
   "source": [
    "#Creating training and testing sample data\n",
    "train =np.random.randint(0,len(X_train),5000)\n",
    "test =np.random.randint(0,len(X_test),1000)"
   ]
  },
  {
   "cell_type": "code",
   "execution_count": 20,
   "metadata": {},
   "outputs": [],
   "source": [
    "X_train_5K = X_train[train]\n",
    "Y_train_5K = y_train[train]\n",
    "X_test_1K  = X_test[test]\n",
    "y_test_1K  = y_test[test]"
   ]
  },
  {
   "cell_type": "code",
   "execution_count": 22,
   "metadata": {},
   "outputs": [],
   "source": [
    "#Calculate boolean output for 5 and not-5\n",
    "y_train_5 = (Y_train_5K == 5)\n",
    "y_test_5 = (y_test_1K == 5) "
   ]
  },
  {
   "cell_type": "code",
   "execution_count": 24,
   "metadata": {},
   "outputs": [],
   "source": [
    "#Generate stochastic gradient descent (SGD) classifier object\n",
    "sgd = SGDClassifier(random_state=100)"
   ]
  },
  {
   "cell_type": "code",
   "execution_count": 28,
   "metadata": {},
   "outputs": [
    {
     "data": {
      "text/plain": [
       "array([False, False, False, False, False,  True, False, False, False,\n",
       "       False,  True, False,  True, False, False, False, False, False,\n",
       "       False, False,  True, False, False,  True, False])"
      ]
     },
     "execution_count": 28,
     "metadata": {},
     "output_type": "execute_result"
    }
   ],
   "source": [
    "#run prediction for 5 or not-5\n",
    "sgd.fit(X_train_5K, y_train_5)\n",
    "sgd.predict(X_test_1K[:25])"
   ]
  },
  {
   "cell_type": "code",
   "execution_count": 30,
   "metadata": {},
   "outputs": [
    {
     "data": {
      "text/plain": [
       "array([[4384,  105],\n",
       "       [ 129,  382]], dtype=int64)"
      ]
     },
     "execution_count": 30,
     "metadata": {},
     "output_type": "execute_result"
    }
   ],
   "source": [
    "#Check confusion matrix for 5 or not-5\n",
    "y_train_5_pred = cross_val_predict(sgd, X_train_5K, y_train_5, cv=7)#computing count of predicted y values\n",
    "confusion_matrix(y_train_5, y_train_5_pred) # actual vs predicted"
   ]
  },
  {
   "cell_type": "code",
   "execution_count": 37,
   "metadata": {},
   "outputs": [
    {
     "data": {
      "image/png": "[encoded data removed]",
      "text/plain": [
       "<Figure size 432x288 with 1 Axes>"
      ]
     },
     "metadata": {
      "needs_background": "light"
     },
     "output_type": "display_data"
    }
   ],
   "source": [
    "#Check ROC curve\n",
    "y_train_5_pred_scores = cross_val_predict(sgd, X_train_5K, y_train_5, cv=7, method = \"decision_function\")\n",
    "fpr, tpr, thresholds = roc_curve(y_train_5, y_train_5_pred_scores)\n",
    "plt.plot(fpr, tpr)\n",
    "plt.show()"
   ]
  },
  {
   "cell_type": "code",
   "execution_count": 46,
   "metadata": {},
   "outputs": [
    {
     "data": {
      "text/plain": [
       "array([0.95524476, 0.94545455, 0.94817927, 0.95098039, 0.95658263,\n",
       "       0.95658263, 0.95938375])"
      ]
     },
     "execution_count": 46,
     "metadata": {},
     "output_type": "execute_result"
    }
   ],
   "source": [
    "#Check accuracy for 5 or not-5\n",
    "cross_val_score(sgd, X_train_5K, y_train_5, cv=7, scoring=\"accuracy\")"
   ]
  },
  {
   "cell_type": "code",
   "execution_count": 40,
   "metadata": {},
   "outputs": [],
   "source": [
    "#Calculate boolean output for 6 and not-6\n",
    "y_train_6 = (Y_train_5K == 6)\n",
    "y_test_6 = (y_test_1K == 6) "
   ]
  },
  {
   "cell_type": "code",
   "execution_count": 42,
   "metadata": {},
   "outputs": [
    {
     "data": {
      "text/plain": [
       "array([False, False, False, False, False, False, False, False, False,\n",
       "       False, False, False, False, False, False, False, False, False,\n",
       "       False, False, False, False, False, False, False])"
      ]
     },
     "execution_count": 42,
     "metadata": {},
     "output_type": "execute_result"
    }
   ],
   "source": [
    "#run prediction for 6 or not-6\n",
    "sgd.fit(X_train_5K, y_train_6)\n",
    "sgd.predict(X_test_1K[:25])"
   ]
  },
  {
   "cell_type": "code",
   "execution_count": 43,
   "metadata": {},
   "outputs": [
    {
     "data": {
      "text/plain": [
       "array([[4429,   75],\n",
       "       [  59,  437]], dtype=int64)"
      ]
     },
     "execution_count": 43,
     "metadata": {},
     "output_type": "execute_result"
    }
   ],
   "source": [
    "#Check confusion matrix for 6 or not-6\n",
    "y_train_6_pred = cross_val_predict(sgd, X_train_5K, y_train_6, cv=7)#computing count of predicted y values\n",
    "confusion_matrix(y_train_6, y_train_6_pred) # actual vs predicted"
   ]
  },
  {
   "cell_type": "code",
   "execution_count": 44,
   "metadata": {},
   "outputs": [
    {
     "data": {
      "image/png": "[encoded data removed]",
      "text/plain": [
       "<Figure size 432x288 with 1 Axes>"
      ]
     },
     "metadata": {
      "needs_background": "light"
     },
     "output_type": "display_data"
    }
   ],
   "source": [
    "y_train_6_pred_scores = cross_val_predict(sgd, X_train_5K, y_train_6, cv=7, method = \"decision_function\")\n",
    "fpr1, tpr1, thresholds = roc_curve(y_train_6, y_train_6_pred_scores)\n",
    "plt.plot(fpr1, tpr1)\n",
    "plt.show()"
   ]
  },
  {
   "cell_type": "code",
   "execution_count": 45,
   "metadata": {},
   "outputs": [
    {
     "data": {
      "text/plain": [
       "array([0.96923077, 0.96923077, 0.97058824, 0.97338936, 0.97478992,\n",
       "       0.9719888 , 0.98319328])"
      ]
     },
     "execution_count": 45,
     "metadata": {},
     "output_type": "execute_result"
    }
   ],
   "source": [
    "#Check accuracy for 6 or not-6\n",
    "cross_val_score(sgd, X_train_5K, y_train_6, cv=7, scoring=\"accuracy\")"
   ]
  },
  {
   "cell_type": "markdown",
   "metadata": {},
   "source": [
    "Based on the ROC Curve and the accuracy results for \"5 or not-5\" and \"6 or not-6\", I can conclude that \"6 or not-6\" performed better than \"5 or not-5\""
   ]
  },
  {
   "cell_type": "markdown",
   "metadata": {},
   "source": [
    "## Question 3"
   ]
  },
  {
   "cell_type": "code",
   "execution_count": 48,
   "metadata": {},
   "outputs": [],
   "source": [
    "#generating equation\n",
    "m = 50 # number of data points\n",
    "x = 6 * np.random.rand(m,1) - 3\n",
    "y = 4*(x**2) + 3*x + 2 + 2*np.random.randn(m,1) #polynomial equation"
   ]
  },
  {
   "cell_type": "code",
   "execution_count": 50,
   "metadata": {},
   "outputs": [
    {
     "data": {
      "image/png": "[encoded data removed]",
      "text/plain": [
       "<Figure size 432x288 with 1 Axes>"
      ]
     },
     "metadata": {
      "needs_background": "light"
     },
     "output_type": "display_data"
    }
   ],
   "source": [
    "#checking the plot for the above generated data points\n",
    "plt.scatter(x,y)\n",
    "plt.show()"
   ]
  },
  {
   "cell_type": "code",
   "execution_count": 52,
   "metadata": {},
   "outputs": [
    {
     "name": "stdout",
     "output_type": "stream",
     "text": [
      "[2.26074057] [[ 3.63082111e+00  3.96983700e+00 -3.16679209e-01  7.04728718e-04\n",
      "   3.26360170e-02]]\n",
      "Mean Squared Error on Test:  5.774852358328509\n"
     ]
    }
   ],
   "source": [
    "#un-regularized model\n",
    "num_degrees = 5\n",
    "poly_features = PolynomialFeatures(degree=num_degrees, include_bias=False)\n",
    "x_poly = poly_features.fit_transform(x)\n",
    "\n",
    "x_train, x_test, y_train, y_test = train_test_split(x_poly, y, test_size=0.2)\n",
    "lreg = LinearRegression()\n",
    "lreg.fit(x_train, y_train)\n",
    "print(lreg.intercept_, lreg.coef_)\n",
    "y_predict = lreg.predict(x_test)\n",
    "mse = mean_squared_error(y_test,y_predict)\n",
    "print(\"Mean Squared Error on Test: \", mse)"
   ]
  },
  {
   "cell_type": "code",
   "execution_count": 53,
   "metadata": {},
   "outputs": [
    {
     "name": "stdout",
     "output_type": "stream",
     "text": [
      "Mean Squared Error on Test:  6.051179218063333\n",
      "[3.1268028] [ 1.91862598  3.30523828  0.32669661  0.07804036 -0.01895783]\n"
     ]
    }
   ],
   "source": [
    "#regularized model\n",
    "order = x_test[:,0].argsort()\n",
    "x_test = x_test[order]\n",
    "ys = y_predict[order]\n",
    "truey = y_test[order]\n",
    "\n",
    "from sklearn.linear_model import Lasso\n",
    "lasso_reg = Lasso(alpha=0.5)\n",
    "lasso_reg.fit(x_train, y_train)\n",
    "y_predict = lasso_reg.predict(x_test)\n",
    "mse = mean_squared_error(truey,y_predict)\n",
    "print(\"Mean Squared Error on Test: \", mse)\n",
    "print(lasso_reg.intercept_, lasso_reg.coef_)"
   ]
  }
 ],
 "metadata": {
  "kernelspec": {
   "display_name": "Python 3",
   "language": "python",
   "name": "python3"
  },
  "language_info": {
   "codemirror_mode": {
    "name": "ipython",
    "version": 3
   },
   "file_extension": ".py",
   "mimetype": "text/x-python",
   "name": "python",
   "nbconvert_exporter": "python",
   "pygments_lexer": "ipython3",
   "version": "3.9.7"
  }
 },
 "nbformat": 4,
 "nbformat_minor": 4
}
