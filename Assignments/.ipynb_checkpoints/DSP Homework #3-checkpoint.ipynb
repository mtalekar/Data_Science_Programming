{
 "cells": [
  {
   "cell_type": "markdown",
   "metadata": {},
   "source": [
    "## Question 1"
   ]
  },
  {
   "cell_type": "code",
   "execution_count": 2,
   "metadata": {},
   "outputs": [],
   "source": [
    "#importing all the required libraries\n",
    "import matplotlib\n",
    "import matplotlib.pyplot as plt\n",
    "from sklearn.model_selection import train_test_split\n",
    "import numpy as np\n",
    "from sklearn import datasets\n",
    "from sklearn.pipeline import Pipeline\n",
    "from sklearn.preprocessing import StandardScaler\n",
    "from sklearn.svm import LinearSVC\n",
    "from sklearn.datasets import make_moons\n",
    "from sklearn import svm, datasets\n",
    "from sklearn.metrics import confusion_matrix,accuracy_score,roc_auc_score,f1_score,mean_squared_error"
   ]
  },
  {
   "cell_type": "code",
   "execution_count": 4,
   "metadata": {},
   "outputs": [],
   "source": [
    "#inmporting the dataset and splitting data into train and test partitions\n",
    "X, y = make_moons(n_samples=500, noise=0.15, random_state=55)\n",
    "X_train, X_test, y_train, y_test = train_test_split(X, y, test_size=0.20, random_state=55)"
   ]
  },
  {
   "cell_type": "code",
   "execution_count": 5,
   "metadata": {},
   "outputs": [
    {
     "data": {
      "image/png": "[encoded data removed]",
      "text/plain": [
       "<Figure size 432x288 with 1 Axes>"
      ]
     },
     "metadata": {
      "needs_background": "light"
     },
     "output_type": "display_data"
    }
   ],
   "source": [
    "#ploting above created dataset\n",
    "def plot_dataset(X, y, axes):\n",
    "    plt.plot(X[:, 0][y==0], X[:, 1][y==0], \"bs\")\n",
    "    plt.plot(X[:, 0][y==1], X[:, 1][y==1], \"g^\")\n",
    "    plt.axis(axes)\n",
    "    plt.grid(True, which='both')\n",
    "    plt.xlabel(r\"$x_1$\", fontsize=20)\n",
    "    plt.ylabel(r\"$x_2$\", fontsize=20, rotation=0)\n",
    "\n",
    "plot_dataset(X, y, [-1.5, 2.5, -1, 1.5])\n",
    "plt.show()"
   ]
  },
  {
   "cell_type": "markdown",
   "metadata": {},
   "source": [
    "#### Model 1"
   ]
  },
  {
   "cell_type": "markdown",
   "metadata": {},
   "source": [
    "Building following model with linear kernal to separate data linearly, considerate c value should give better margin and accuracy of the model."
   ]
  },
  {
   "cell_type": "code",
   "execution_count": 7,
   "metadata": {},
   "outputs": [
    {
     "name": "stdout",
     "output_type": "stream",
     "text": [
      "Confusion Matrix\n",
      "[[44  7]\n",
      " [ 8 41]]\n",
      "Accuracy Score: 0.850\n",
      "ROC_AUC Score: 0.850\n",
      "Mean Square Error: 0.150\n"
     ]
    }
   ],
   "source": [
    "C=1\n",
    "svc = svm.SVC(kernel='linear', C=C).fit(X_train, y_train)\n",
    "a = svc.predict(X_test)\n",
    "\n",
    "print('Confusion Matrix')\n",
    "print(confusion_matrix(y_test,a))\n",
    "print('Accuracy Score: %.3f' %  accuracy_score(y_test, a))\n",
    "print('ROC_AUC Score: %.3f' %  roc_auc_score(y_test, a))\n",
    "print('Mean Square Error: %.3f' %  mean_squared_error(y_test,a))"
   ]
  },
  {
   "cell_type": "markdown",
   "metadata": {},
   "source": [
    "#### Model 2"
   ]
  },
  {
   "cell_type": "markdown",
   "metadata": {},
   "source": [
    "Building following model because polynomial kernal provides more generalized representation of the linear kernal, low c value should give larger margin for which I am interested in checking the accuracy and I am setting higher value of degree to create more flexible boundaries. "
   ]
  },
  {
   "cell_type": "code",
   "execution_count": 6,
   "metadata": {},
   "outputs": [
    {
     "name": "stdout",
     "output_type": "stream",
     "text": [
      "Confusion Matrix\n",
      "[[41 10]\n",
      " [ 2 47]]\n",
      "Accuracy Score: 0.880\n",
      "ROC_AUC Score: 0.882\n",
      "Mean Square Error: 0.120\n"
     ]
    }
   ],
   "source": [
    "C = 0.5\n",
    "poly_svc = svm.SVC(kernel='poly', degree=5, C=C).fit(X_train, y_train)\n",
    "c = poly_svc.predict(X_test)\n",
    "print('Confusion Matrix')\n",
    "print(confusion_matrix(y_test,c))\n",
    "print('Accuracy Score: %.3f' %  accuracy_score(y_test, c))\n",
    "print('ROC_AUC Score: %.3f' %  roc_auc_score(y_test, c))\n",
    "print('Mean Square Error: %.3f' %  mean_squared_error(y_test, c))"
   ]
  },
  {
   "cell_type": "markdown",
   "metadata": {},
   "source": [
    "#### Model 3"
   ]
  },
  {
   "cell_type": "markdown",
   "metadata": {},
   "source": [
    "Building following model with RBF kernel where I am expecting better results as RBF has the advantage of K-NN algortihm and overcomes the space complexity problem. I am setting comparitvely higher C value to create more accurate and smaller margins and high gamma value should create more close curvatures providing accurate results"
   ]
  },
  {
   "cell_type": "code",
   "execution_count": 9,
   "metadata": {},
   "outputs": [
    {
     "name": "stdout",
     "output_type": "stream",
     "text": [
      "Confusion Matrix\n",
      "[[50  1]\n",
      " [ 1 48]]\n",
      "Accuracy Score: 0.980\n",
      "ROC_AUC Score: 0.980\n",
      "Mean Square Error: 0.020\n"
     ]
    }
   ],
   "source": [
    "C=1.5\n",
    "rbf_svc = svm.SVC(kernel='rbf', gamma=1, C=C).fit(X_train, y_train)\n",
    "b = rbf_svc.predict(X_test)\n",
    "\n",
    "print('Confusion Matrix')\n",
    "print(confusion_matrix(y_test,b))\n",
    "print('Accuracy Score: %.3f' %  accuracy_score(y_test, b))\n",
    "print('ROC_AUC Score: %.3f' %  roc_auc_score(y_test, b))\n",
    "print('Mean Square Error: %.3f' %  mean_squared_error(y_test,b))"
   ]
  },
  {
   "cell_type": "markdown",
   "metadata": {},
   "source": [
    "#### Final Ensemble Model"
   ]
  },
  {
   "cell_type": "code",
   "execution_count": 12,
   "metadata": {},
   "outputs": [
    {
     "name": "stdout",
     "output_type": "stream",
     "text": [
      "Confusion Matrix\n",
      "[[48  3]\n",
      " [ 3 46]]\n",
      "Accuracy Score: 0.940\n",
      "ROC_AUC Score: 0.940\n",
      "Mean Square Error: 0.060\n"
     ]
    }
   ],
   "source": [
    "from sklearn.ensemble import RandomForestClassifier\n",
    "rnd_clf = RandomForestClassifier(n_estimators=350, max_leaf_nodes=15, n_jobs=-1)\n",
    "rnd_clf.fit(X_train,y_train)\n",
    "r = rnd_clf.predict(X_test)\n",
    "\n",
    "print('Confusion Matrix')\n",
    "print(confusion_matrix(y_test,r))\n",
    "print('Accuracy Score: %.3f' %  accuracy_score(y_test, r))\n",
    "print('ROC_AUC Score: %.3f' %  roc_auc_score(y_test, r))\n",
    "print('Mean Square Error: %.3f' %  mean_squared_error(y_test,r))"
   ]
  },
  {
   "cell_type": "markdown",
   "metadata": {},
   "source": [
    "After comparing the results of Ensemble model with the SVM classifier models, I can say that the results of ensemble model are better than the Linear and the Polynomial classifier where the results are better than those. Additionally Ensemble is also better than the RBF model because it will avoid overfitting."
   ]
  },
  {
   "cell_type": "markdown",
   "metadata": {},
   "source": [
    "## Question 2"
   ]
  },
  {
   "cell_type": "code",
   "execution_count": 25,
   "metadata": {},
   "outputs": [],
   "source": [
    "#importing libraries\n",
    "import numpy as np\n",
    "import pandas as pd\n",
    "from sklearn.preprocessing import StandardScaler\n",
    "from sklearn.model_selection import train_test_split\n",
    "from sklearn.neural_network import MLPClassifier\n",
    "from sklearn.metrics import confusion_matrix\n",
    "from sklearn.metrics import accuracy_score\n",
    "from sklearn.preprocessing import OrdinalEncoder\n",
    "from tensorflow import keras\n",
    "from tensorflow.keras.models import Sequential\n",
    "from tensorflow.keras.layers import Dense\n",
    "from tensorflow.keras.layers import Dropout"
   ]
  },
  {
   "cell_type": "code",
   "execution_count": 18,
   "metadata": {},
   "outputs": [],
   "source": [
    "#importing dataset and \n",
    "housing = pd.read_csv(\"housing.csv\")\n",
    "housing.dropna(axis=0, inplace=True)\n",
    "housing_Y = housing.drop(\"ocean_proximity\", axis=1) # drop labels "
   ]
  },
  {
   "cell_type": "code",
   "execution_count": 19,
   "metadata": {},
   "outputs": [],
   "source": [
    "#Select the prediction column\n",
    "housing_target = housing[\"ocean_proximity\"]"
   ]
  },
  {
   "cell_type": "code",
   "execution_count": 20,
   "metadata": {},
   "outputs": [],
   "source": [
    "scaler = StandardScaler()\n",
    "housing_Y_std = scaler.fit_transform(housing_Y)"
   ]
  },
  {
   "cell_type": "code",
   "execution_count": 23,
   "metadata": {},
   "outputs": [
    {
     "data": {
      "text/plain": [
       "((10216, 9), (10217, 9))"
      ]
     },
     "execution_count": 23,
     "metadata": {},
     "output_type": "execute_result"
    }
   ],
   "source": [
    "#splitting data in 50-50 training and testing\n",
    "train_x, test_x, train_y, test_y = train_test_split(housing_Y_std, housing_target, test_size=0.5)\n",
    "train_x.shape, test_x.shape"
   ]
  },
  {
   "cell_type": "code",
   "execution_count": 26,
   "metadata": {},
   "outputs": [
    {
     "data": {
      "text/plain": [
       "MLPClassifier(hidden_layer_sizes=(15, 10, 7), max_iter=500)"
      ]
     },
     "execution_count": 26,
     "metadata": {},
     "output_type": "execute_result"
    }
   ],
   "source": [
    "#creating MLP classifier with three hidden layers of 15, 10 and 7 nodes with max iterations set to 500\n",
    "dnn_clf = MLPClassifier(hidden_layer_sizes=(15,10,7),\n",
    "                       max_iter=500)\n",
    "\n",
    "dnn_clf.fit(train_x, train_y)"
   ]
  },
  {
   "cell_type": "code",
   "execution_count": 27,
   "metadata": {},
   "outputs": [
    {
     "data": {
      "text/plain": [
       "341"
      ]
     },
     "execution_count": 27,
     "metadata": {},
     "output_type": "execute_result"
    }
   ],
   "source": [
    "#checking number of iterations without early stopping \n",
    "dnn_clf.n_iter_"
   ]
  },
  {
   "cell_type": "code",
   "execution_count": 29,
   "metadata": {},
   "outputs": [
    {
     "name": "stdout",
     "output_type": "stream",
     "text": [
      "Confusion Matrix\n",
      "[[4241   98    0   14  142]\n",
      " [ 113 3144    0    9    0]\n",
      " [   0    0    2    0    0]\n",
      " [  23    3    0 1075    8]\n",
      " [ 216    0    0   65 1064]]\n",
      "Accuracy Score: 0.932\n"
     ]
    }
   ],
   "source": [
    "#predicting and checking the confusion matrix along with accuracy score\n",
    "test_y_pred = dnn_clf.predict(test_x)\n",
    "print('Confusion Matrix')\n",
    "print(confusion_matrix(test_y, test_y_pred))\n",
    "print('Accuracy Score: %.3f' %  accuracy_score(test_y, test_y_pred))"
   ]
  },
  {
   "cell_type": "markdown",
   "metadata": {},
   "source": [
    "##### MLP model with early stopping"
   ]
  },
  {
   "cell_type": "code",
   "execution_count": 30,
   "metadata": {},
   "outputs": [
    {
     "data": {
      "text/plain": [
       "MLPClassifier(early_stopping=True, hidden_layer_sizes=(15, 10, 7), max_iter=500)"
      ]
     },
     "execution_count": 30,
     "metadata": {},
     "output_type": "execute_result"
    }
   ],
   "source": [
    "dnn_clf = MLPClassifier(hidden_layer_sizes=(15,10,7),\n",
    "                       max_iter=500,early_stopping=True)\n",
    "\n",
    "dnn_clf.fit(train_x, train_y)"
   ]
  },
  {
   "cell_type": "code",
   "execution_count": 32,
   "metadata": {},
   "outputs": [
    {
     "data": {
      "text/plain": [
       "67"
      ]
     },
     "execution_count": 32,
     "metadata": {},
     "output_type": "execute_result"
    }
   ],
   "source": [
    "#checking number of iterations with early stopping \n",
    "dnn_clf.n_iter_"
   ]
  },
  {
   "cell_type": "code",
   "execution_count": 33,
   "metadata": {},
   "outputs": [
    {
     "name": "stdout",
     "output_type": "stream",
     "text": [
      "Confusion Matrix\n",
      "[[4036   69    0  220  170]\n",
      " [ 143 3096    0   27    0]\n",
      " [   0    0    0    0    2]\n",
      " [ 162   30    0  883   34]\n",
      " [ 325    9    0  121  890]]\n",
      "Accuracy Score: 0.872\n"
     ]
    }
   ],
   "source": [
    "#predicting and checking the confusion matrix along with accuracy score\n",
    "test_y_pred = dnn_clf.predict(test_x)\n",
    "print('Confusion Matrix')\n",
    "print(confusion_matrix(test_y, test_y_pred))\n",
    "print('Accuracy Score: %.3f' %  accuracy_score(test_y, test_y_pred))"
   ]
  },
  {
   "cell_type": "markdown",
   "metadata": {},
   "source": [
    "Based on above results I can conclude that the early stopping hurt the results. "
   ]
  },
  {
   "cell_type": "markdown",
   "metadata": {},
   "source": [
    "#### Keras"
   ]
  },
  {
   "cell_type": "code",
   "execution_count": 36,
   "metadata": {},
   "outputs": [
    {
     "data": {
      "text/plain": [
       "array([[3.],\n",
       "       [3.],\n",
       "       [3.],\n",
       "       [3.],\n",
       "       [3.],\n",
       "       [3.],\n",
       "       [3.],\n",
       "       [3.],\n",
       "       [3.],\n",
       "       [3.]])"
      ]
     },
     "execution_count": 36,
     "metadata": {},
     "output_type": "execute_result"
    }
   ],
   "source": [
    "housing_target = housing[[\"ocean_proximity\"]]\n",
    "ordinal_encoder = OrdinalEncoder()\n",
    "housing_labels_ord = ordinal_encoder.fit_transform(housing_target)\n",
    "housing_labels_ord[:10]"
   ]
  },
  {
   "cell_type": "code",
   "execution_count": 37,
   "metadata": {},
   "outputs": [
    {
     "data": {
      "text/plain": [
       "dtype('int32')"
      ]
     },
     "execution_count": 37,
     "metadata": {},
     "output_type": "execute_result"
    }
   ],
   "source": [
    "#Converting datatype to integer\n",
    "housing_labels_int = housing_labels_ord.astype(int)\n",
    "housing_labels_int.dtype"
   ]
  },
  {
   "cell_type": "code",
   "execution_count": 39,
   "metadata": {},
   "outputs": [],
   "source": [
    "#splitting data in 50-50 training and testing\n",
    "train_x, test_x, train_y, test_y = train_test_split(housing_Y_std, housing_labels_int, test_size=0.5)"
   ]
  },
  {
   "cell_type": "code",
   "execution_count": 40,
   "metadata": {},
   "outputs": [],
   "source": [
    "# fix random seed for reproducibility\n",
    "np.random.seed(55)"
   ]
  },
  {
   "cell_type": "code",
   "execution_count": 41,
   "metadata": {},
   "outputs": [],
   "source": [
    "#Define the model: for multi-class\n",
    "model = Sequential()\n",
    "\n",
    "model.add(Dense(15, input_dim=9, activation='relu'))\n",
    "model.add(Dense(10, activation='relu'))\n",
    "model.add(Dense(7, activation='relu'))\n",
    "\n",
    "#final layer: there has to be 5 nodes with softmax (because we have 5 categories)\n",
    "model.add(Dense(5, activation='softmax'))"
   ]
  },
  {
   "cell_type": "code",
   "execution_count": 45,
   "metadata": {},
   "outputs": [],
   "source": [
    "#Compile model\n",
    "#Optimizer:\n",
    "sgd = keras.optimizers.SGD(learning_rate=0.07)\n",
    "#You need to use \"categorical_crossentropy\" for mutli-class\n",
    "#but since our target is ordinal, we need to use \"sparse_...\"\n",
    "#if it is binary classification, then use binary_crossentropy\n",
    "model.compile(loss='sparse_categorical_crossentropy', optimizer=sgd, metrics=['accuracy'])"
   ]
  },
  {
   "cell_type": "code",
   "execution_count": 46,
   "metadata": {},
   "outputs": [
    {
     "name": "stdout",
     "output_type": "stream",
     "text": [
      "Epoch 1/100\n",
      "103/103 [==============================] - 0s 1ms/step - loss: 0.1988 - accuracy: 0.9182\n",
      "Epoch 2/100\n",
      "103/103 [==============================] - 0s 1ms/step - loss: 0.2184 - accuracy: 0.9119\n",
      "Epoch 3/100\n",
      "103/103 [==============================] - 0s 1ms/step - loss: 0.2003 - accuracy: 0.9177\n",
      "Epoch 4/100\n",
      "103/103 [==============================] - 0s 1ms/step - loss: 0.2028 - accuracy: 0.9170\n",
      "Epoch 5/100\n",
      "103/103 [==============================] - 0s 1ms/step - loss: 0.2032 - accuracy: 0.9159\n",
      "Epoch 6/100\n",
      "103/103 [==============================] - 0s 2ms/step - loss: 0.2123 - accuracy: 0.9139\n",
      "Epoch 7/100\n",
      "103/103 [==============================] - 0s 1ms/step - loss: 0.1985 - accuracy: 0.9189\n",
      "Epoch 8/100\n",
      "103/103 [==============================] - 0s 1ms/step - loss: 0.2004 - accuracy: 0.9167\n",
      "Epoch 9/100\n",
      "103/103 [==============================] - 0s 1ms/step - loss: 0.2009 - accuracy: 0.9153\n",
      "Epoch 10/100\n",
      "103/103 [==============================] - 0s 1ms/step - loss: 0.1901 - accuracy: 0.9218\n",
      "Epoch 11/100\n",
      "103/103 [==============================] - 0s 1ms/step - loss: 0.2108 - accuracy: 0.9134\n",
      "Epoch 12/100\n",
      "103/103 [==============================] - 0s 1ms/step - loss: 0.2042 - accuracy: 0.9194\n",
      "Epoch 13/100\n",
      "103/103 [==============================] - 0s 1ms/step - loss: 0.1973 - accuracy: 0.9191\n",
      "Epoch 14/100\n",
      "103/103 [==============================] - 0s 1ms/step - loss: 0.2000 - accuracy: 0.9188\n",
      "Epoch 15/100\n",
      "103/103 [==============================] - 0s 1ms/step - loss: 0.1955 - accuracy: 0.9200\n",
      "Epoch 16/100\n",
      "103/103 [==============================] - 0s 1ms/step - loss: 0.1931 - accuracy: 0.9200\n",
      "Epoch 17/100\n",
      "103/103 [==============================] - 0s 1ms/step - loss: 0.1870 - accuracy: 0.9204\n",
      "Epoch 18/100\n",
      "103/103 [==============================] - 0s 1ms/step - loss: 0.1938 - accuracy: 0.9193\n",
      "Epoch 19/100\n",
      "103/103 [==============================] - 0s 1ms/step - loss: 0.1903 - accuracy: 0.9199\n",
      "Epoch 20/100\n",
      "103/103 [==============================] - 0s 1ms/step - loss: 0.1977 - accuracy: 0.9179\n",
      "Epoch 21/100\n",
      "103/103 [==============================] - 0s 1ms/step - loss: 0.1916 - accuracy: 0.9205\n",
      "Epoch 22/100\n",
      "103/103 [==============================] - 0s 1ms/step - loss: 0.1993 - accuracy: 0.9168\n",
      "Epoch 23/100\n",
      "103/103 [==============================] - 0s 1ms/step - loss: 0.1865 - accuracy: 0.9208\n",
      "Epoch 24/100\n",
      "103/103 [==============================] - 0s 1ms/step - loss: 0.1887 - accuracy: 0.9211\n",
      "Epoch 25/100\n",
      "103/103 [==============================] - 0s 1ms/step - loss: 0.1965 - accuracy: 0.9183\n",
      "Epoch 26/100\n",
      "103/103 [==============================] - 0s 1ms/step - loss: 0.1906 - accuracy: 0.9219\n",
      "Epoch 27/100\n",
      "103/103 [==============================] - 0s 1ms/step - loss: 0.1878 - accuracy: 0.9223\n",
      "Epoch 28/100\n",
      "103/103 [==============================] - 0s 1ms/step - loss: 0.1952 - accuracy: 0.9184\n",
      "Epoch 29/100\n",
      "103/103 [==============================] - 0s 1ms/step - loss: 0.1801 - accuracy: 0.9253\n",
      "Epoch 30/100\n",
      "103/103 [==============================] - 0s 1ms/step - loss: 0.1877 - accuracy: 0.9237\n",
      "Epoch 31/100\n",
      "103/103 [==============================] - 0s 1ms/step - loss: 0.1918 - accuracy: 0.9207\n",
      "Epoch 32/100\n",
      "103/103 [==============================] - 0s 1ms/step - loss: 0.1894 - accuracy: 0.9210\n",
      "Epoch 33/100\n",
      "103/103 [==============================] - 0s 1ms/step - loss: 0.1885 - accuracy: 0.9214\n",
      "Epoch 34/100\n",
      "103/103 [==============================] - 0s 1ms/step - loss: 0.1851 - accuracy: 0.9262\n",
      "Epoch 35/100\n",
      "103/103 [==============================] - 0s 1ms/step - loss: 0.1898 - accuracy: 0.9212\n",
      "Epoch 36/100\n",
      "103/103 [==============================] - 0s 1ms/step - loss: 0.1830 - accuracy: 0.9237\n",
      "Epoch 37/100\n",
      "103/103 [==============================] - 0s 1ms/step - loss: 0.1798 - accuracy: 0.9234\n",
      "Epoch 38/100\n",
      "103/103 [==============================] - 0s 1ms/step - loss: 0.1860 - accuracy: 0.9253\n",
      "Epoch 39/100\n",
      "103/103 [==============================] - 0s 1ms/step - loss: 0.1942 - accuracy: 0.9190\n",
      "Epoch 40/100\n",
      "103/103 [==============================] - 0s 1ms/step - loss: 0.1873 - accuracy: 0.9226\n",
      "Epoch 41/100\n",
      "103/103 [==============================] - 0s 1ms/step - loss: 0.1729 - accuracy: 0.9287\n",
      "Epoch 42/100\n",
      "103/103 [==============================] - 0s 1ms/step - loss: 0.1802 - accuracy: 0.9233\n",
      "Epoch 43/100\n",
      "103/103 [==============================] - 0s 1ms/step - loss: 0.1892 - accuracy: 0.9203\n",
      "Epoch 44/100\n",
      "103/103 [==============================] - 0s 1ms/step - loss: 0.1861 - accuracy: 0.9242\n",
      "Epoch 45/100\n",
      "103/103 [==============================] - 0s 1ms/step - loss: 0.1754 - accuracy: 0.9263\n",
      "Epoch 46/100\n",
      "103/103 [==============================] - 0s 1ms/step - loss: 0.1773 - accuracy: 0.9264\n",
      "Epoch 47/100\n",
      "103/103 [==============================] - 0s 1ms/step - loss: 0.1830 - accuracy: 0.9251\n",
      "Epoch 48/100\n",
      "103/103 [==============================] - 0s 1ms/step - loss: 0.1850 - accuracy: 0.9238\n",
      "Epoch 49/100\n",
      "103/103 [==============================] - 0s 1ms/step - loss: 0.1819 - accuracy: 0.9235\n",
      "Epoch 50/100\n",
      "103/103 [==============================] - 0s 1ms/step - loss: 0.1755 - accuracy: 0.9272\n",
      "Epoch 51/100\n",
      "103/103 [==============================] - 0s 1ms/step - loss: 0.1868 - accuracy: 0.9226\n",
      "Epoch 52/100\n",
      "103/103 [==============================] - 0s 1ms/step - loss: 0.1854 - accuracy: 0.9205\n",
      "Epoch 53/100\n",
      "103/103 [==============================] - 0s 1ms/step - loss: 0.1777 - accuracy: 0.9243\n",
      "Epoch 54/100\n",
      "103/103 [==============================] - 0s 1ms/step - loss: 0.1848 - accuracy: 0.9230\n",
      "Epoch 55/100\n",
      "103/103 [==============================] - 0s 1ms/step - loss: 0.1756 - accuracy: 0.9276\n",
      "Epoch 56/100\n",
      "103/103 [==============================] - 0s 1ms/step - loss: 0.1800 - accuracy: 0.9242\n",
      "Epoch 57/100\n",
      "103/103 [==============================] - 0s 1ms/step - loss: 0.1782 - accuracy: 0.9257\n",
      "Epoch 58/100\n",
      "103/103 [==============================] - 0s 1ms/step - loss: 0.1788 - accuracy: 0.9252\n",
      "Epoch 59/100\n",
      "103/103 [==============================] - 0s 1ms/step - loss: 0.1815 - accuracy: 0.9246\n",
      "Epoch 60/100\n",
      "103/103 [==============================] - 0s 1ms/step - loss: 0.1729 - accuracy: 0.9267\n",
      "Epoch 61/100\n",
      "103/103 [==============================] - 0s 1ms/step - loss: 0.1848 - accuracy: 0.9248\n",
      "Epoch 62/100\n",
      "103/103 [==============================] - 0s 1ms/step - loss: 0.1772 - accuracy: 0.9246\n",
      "Epoch 63/100\n",
      "103/103 [==============================] - 0s 1ms/step - loss: 0.1762 - accuracy: 0.9266\n",
      "Epoch 64/100\n",
      "103/103 [==============================] - 0s 1ms/step - loss: 0.1698 - accuracy: 0.9293\n",
      "Epoch 65/100\n",
      "103/103 [==============================] - 0s 1ms/step - loss: 0.1793 - accuracy: 0.9269\n",
      "Epoch 66/100\n",
      "103/103 [==============================] - 0s 1ms/step - loss: 0.1766 - accuracy: 0.9270\n",
      "Epoch 67/100\n",
      "103/103 [==============================] - 0s 1ms/step - loss: 0.1691 - accuracy: 0.9289\n",
      "Epoch 68/100\n",
      "103/103 [==============================] - 0s 1ms/step - loss: 0.1804 - accuracy: 0.9288\n",
      "Epoch 69/100\n",
      "103/103 [==============================] - 0s 1ms/step - loss: 0.1692 - accuracy: 0.9296\n",
      "Epoch 70/100\n",
      "103/103 [==============================] - 0s 1ms/step - loss: 0.1778 - accuracy: 0.9271\n",
      "Epoch 71/100\n",
      "103/103 [==============================] - 0s 1ms/step - loss: 0.1746 - accuracy: 0.9276\n",
      "Epoch 72/100\n",
      "103/103 [==============================] - 0s 1ms/step - loss: 0.1913 - accuracy: 0.9206\n",
      "Epoch 73/100\n",
      "103/103 [==============================] - 0s 1ms/step - loss: 0.1772 - accuracy: 0.9267\n",
      "Epoch 74/100\n",
      "103/103 [==============================] - 0s 1ms/step - loss: 0.1752 - accuracy: 0.9246\n",
      "Epoch 75/100\n",
      "103/103 [==============================] - 0s 1ms/step - loss: 0.1685 - accuracy: 0.9287\n",
      "Epoch 76/100\n",
      "103/103 [==============================] - 0s 1ms/step - loss: 0.1913 - accuracy: 0.9205\n",
      "Epoch 77/100\n",
      "103/103 [==============================] - 0s 1ms/step - loss: 0.1671 - accuracy: 0.9290\n",
      "Epoch 78/100\n",
      "103/103 [==============================] - 0s 1ms/step - loss: 0.1703 - accuracy: 0.9326\n",
      "Epoch 79/100\n",
      "103/103 [==============================] - 0s 1ms/step - loss: 0.1753 - accuracy: 0.9277\n",
      "Epoch 80/100\n",
      "103/103 [==============================] - 0s 1ms/step - loss: 0.1717 - accuracy: 0.9283\n",
      "Epoch 81/100\n",
      "103/103 [==============================] - 0s 1ms/step - loss: 0.1693 - accuracy: 0.9289\n",
      "Epoch 82/100\n",
      "103/103 [==============================] - 0s 1ms/step - loss: 0.1727 - accuracy: 0.9300\n",
      "Epoch 83/100\n",
      "103/103 [==============================] - 0s 1ms/step - loss: 0.1736 - accuracy: 0.9284\n",
      "Epoch 84/100\n",
      "103/103 [==============================] - 0s 1ms/step - loss: 0.1697 - accuracy: 0.9266\n",
      "Epoch 85/100\n",
      "103/103 [==============================] - 0s 1ms/step - loss: 0.1653 - accuracy: 0.9309\n",
      "Epoch 86/100\n",
      "103/103 [==============================] - 0s 1ms/step - loss: 0.1625 - accuracy: 0.9324\n",
      "Epoch 87/100\n",
      "103/103 [==============================] - 0s 1ms/step - loss: 0.1761 - accuracy: 0.9256\n",
      "Epoch 88/100\n",
      "103/103 [==============================] - 0s 1ms/step - loss: 0.1820 - accuracy: 0.9265\n",
      "Epoch 89/100\n",
      "103/103 [==============================] - 0s 1ms/step - loss: 0.1669 - accuracy: 0.9288\n",
      "Epoch 90/100\n",
      "103/103 [==============================] - 0s 1ms/step - loss: 0.1675 - accuracy: 0.9320\n",
      "Epoch 91/100\n",
      "103/103 [==============================] - 0s 1ms/step - loss: 0.1716 - accuracy: 0.9287\n",
      "Epoch 92/100\n",
      "103/103 [==============================] - 0s 1ms/step - loss: 0.1763 - accuracy: 0.9283\n",
      "Epoch 93/100\n",
      "103/103 [==============================] - 0s 1ms/step - loss: 0.1872 - accuracy: 0.9250\n",
      "Epoch 94/100\n",
      "103/103 [==============================] - 0s 1ms/step - loss: 0.1636 - accuracy: 0.9297\n",
      "Epoch 95/100\n",
      "103/103 [==============================] - 0s 1ms/step - loss: 0.1597 - accuracy: 0.9349\n",
      "Epoch 96/100\n",
      "103/103 [==============================] - 0s 1ms/step - loss: 0.1778 - accuracy: 0.9283\n",
      "Epoch 97/100\n",
      "103/103 [==============================] - 0s 1ms/step - loss: 0.1668 - accuracy: 0.9286\n",
      "Epoch 98/100\n",
      "103/103 [==============================] - 0s 1ms/step - loss: 0.1646 - accuracy: 0.9322\n",
      "Epoch 99/100\n",
      "103/103 [==============================] - 0s 1ms/step - loss: 0.1749 - accuracy: 0.9283\n",
      "Epoch 100/100\n",
      "103/103 [==============================] - 0s 1ms/step - loss: 0.1731 - accuracy: 0.9268\n"
     ]
    },
    {
     "data": {
      "text/plain": [
       "<keras.callbacks.History at 0x25bb8a73a90>"
      ]
     },
     "execution_count": 46,
     "metadata": {},
     "output_type": "execute_result"
    }
   ],
   "source": [
    "# Fit the model\n",
    "model.fit(train_x, train_y, epochs=100, batch_size=100)"
   ]
  },
  {
   "cell_type": "code",
   "execution_count": 47,
   "metadata": {},
   "outputs": [
    {
     "name": "stdout",
     "output_type": "stream",
     "text": [
      "320/320 [==============================] - 0s 953us/step - loss: 0.2451 - accuracy: 0.9049\n",
      "\n",
      "accuracy: 90.49%\n"
     ]
    }
   ],
   "source": [
    "# evaluate the model\n",
    "scores = model.evaluate(test_x, test_y)\n",
    "print(\"\\n%s: %.2f%%\" % (model.metrics_names[1], scores[1]*100))"
   ]
  },
  {
   "cell_type": "markdown",
   "metadata": {},
   "source": [
    "Based on above results, I can conclude that keras model is worse compared to the MLP classifier model."
   ]
  }
 ],
 "metadata": {
  "kernelspec": {
   "display_name": "Python 3",
   "language": "python",
   "name": "python3"
  },
  "language_info": {
   "codemirror_mode": {
    "name": "ipython",
    "version": 3
   },
   "file_extension": ".py",
   "mimetype": "text/x-python",
   "name": "python",
   "nbconvert_exporter": "python",
   "pygments_lexer": "ipython3",
   "version": "3.9.7"
  }
 },
 "nbformat": 4,
 "nbformat_minor": 4
}
