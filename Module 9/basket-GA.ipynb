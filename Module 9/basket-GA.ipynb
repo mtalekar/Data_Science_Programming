{
 "cells": [
  {
   "cell_type": "code",
   "execution_count": 1,
   "metadata": {
    "collapsed": true
   },
   "outputs": [],
   "source": [
    "\n",
    "# genetic algorithm for learning baskets\n",
    "# input N (number of shows)\n",
    "N = 5\n",
    "# input M (number of chromosomes in the population)\n",
    "M = 10\n",
    "\n",
    "# create two dimensional array of chromosomes\n",
    "# example chromosome is \"D\",\"R\",\"D\",\"I\" meaning first show is D, second is R and so on\n",
    "# two dimensional because rows are different chromosomes, columns are indices for shows\n",
    "# example of what this looks like with three chromosomes in a universe of four shows\n",
    "# D, R, I, D\n",
    "# R, D, D, I\n",
    "# I, I, D, R\n",
    "\n",
    "import numpy as np\n",
    "showbaskets = np.empty([M,N],dtype=str)\n",
    "\n",
    "#fitness array below should store the fitness value of each chromosome\n",
    "fitness=np.empty(M,dtype=float)\n"
   ]
  },
  {
   "cell_type": "code",
   "execution_count": 2,
   "metadata": {
    "collapsed": true
   },
   "outputs": [],
   "source": [
    "import random"
   ]
  },
  {
   "cell_type": "code",
   "execution_count": 3,
   "metadata": {},
   "outputs": [
    {
     "name": "stdout",
     "output_type": "stream",
     "text": [
      "[['D' 'D' 'R' 'R' 'D']\n",
      " ['D' 'D' 'I' 'R' 'I']\n",
      " ['I' 'I' 'R' 'D' 'R']\n",
      " ['D' 'D' 'I' 'D' 'I']\n",
      " ['D' 'D' 'R' 'R' 'I']]\n",
      "[0.77807465 0.85819193 0.42260714 0.94878516 0.92008137]\n"
     ]
    }
   ],
   "source": [
    "#INITIALIZATION OF POPULATION AND FITNESS\n",
    "\n",
    "#randomly assign each show as either \"D\",\"R\" or \"I\" for all chromosomes\n",
    "\n",
    "aff=[\"D\",\"R\",\"I\"]\n",
    "\n",
    "for chrome in range(M):\n",
    "    for show in range(N):\n",
    "        showbaskets[chrome,show] = aff[random.randint(0,2)]\n",
    "\n",
    "\n",
    "def calc_fitness(showbaskets,M,N,i):\n",
    "    #calculate fitness of i-th chromosome based on how good the basket assignment is\n",
    "    #i am putting in random values for now\n",
    "    #this is the function that assigns userIDs to D/R/I\n",
    "    #and then compute all the aggregates and return alpha+beta, quite straightfoward\n",
    "    fit = random.uniform(0,1)\n",
    "    return fit\n",
    "\n",
    "\n",
    "for i in range(M):\n",
    "    fitness[i]=calc_fitness(showbaskets,M,N,i)\n",
    "        \n",
    "print(showbaskets[:5])\n",
    "print(fitness[:5])\n",
    "\n",
    "\n"
   ]
  },
  {
   "cell_type": "code",
   "execution_count": 4,
   "metadata": {
    "collapsed": true
   },
   "outputs": [],
   "source": [
    "def random_fitness_weighted_index(fitness):\n",
    "    total=sum(fitness)\n",
    "    x = random.uniform(0,total)\n",
    "    done = current_sum = i = 0\n",
    "    \n",
    "    while (done != 1):\n",
    "        current_sum = current_sum + fitness[i]\n",
    "        if (current_sum >= x):\n",
    "            done = 1\n",
    "        else:\n",
    "            i=i+1\n",
    "    return i\n"
   ]
  },
  {
   "cell_type": "code",
   "execution_count": 5,
   "metadata": {
    "collapsed": true
   },
   "outputs": [],
   "source": [
    "def crossover_1(showbaskets,M,N,K,fitness):\n",
    "    \n",
    "    #pick two rows for crossover proportional to their fitness\n",
    "    row1 = random_fitness_weighted_index(fitness)\n",
    "    row2 = random_fitness_weighted_index(fitness)\n",
    "    while (row2 == row1):\n",
    "        row2 = random_fitness_weighted_index(fitness)\n",
    "        \n",
    "    \n",
    "    #pick K random points 1 <= K < N and crossover the material\n",
    "    for i in range(K):\n",
    "        pos=random.randint(0,N-1)\n",
    "        temp = showbaskets[row1,pos]\n",
    "        showbaskets[row1,pos] = showbaskets[row2,pos]\n",
    "        showbaskets[row2,pos] = temp\n",
    "        \n",
    "    # update fitness values of the chromosomes after crossover operation is done\n",
    "    fitness[row1]=calc_fitness(showbaskets,M,N,row1)\n",
    "    fitness[row2]=calc_fitness(showbaskets,M,N,row2)"
   ]
  },
  {
   "cell_type": "code",
   "execution_count": 6,
   "metadata": {
    "collapsed": true
   },
   "outputs": [],
   "source": [
    "def mutation(showbaskets,M,N,K,fitness):\n",
    "    #pick K random points in ONE chromosome and randomize them\n",
    "    row=random.randint(0,M-1)\n",
    "    aff[random.randint(0,2)]\n",
    "    for i in range(K):\n",
    "        pos=random.randint(0,N-1)\n",
    "        showbaskets[row,pos] = aff[random.randint(0,2)]\n",
    "        \n",
    "    # update fitness values of the chromosome after mutation operation is done\n",
    "    fitness[row]=calc_fitness(showbaskets,M,N,row)"
   ]
  },
  {
   "cell_type": "code",
   "execution_count": 7,
   "metadata": {},
   "outputs": [
    {
     "name": "stdout",
     "output_type": "stream",
     "text": [
      "[['I' 'D' 'R' 'R' 'R']\n",
      " ['D' 'D' 'I' 'I' 'D']\n",
      " ['D' 'I' 'I' 'D' 'I']\n",
      " ['I' 'D' 'R' 'I' 'R']\n",
      " ['R' 'D' 'I' 'I' 'I']]\n",
      "[0.07334824 0.30806069 0.31938478 0.0079752  0.9306718 ]\n"
     ]
    }
   ],
   "source": [
    "ITER = 1000\n",
    "#run the genetic algorithm for 1000 iterations\n",
    "\n",
    "for i in range(ITER):\n",
    "    crossover_1(showbaskets,M,N,2,fitness)\n",
    "    if (random.uniform(0,1) > 0.9):\n",
    "        mutation(showbaskets,M,N,2,fitness)\n",
    "print(showbaskets[:5])\n",
    "print(fitness[:5])"
   ]
  },
  {
   "cell_type": "code",
   "execution_count": 8,
   "metadata": {},
   "outputs": [
    {
     "name": "stdout",
     "output_type": "stream",
     "text": [
      "D-Basket  1  \n",
      "Show  1\n",
      "R-Basket  1  \n",
      "Show  2\n",
      "Show  4\n",
      "\n",
      "D-Basket  2  \n",
      "Show  0\n",
      "Show  1\n",
      "Show  3\n",
      "Show  4\n",
      "R-Basket  2  \n",
      "\n",
      "D-Basket  3  \n",
      "Show  1\n",
      "R-Basket  3  \n",
      "Show  2\n",
      "Show  3\n",
      "\n"
     ]
    }
   ],
   "source": [
    "# NOW THE FUN PART. SELECT THE ROWS CORRESPONDING TO HIGHEST FITNESS\n",
    "# Pick the top-k chromosomes, select the shows for each and output\n",
    "\n",
    "sorted_indices = np.argsort(fitness)\n",
    "# print top-k values\n",
    "k=3\n",
    "for i in range(k):\n",
    "    print(\"D-Basket \",i+1,\" \")\n",
    "    for j in range(N):\n",
    "         if showbaskets[sorted_indices[i],j]==\"D\":\n",
    "                print(\"Show \",j)\n",
    "    print(\"R-Basket \",i+1,\" \")\n",
    "    for j in range(N):\n",
    "         if showbaskets[sorted_indices[i],j]==\"R\":\n",
    "                print(\"Show \",j) \n",
    "    print()\n",
    "   \n",
    "    "
   ]
  },
  {
   "cell_type": "code",
   "execution_count": null,
   "metadata": {
    "collapsed": true
   },
   "outputs": [],
   "source": []
  },
  {
   "cell_type": "code",
   "execution_count": null,
   "metadata": {
    "collapsed": true
   },
   "outputs": [],
   "source": []
  }
 ],
 "metadata": {
  "kernelspec": {
   "display_name": "Python 3",
   "language": "python",
   "name": "python3"
  },
  "language_info": {
   "codemirror_mode": {
    "name": "ipython",
    "version": 3
   },
   "file_extension": ".py",
   "mimetype": "text/x-python",
   "name": "python",
   "nbconvert_exporter": "python",
   "pygments_lexer": "ipython3",
   "version": "3.6.1"
  }
 },
 "nbformat": 4,
 "nbformat_minor": 2
}
