{
 "cells": [
  {
   "cell_type": "markdown",
   "metadata": {},
   "source": [
    "# Dependencies"
   ]
  },
  {
   "cell_type": "code",
   "execution_count": 1,
   "metadata": {},
   "outputs": [
    {
     "name": "stderr",
     "output_type": "stream",
     "text": [
      "Using TensorFlow backend.\n",
      "/Users/bp/anaconda/lib/python3.6/site-packages/tensorflow/python/framework/dtypes.py:526: FutureWarning: Passing (type, 1) or '1type' as a synonym of type is deprecated; in a future version of numpy, it will be understood as (type, (1,)) / '(1,)type'.\n",
      "  _np_qint8 = np.dtype([(\"qint8\", np.int8, 1)])\n",
      "/Users/bp/anaconda/lib/python3.6/site-packages/tensorflow/python/framework/dtypes.py:527: FutureWarning: Passing (type, 1) or '1type' as a synonym of type is deprecated; in a future version of numpy, it will be understood as (type, (1,)) / '(1,)type'.\n",
      "  _np_quint8 = np.dtype([(\"quint8\", np.uint8, 1)])\n",
      "/Users/bp/anaconda/lib/python3.6/site-packages/tensorflow/python/framework/dtypes.py:528: FutureWarning: Passing (type, 1) or '1type' as a synonym of type is deprecated; in a future version of numpy, it will be understood as (type, (1,)) / '(1,)type'.\n",
      "  _np_qint16 = np.dtype([(\"qint16\", np.int16, 1)])\n",
      "/Users/bp/anaconda/lib/python3.6/site-packages/tensorflow/python/framework/dtypes.py:529: FutureWarning: Passing (type, 1) or '1type' as a synonym of type is deprecated; in a future version of numpy, it will be understood as (type, (1,)) / '(1,)type'.\n",
      "  _np_quint16 = np.dtype([(\"quint16\", np.uint16, 1)])\n",
      "/Users/bp/anaconda/lib/python3.6/site-packages/tensorflow/python/framework/dtypes.py:530: FutureWarning: Passing (type, 1) or '1type' as a synonym of type is deprecated; in a future version of numpy, it will be understood as (type, (1,)) / '(1,)type'.\n",
      "  _np_qint32 = np.dtype([(\"qint32\", np.int32, 1)])\n",
      "/Users/bp/anaconda/lib/python3.6/site-packages/tensorflow/python/framework/dtypes.py:535: FutureWarning: Passing (type, 1) or '1type' as a synonym of type is deprecated; in a future version of numpy, it will be understood as (type, (1,)) / '(1,)type'.\n",
      "  np_resource = np.dtype([(\"resource\", np.ubyte, 1)])\n"
     ]
    }
   ],
   "source": [
    "import keras \n",
    "from keras import layers\n",
    "from keras.layers import Input, Dense, Conv2D, MaxPooling2D, UpSampling2D\n",
    "from keras.models import Model, Sequential\n",
    "from keras.datasets import mnist\n",
    "from keras import backend as K\n",
    "from keras.preprocessing.image import img_to_array\n",
    "from keras.applications.vgg19 import VGG19, preprocess_input\n",
    "from keras.utils import np_utils\n",
    "\n",
    "import sklearn\n",
    "from sklearn.pipeline import Pipeline\n",
    "from sklearn.model_selection import GridSearchCV, train_test_split, cross_validate\n",
    "from sklearn.metrics import confusion_matrix, accuracy_score, auc, roc_auc_score, roc_curve\n",
    "from sklearn.externals import joblib\n",
    "from sklearn.preprocessing import LabelEncoder\n",
    "\n",
    "from random import shuffle\n",
    "\n",
    "import numpy as np\n",
    "import pandas as pd\n",
    "import matplotlib\n",
    "%matplotlib inline\n",
    "import matplotlib.pyplot as plt\n",
    "\n",
    "import os\n",
    "import cv2"
   ]
  },
  {
   "cell_type": "code",
   "execution_count": 2,
   "metadata": {},
   "outputs": [
    {
     "name": "stdout",
     "output_type": "stream",
     "text": [
      "Keras version: 2.3.1\n",
      "Sklearn version: 0.20.3\n",
      "Pandas version: 0.24.2\n",
      "Numpy version: 1.17.3\n",
      "Matplotlib version: 2.2.2\n"
     ]
    }
   ],
   "source": [
    "print(\"Keras version:\", keras.__version__)\n",
    "print(\"Sklearn version:\", sklearn.__version__)\n",
    "print(\"Pandas version:\", pd.__version__)\n",
    "print(\"Numpy version:\", np.__version__)\n",
    "print(\"Matplotlib version:\", matplotlib.__version__)"
   ]
  },
  {
   "cell_type": "markdown",
   "metadata": {},
   "source": [
    "# Load Data"
   ]
  },
  {
   "cell_type": "code",
   "execution_count": 4,
   "metadata": {
    "collapsed": true
   },
   "outputs": [],
   "source": [
    "#Import the MNIST dataset\n",
    "(X_train, _), (X_test, _) = mnist.load_data()\n",
    "X_train = X_train.astype('float32')/255.0\n",
    "X_test = X_test.astype('float32')/255.0"
   ]
  },
  {
   "cell_type": "code",
   "execution_count": 5,
   "metadata": {
    "collapsed": true
   },
   "outputs": [],
   "source": [
    "from sklearn.model_selection import train_test_split\n",
    "X_train, X_test2 = train_test_split(X_train, test_size=0.8, random_state=42)"
   ]
  },
  {
   "cell_type": "code",
   "execution_count": 6,
   "metadata": {},
   "outputs": [
    {
     "name": "stdout",
     "output_type": "stream",
     "text": [
      "Training data shape:  (12000, 28, 28)\n",
      "Testing data shape:  (10000, 28, 28)\n"
     ]
    }
   ],
   "source": [
    "print(\"Training data shape: \", X_train.shape)\n",
    "\n",
    "print(\"Testing data shape: \", X_test.shape)"
   ]
  },
  {
   "cell_type": "markdown",
   "metadata": {},
   "source": [
    "# Build the Models"
   ]
  },
  {
   "cell_type": "code",
   "execution_count": 7,
   "metadata": {},
   "outputs": [
    {
     "name": "stdout",
     "output_type": "stream",
     "text": [
      "Training data_MLP shape:  (12000, 784)\n",
      "Testing data_MLP shape:  (10000, 784)\n",
      "Training data shape:  (12000, 28, 28, 1)\n",
      "Testing data shape:  (10000, 28, 28, 1)\n"
     ]
    }
   ],
   "source": [
    "#Shape the data\n",
    "\n",
    "X_train_MLP = X_train.reshape((X_train.shape[0], -1))\n",
    "X_test_MLP = X_test.reshape((X_test.shape[0], -1))\n",
    "print(\"Training data_MLP shape: \", X_train_MLP.shape)\n",
    "print(\"Testing data_MLP shape: \", X_test_MLP.shape)\n",
    "\n",
    "X_train = X_train[..., np.newaxis]\n",
    "X_test = X_test[..., np.newaxis]\n",
    "print(\"Training data shape: \", X_train.shape)\n",
    "print(\"Testing data shape: \", X_test.shape)"
   ]
  },
  {
   "cell_type": "code",
   "execution_count": 11,
   "metadata": {},
   "outputs": [],
   "source": [
    "INPUT_SIZE = 784\n",
    "HIDDEN_ONE = 256\n",
    "HIDDEN_TWO = 128\n",
    "HIDDEN_THREE = 64\n",
    "ENCODING_SIZE = 32\n",
    "\n",
    "input_MLP = Input(shape=(INPUT_SIZE,))\n",
    "MLP_encode = Dense(HIDDEN_ONE, activation='relu')(input_MLP)\n",
    "MLP_encode = Dense(HIDDEN_TWO, activation='relu')(MLP_encode)\n",
    "MLP_encode = Dense(HIDDEN_THREE, activation='relu')(MLP_encode)\n",
    "\n",
    "MLP_encode = Dense(ENCODING_SIZE, activation='relu')(MLP_encode)\n",
    "\n",
    "MLP_decode = Dense(HIDDEN_THREE, activation='relu')(MLP_encode)\n",
    "MLP_decode = Dense(HIDDEN_TWO, activation='relu')(MLP_decode)\n",
    "MLP_decode = Dense(HIDDEN_ONE, activation='relu')(MLP_decode)\n",
    "MLP_decode = Dense(INPUT_SIZE, activation='relu')(MLP_decode)\n",
    "autoencoder_MLP = Model(input_MLP, MLP_decode)"
   ]
  },
  {
   "cell_type": "code",
   "execution_count": 12,
   "metadata": {
    "scrolled": false
   },
   "outputs": [
    {
     "name": "stdout",
     "output_type": "stream",
     "text": [
      "Train on 9600 samples, validate on 2400 samples\n",
      "Epoch 1/10\n",
      "9600/9600 [==============================] - 1s 135us/step - loss: 0.0544 - val_loss: 0.0346\n",
      "Epoch 2/10\n",
      "9600/9600 [==============================] - 1s 99us/step - loss: 0.0309 - val_loss: 0.0279\n",
      "Epoch 3/10\n",
      "9600/9600 [==============================] - 1s 99us/step - loss: 0.0261 - val_loss: 0.0247\n",
      "Epoch 4/10\n",
      "9600/9600 [==============================] - 1s 97us/step - loss: 0.0234 - val_loss: 0.0228\n",
      "Epoch 5/10\n",
      "9600/9600 [==============================] - 1s 97us/step - loss: 0.0218 - val_loss: 0.0217\n",
      "Epoch 6/10\n",
      "9600/9600 [==============================] - 1s 98us/step - loss: 0.0207 - val_loss: 0.0207\n",
      "Epoch 7/10\n",
      "9600/9600 [==============================] - 1s 98us/step - loss: 0.0197 - val_loss: 0.0198\n",
      "Epoch 8/10\n",
      "9600/9600 [==============================] - 1s 110us/step - loss: 0.0191 - val_loss: 0.0192\n",
      "Epoch 9/10\n",
      "9600/9600 [==============================] - 1s 98us/step - loss: 0.0184 - val_loss: 0.0186\n",
      "Epoch 10/10\n",
      "9600/9600 [==============================] - 1s 98us/step - loss: 0.0179 - val_loss: 0.0181\n"
     ]
    }
   ],
   "source": [
    "autoencoder_MLP.compile(optimizer='adam',loss='mean_squared_error')\n",
    "\n",
    "autoencoder_MLP.fit(X_train_MLP,\n",
    "                   X_train_MLP,\n",
    "                   epochs=10,\n",
    "                   batch_size=64,\n",
    "                   shuffle=True,\n",
    "                   validation_split=0.2)\n",
    "\n",
    "decoded_MLP = autoencoder_MLP.predict(X_test_MLP)"
   ]
  },
  {
   "cell_type": "code",
   "execution_count": 13,
   "metadata": {},
   "outputs": [
    {
     "data": {
      "image/png": "[encoded data removed]",
      "text/plain": [
       "<Figure size 1440x288 with 20 Axes>"
      ]
     },
     "metadata": {},
     "output_type": "display_data"
    }
   ],
   "source": [
    "plt.figure(figsize=(20,4))\n",
    "for i in range(10):\n",
    "    plt.subplot(2,10,i+1)\n",
    "    plt.imshow(X_test_MLP[i].reshape(28,28))\n",
    "    plt.gray()\n",
    "    plt.axis('off')\n",
    "    \n",
    "    plt.subplot(2,10,i+1+10)\n",
    "    plt.imshow(decoded_MLP[i].reshape(28,28))\n",
    "    plt.gray()\n",
    "    plt.axis('off')\n",
    "\n",
    "plt.tight_layout()\n",
    "plt.show()"
   ]
  },
  {
   "cell_type": "code",
   "execution_count": null,
   "metadata": {
    "collapsed": true
   },
   "outputs": [],
   "source": []
  }
 ],
 "metadata": {
  "kernelspec": {
   "display_name": "Python 3",
   "language": "python",
   "name": "python3"
  },
  "language_info": {
   "codemirror_mode": {
    "name": "ipython",
    "version": 3
   },
   "file_extension": ".py",
   "mimetype": "text/x-python",
   "name": "python",
   "nbconvert_exporter": "python",
   "pygments_lexer": "ipython3",
   "version": "3.6.3"
  }
 },
 "nbformat": 4,
 "nbformat_minor": 2
}
