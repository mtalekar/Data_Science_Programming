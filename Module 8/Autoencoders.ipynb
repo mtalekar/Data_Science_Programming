{
 "cells": [
  {
   "cell_type": "markdown",
   "metadata": {},
   "source": [
    "# Dependencies"
   ]
  },
  {
   "cell_type": "code",
   "execution_count": 12,
   "metadata": {},
   "outputs": [],
   "source": [
    "import keras \n",
    "from keras import layers\n",
    "from keras.layers import Input, Dense, Conv2D, MaxPooling2D, UpSampling2D\n",
    "from keras.models import Model, Sequential\n",
    "from keras.datasets import mnist\n",
    "from keras import backend as K\n",
    "from keras.preprocessing.image import img_to_array\n",
    "from keras.applications.vgg19 import VGG19, preprocess_input\n",
    "from keras.utils import np_utils\n",
    "\n",
    "import sklearn\n",
    "from sklearn.pipeline import Pipeline\n",
    "from sklearn.model_selection import GridSearchCV, train_test_split, cross_validate\n",
    "from sklearn.metrics import confusion_matrix, accuracy_score, auc, roc_auc_score, roc_curve\n",
    "from sklearn.externals import joblib\n",
    "from sklearn.preprocessing import LabelEncoder\n",
    "\n",
    "from imblearn.over_sampling import RandomOverSampler, SMOTE\n",
    "from imblearn.under_sampling import RandomUnderSampler\n",
    "\n",
    "from random import shuffle\n",
    "\n",
    "import numpy as np\n",
    "import pandas as pd\n",
    "import matplotlib\n",
    "%matplotlib inline\n",
    "import matplotlib.pyplot as plt\n",
    "\n",
    "import os\n",
    "import cv2"
   ]
  },
  {
   "cell_type": "code",
   "execution_count": 2,
   "metadata": {},
   "outputs": [
    {
     "name": "stdout",
     "output_type": "stream",
     "text": [
      "Keras version: 2.3.1\n",
      "Sklearn version: 0.21.3\n",
      "Pandas version: 0.25.2\n",
      "Numpy version: 1.17.2\n",
      "Matplotlib version: 3.1.1\n"
     ]
    }
   ],
   "source": [
    "print(\"Keras version:\", keras.__version__)\n",
    "print(\"Sklearn version:\", sklearn.__version__)\n",
    "print(\"Pandas version:\", pd.__version__)\n",
    "print(\"Numpy version:\", np.__version__)\n",
    "print(\"Matplotlib version:\", matplotlib.__version__)"
   ]
  },
  {
   "cell_type": "markdown",
   "metadata": {},
   "source": [
    "# Load Data"
   ]
  },
  {
   "cell_type": "code",
   "execution_count": 3,
   "metadata": {},
   "outputs": [],
   "source": [
    "#Import the MNIST dataset\n",
    "(X_train, _), (X_test, _) = mnist.load_data()\n",
    "X_train = X_train.astype('float32')/255.0\n",
    "X_test = X_test.astype('float32')/255.0"
   ]
  },
  {
   "cell_type": "code",
   "execution_count": 4,
   "metadata": {},
   "outputs": [
    {
     "name": "stdout",
     "output_type": "stream",
     "text": [
      "Training data shape:  (60000, 28, 28)\n",
      "Testing data shape:  (10000, 28, 28)\n"
     ]
    }
   ],
   "source": [
    "print(\"Training data shape: \", X_train.shape)\n",
    "\n",
    "print(\"Testing data shape: \", X_test.shape)"
   ]
  },
  {
   "cell_type": "markdown",
   "metadata": {},
   "source": [
    "# Build the Models"
   ]
  },
  {
   "cell_type": "code",
   "execution_count": 5,
   "metadata": {},
   "outputs": [
    {
     "name": "stdout",
     "output_type": "stream",
     "text": [
      "Training data_MLP shape:  (60000, 784)\n",
      "Testing data_MLP shape:  (10000, 784)\n",
      "Training data shape:  (60000, 28, 28, 1)\n",
      "Testing data shape:  (10000, 28, 28, 1)\n"
     ]
    }
   ],
   "source": [
    "#Shape the data\n",
    "\n",
    "X_train_MLP = X_train.reshape((X_train.shape[0], -1))\n",
    "X_test_MLP = X_test.reshape((X_test.shape[0], -1))\n",
    "print(\"Training data_MLP shape: \", X_train_MLP.shape)\n",
    "print(\"Testing data_MLP shape: \", X_test_MLP.shape)\n",
    "\n",
    "X_train = X_train[..., np.newaxis]\n",
    "X_test = X_test[..., np.newaxis]\n",
    "print(\"Training data shape: \", X_train.shape)\n",
    "print(\"Testing data shape: \", X_test.shape)"
   ]
  },
  {
   "cell_type": "code",
   "execution_count": 8,
   "metadata": {},
   "outputs": [],
   "source": [
    "INPUT_SIZE = 784\n",
    "HIDDEN_ONE = 512\n",
    "HIDDEN_TWO = 256\n",
    "HIDDEN_THREE = 128\n",
    "ENCODING_SIZE = 64\n",
    "\n",
    "input_MLP = Input(shape=(INPUT_SIZE,))\n",
    "MLP_encode = Dense(HIDDEN_ONE, activation='relu')(input_MLP)\n",
    "MLP_encode = Dense(HIDDEN_TWO, activation='relu')(MLP_encode)\n",
    "MLP_encode = Dense(HIDDEN_THREE, activation='relu')(MLP_encode)\n",
    "\n",
    "MLP_encode = Dense(ENCODING_SIZE, activation='relu')(MLP_encode)\n",
    "\n",
    "MLP_decode = Dense(HIDDEN_THREE, activation='relu')(MLP_encode)\n",
    "MLP_decode = Dense(HIDDEN_TWO, activation='relu')(MLP_decode)\n",
    "MLP_decode = Dense(HIDDEN_ONE, activation='relu')(MLP_decode)\n",
    "MLP_decode = Dense(INPUT_SIZE, activation='relu')(MLP_decode)\n",
    "autoencoder_MLP = Model(input_MLP, MLP_decode)"
   ]
  },
  {
   "cell_type": "code",
   "execution_count": 13,
   "metadata": {
    "scrolled": false
   },
   "outputs": [
    {
     "name": "stdout",
     "output_type": "stream",
     "text": [
      "Train on 48000 samples, validate on 12000 samples\n",
      "Epoch 1/50\n",
      "48000/48000 [==============================] - 34s 699us/step - loss: 0.0061 - accuracy: 0.0181 - val_loss: 0.0063 - val_accuracy: 0.0153\n",
      "Epoch 2/50\n",
      "48000/48000 [==============================] - 31s 636us/step - loss: 0.0059 - accuracy: 0.0180 - val_loss: 0.0064 - val_accuracy: 0.0179\n",
      "Epoch 3/50\n",
      "48000/48000 [==============================] - 31s 636us/step - loss: 0.0059 - accuracy: 0.0184 - val_loss: 0.0062 - val_accuracy: 0.0166\n",
      "Epoch 4/50\n",
      "48000/48000 [==============================] - 32s 665us/step - loss: 0.0059 - accuracy: 0.0180 - val_loss: 0.0062 - val_accuracy: 0.0186\n",
      "Epoch 5/50\n",
      "48000/48000 [==============================] - 32s 671us/step - loss: 0.0059 - accuracy: 0.0191 - val_loss: 0.0063 - val_accuracy: 0.0188\n",
      "Epoch 6/50\n",
      "48000/48000 [==============================] - 33s 685us/step - loss: 0.0058 - accuracy: 0.0193 - val_loss: 0.0063 - val_accuracy: 0.0210\n",
      "Epoch 7/50\n",
      "48000/48000 [==============================] - 32s 674us/step - loss: 0.0058 - accuracy: 0.0188 - val_loss: 0.0063 - val_accuracy: 0.0170\n",
      "Epoch 8/50\n",
      "48000/48000 [==============================] - 26s 545us/step - loss: 0.0058 - accuracy: 0.0190 - val_loss: 0.0063 - val_accuracy: 0.0204\n",
      "Epoch 9/50\n",
      "48000/48000 [==============================] - 16s 334us/step - loss: 0.0058 - accuracy: 0.0184 - val_loss: 0.0061 - val_accuracy: 0.0162\n",
      "Epoch 10/50\n",
      "48000/48000 [==============================] - 20s 415us/step - loss: 0.0058 - accuracy: 0.0185 - val_loss: 0.0064 - val_accuracy: 0.0165\n",
      "Epoch 11/50\n",
      "48000/48000 [==============================] - 23s 478us/step - loss: 0.0058 - accuracy: 0.0181 - val_loss: 0.0062 - val_accuracy: 0.0168\n",
      "Epoch 12/50\n",
      "48000/48000 [==============================] - 24s 508us/step - loss: 0.0057 - accuracy: 0.0197 - val_loss: 0.0062 - val_accuracy: 0.0183\n",
      "Epoch 13/50\n",
      "48000/48000 [==============================] - 20s 415us/step - loss: 0.0058 - accuracy: 0.0195 - val_loss: 0.0062 - val_accuracy: 0.0193\n",
      "Epoch 14/50\n",
      "48000/48000 [==============================] - 18s 379us/step - loss: 0.0057 - accuracy: 0.0185 - val_loss: 0.0062 - val_accuracy: 0.0211\n",
      "Epoch 15/50\n",
      "48000/48000 [==============================] - 18s 381us/step - loss: 0.0057 - accuracy: 0.0196 - val_loss: 0.0063 - val_accuracy: 0.0198\n",
      "Epoch 16/50\n",
      "48000/48000 [==============================] - 19s 395us/step - loss: 0.0057 - accuracy: 0.0187 - val_loss: 0.0061 - val_accuracy: 0.0176\n",
      "Epoch 17/50\n",
      "48000/48000 [==============================] - 21s 431us/step - loss: 0.0057 - accuracy: 0.0198 - val_loss: 0.0061 - val_accuracy: 0.0153\n",
      "Epoch 18/50\n",
      "48000/48000 [==============================] - 19s 404us/step - loss: 0.0057 - accuracy: 0.0195 - val_loss: 0.0063 - val_accuracy: 0.0159\n",
      "Epoch 19/50\n",
      "48000/48000 [==============================] - 21s 440us/step - loss: 0.0057 - accuracy: 0.0191 - val_loss: 0.0063 - val_accuracy: 0.0191\n",
      "Epoch 20/50\n",
      "48000/48000 [==============================] - 20s 415us/step - loss: 0.0057 - accuracy: 0.0187 - val_loss: 0.0062 - val_accuracy: 0.0150\n",
      "Epoch 21/50\n",
      "48000/48000 [==============================] - 20s 411us/step - loss: 0.0057 - accuracy: 0.0191 - val_loss: 0.0060 - val_accuracy: 0.0164\n",
      "Epoch 22/50\n",
      "48000/48000 [==============================] - 21s 433us/step - loss: 0.0057 - accuracy: 0.0192 - val_loss: 0.0060 - val_accuracy: 0.0168\n",
      "Epoch 23/50\n",
      "48000/48000 [==============================] - 22s 453us/step - loss: 0.0056 - accuracy: 0.0183 - val_loss: 0.0062 - val_accuracy: 0.0186\n",
      "Epoch 24/50\n",
      "48000/48000 [==============================] - 20s 423us/step - loss: 0.0057 - accuracy: 0.0192 - val_loss: 0.0063 - val_accuracy: 0.0224\n",
      "Epoch 25/50\n",
      "48000/48000 [==============================] - 21s 437us/step - loss: 0.0056 - accuracy: 0.0198 - val_loss: 0.0064 - val_accuracy: 0.0189\n",
      "Epoch 26/50\n",
      "48000/48000 [==============================] - 21s 431us/step - loss: 0.0056 - accuracy: 0.0190 - val_loss: 0.0060 - val_accuracy: 0.0207\n",
      "Epoch 27/50\n",
      "48000/48000 [==============================] - 21s 441us/step - loss: 0.0056 - accuracy: 0.0199 - val_loss: 0.0059 - val_accuracy: 0.0161\n",
      "Epoch 28/50\n",
      "48000/48000 [==============================] - 20s 421us/step - loss: 0.0056 - accuracy: 0.0192 - val_loss: 0.0062 - val_accuracy: 0.0159\n",
      "Epoch 29/50\n",
      "48000/48000 [==============================] - 20s 420us/step - loss: 0.0056 - accuracy: 0.0195 - val_loss: 0.0060 - val_accuracy: 0.0169\n",
      "Epoch 30/50\n",
      "48000/48000 [==============================] - 20s 423us/step - loss: 0.0056 - accuracy: 0.0201 - val_loss: 0.0060 - val_accuracy: 0.0187\n",
      "Epoch 31/50\n",
      "48000/48000 [==============================] - 21s 432us/step - loss: 0.0056 - accuracy: 0.0198 - val_loss: 0.0061 - val_accuracy: 0.0187\n",
      "Epoch 32/50\n",
      "48000/48000 [==============================] - 21s 441us/step - loss: 0.0056 - accuracy: 0.0199 - val_loss: 0.0060 - val_accuracy: 0.0182\n",
      "Epoch 33/50\n",
      "48000/48000 [==============================] - 21s 435us/step - loss: 0.0056 - accuracy: 0.0191 - val_loss: 0.0060 - val_accuracy: 0.0222\n",
      "Epoch 34/50\n",
      "48000/48000 [==============================] - 21s 440us/step - loss: 0.0056 - accuracy: 0.0191 - val_loss: 0.0059 - val_accuracy: 0.0182\n",
      "Epoch 35/50\n",
      "48000/48000 [==============================] - 21s 428us/step - loss: 0.0055 - accuracy: 0.0200 - val_loss: 0.0060 - val_accuracy: 0.0175\n",
      "Epoch 36/50\n",
      "48000/48000 [==============================] - 21s 429us/step - loss: 0.0055 - accuracy: 0.0190 - val_loss: 0.0060 - val_accuracy: 0.0184\n",
      "Epoch 37/50\n",
      "48000/48000 [==============================] - 21s 430us/step - loss: 0.0055 - accuracy: 0.0194 - val_loss: 0.0060 - val_accuracy: 0.0175\n",
      "Epoch 38/50\n",
      "48000/48000 [==============================] - 21s 428us/step - loss: 0.0055 - accuracy: 0.0197 - val_loss: 0.0060 - val_accuracy: 0.0268\n",
      "Epoch 39/50\n",
      "48000/48000 [==============================] - 21s 441us/step - loss: 0.0055 - accuracy: 0.0205 - val_loss: 0.0060 - val_accuracy: 0.0196\n",
      "Epoch 40/50\n",
      "48000/48000 [==============================] - 21s 431us/step - loss: 0.0055 - accuracy: 0.0197 - val_loss: 0.0060 - val_accuracy: 0.0203\n",
      "Epoch 41/50\n",
      "48000/48000 [==============================] - 20s 407us/step - loss: 0.0055 - accuracy: 0.0191 - val_loss: 0.0060 - val_accuracy: 0.0187\n",
      "Epoch 42/50\n",
      "48000/48000 [==============================] - 20s 411us/step - loss: 0.0055 - accuracy: 0.0198 - val_loss: 0.0060 - val_accuracy: 0.0272\n",
      "Epoch 43/50\n",
      "48000/48000 [==============================] - 20s 419us/step - loss: 0.0055 - accuracy: 0.0202 - val_loss: 0.0059 - val_accuracy: 0.0162\n",
      "Epoch 44/50\n",
      "48000/48000 [==============================] - 20s 407us/step - loss: 0.0055 - accuracy: 0.0201 - val_loss: 0.0060 - val_accuracy: 0.0206\n",
      "Epoch 45/50\n",
      "48000/48000 [==============================] - 19s 405us/step - loss: 0.0055 - accuracy: 0.0190 - val_loss: 0.0060 - val_accuracy: 0.0179\n",
      "Epoch 46/50\n",
      "48000/48000 [==============================] - 19s 401us/step - loss: 0.0054 - accuracy: 0.0193 - val_loss: 0.0058 - val_accuracy: 0.0168\n",
      "Epoch 47/50\n",
      "48000/48000 [==============================] - 19s 406us/step - loss: 0.0054 - accuracy: 0.0194 - val_loss: 0.0059 - val_accuracy: 0.0182\n",
      "Epoch 48/50\n",
      "48000/48000 [==============================] - 19s 401us/step - loss: 0.0054 - accuracy: 0.0185 - val_loss: 0.0061 - val_accuracy: 0.0227\n",
      "Epoch 49/50\n",
      "48000/48000 [==============================] - 20s 411us/step - loss: 0.0054 - accuracy: 0.0198 - val_loss: 0.0061 - val_accuracy: 0.0162\n",
      "Epoch 50/50\n",
      "48000/48000 [==============================] - 19s 396us/step - loss: 0.0054 - accuracy: 0.0205 - val_loss: 0.0060 - val_accuracy: 0.0211\n"
     ]
    }
   ],
   "source": [
    "autoencoder_MLP.compile(optimizer='adam',loss='mean_squared_error')\n",
    "\n",
    "autoencoder_MLP.fit(X_train_MLP,\n",
    "                   X_train_MLP,\n",
    "                   epochs=50,\n",
    "                   batch_size=64,\n",
    "                   shuffle=True,\n",
    "                   validation_split=0.2)\n",
    "\n",
    "decoded_MLP = autoencoder_MLP.predict(X_test_MLP)"
   ]
  },
  {
   "cell_type": "code",
   "execution_count": 14,
   "metadata": {},
   "outputs": [
    {
     "data": {
      "image/png": "[encoded data removed]",
      "text/plain": [
       "<Figure size 1440x288 with 20 Axes>"
      ]
     },
     "metadata": {
      "needs_background": "light"
     },
     "output_type": "display_data"
    }
   ],
   "source": [
    "plt.figure(figsize=(20,4))\n",
    "for i in range(10):\n",
    "    plt.subplot(2,10,i+1)\n",
    "    plt.imshow(X_test_MLP[i].reshape(28,28))\n",
    "    plt.gray()\n",
    "    plt.axis('off')\n",
    "    \n",
    "    plt.subplot(2,10,i+1+10)\n",
    "    plt.imshow(decoded_MLP[i].reshape(28,28))\n",
    "    plt.gray()\n",
    "    plt.axis('off')\n",
    "\n",
    "plt.tight_layout()\n",
    "plt.show()"
   ]
  },
  {
   "cell_type": "code",
   "execution_count": null,
   "metadata": {},
   "outputs": [],
   "source": []
  }
 ],
 "metadata": {
  "kernelspec": {
   "display_name": "Python [conda env:tf]",
   "language": "python",
   "name": "conda-env-tf-py"
  },
  "language_info": {
   "codemirror_mode": {
    "name": "ipython",
    "version": 3
   },
   "file_extension": ".py",
   "mimetype": "text/x-python",
   "name": "python",
   "nbconvert_exporter": "python",
   "pygments_lexer": "ipython3",
   "version": "3.7.5"
  }
 },
 "nbformat": 4,
 "nbformat_minor": 2
}
