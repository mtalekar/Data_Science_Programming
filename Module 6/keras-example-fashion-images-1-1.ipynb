{
 "cells": [
  {
   "cell_type": "code",
   "execution_count": 1,
   "metadata": {},
   "outputs": [
    {
     "name": "stderr",
     "output_type": "stream",
     "text": [
      "/Users/bp/anaconda/lib/python3.6/site-packages/tensorflow/python/framework/dtypes.py:526: FutureWarning: Passing (type, 1) or '1type' as a synonym of type is deprecated; in a future version of numpy, it will be understood as (type, (1,)) / '(1,)type'.\n",
      "  _np_qint8 = np.dtype([(\"qint8\", np.int8, 1)])\n",
      "/Users/bp/anaconda/lib/python3.6/site-packages/tensorflow/python/framework/dtypes.py:527: FutureWarning: Passing (type, 1) or '1type' as a synonym of type is deprecated; in a future version of numpy, it will be understood as (type, (1,)) / '(1,)type'.\n",
      "  _np_quint8 = np.dtype([(\"quint8\", np.uint8, 1)])\n",
      "/Users/bp/anaconda/lib/python3.6/site-packages/tensorflow/python/framework/dtypes.py:528: FutureWarning: Passing (type, 1) or '1type' as a synonym of type is deprecated; in a future version of numpy, it will be understood as (type, (1,)) / '(1,)type'.\n",
      "  _np_qint16 = np.dtype([(\"qint16\", np.int16, 1)])\n",
      "/Users/bp/anaconda/lib/python3.6/site-packages/tensorflow/python/framework/dtypes.py:529: FutureWarning: Passing (type, 1) or '1type' as a synonym of type is deprecated; in a future version of numpy, it will be understood as (type, (1,)) / '(1,)type'.\n",
      "  _np_quint16 = np.dtype([(\"quint16\", np.uint16, 1)])\n",
      "/Users/bp/anaconda/lib/python3.6/site-packages/tensorflow/python/framework/dtypes.py:530: FutureWarning: Passing (type, 1) or '1type' as a synonym of type is deprecated; in a future version of numpy, it will be understood as (type, (1,)) / '(1,)type'.\n",
      "  _np_qint32 = np.dtype([(\"qint32\", np.int32, 1)])\n",
      "/Users/bp/anaconda/lib/python3.6/site-packages/tensorflow/python/framework/dtypes.py:535: FutureWarning: Passing (type, 1) or '1type' as a synonym of type is deprecated; in a future version of numpy, it will be understood as (type, (1,)) / '(1,)type'.\n",
      "  np_resource = np.dtype([(\"resource\", np.ubyte, 1)])\n"
     ]
    }
   ],
   "source": [
    "import tensorflow as tf"
   ]
  },
  {
   "cell_type": "code",
   "execution_count": 2,
   "metadata": {
    "collapsed": true
   },
   "outputs": [],
   "source": [
    "from tensorflow import keras"
   ]
  },
  {
   "cell_type": "code",
   "execution_count": 3,
   "metadata": {
    "collapsed": true
   },
   "outputs": [],
   "source": [
    "import matplotlib\n",
    "import matplotlib.pyplot as plt"
   ]
  },
  {
   "cell_type": "code",
   "execution_count": 4,
   "metadata": {},
   "outputs": [
    {
     "data": {
      "text/plain": [
       "'1.13.1'"
      ]
     },
     "execution_count": 4,
     "metadata": {},
     "output_type": "execute_result"
    }
   ],
   "source": [
    "tf.__version__"
   ]
  },
  {
   "cell_type": "code",
   "execution_count": 5,
   "metadata": {},
   "outputs": [
    {
     "data": {
      "text/plain": [
       "'2.2.4-tf'"
      ]
     },
     "execution_count": 5,
     "metadata": {},
     "output_type": "execute_result"
    }
   ],
   "source": [
    "keras.__version__"
   ]
  },
  {
   "cell_type": "code",
   "execution_count": 6,
   "metadata": {
    "collapsed": true
   },
   "outputs": [],
   "source": [
    "fashion_mnist = keras.datasets.fashion_mnist\n",
    "\n",
    "(X_train_full, y_train_full), (X_test, y_test) = fashion_mnist.load_data()"
   ]
  },
  {
   "cell_type": "code",
   "execution_count": 7,
   "metadata": {},
   "outputs": [
    {
     "data": {
      "text/plain": [
       "numpy.ndarray"
      ]
     },
     "execution_count": 7,
     "metadata": {},
     "output_type": "execute_result"
    }
   ],
   "source": [
    "type(X_train_full)"
   ]
  },
  {
   "cell_type": "code",
   "execution_count": 8,
   "metadata": {},
   "outputs": [
    {
     "data": {
      "text/plain": [
       "array([[[0, 0, 0, ..., 0, 0, 0],\n",
       "        [0, 0, 0, ..., 0, 0, 0],\n",
       "        [0, 0, 0, ..., 0, 0, 0],\n",
       "        ...,\n",
       "        [0, 0, 0, ..., 0, 0, 0],\n",
       "        [0, 0, 0, ..., 0, 0, 0],\n",
       "        [0, 0, 0, ..., 0, 0, 0]],\n",
       "\n",
       "       [[0, 0, 0, ..., 0, 0, 0],\n",
       "        [0, 0, 0, ..., 0, 0, 0],\n",
       "        [0, 0, 0, ..., 0, 0, 0],\n",
       "        ...,\n",
       "        [0, 0, 0, ..., 0, 0, 0],\n",
       "        [0, 0, 0, ..., 0, 0, 0],\n",
       "        [0, 0, 0, ..., 0, 0, 0]],\n",
       "\n",
       "       [[0, 0, 0, ..., 0, 0, 0],\n",
       "        [0, 0, 0, ..., 0, 0, 0],\n",
       "        [0, 0, 0, ..., 0, 0, 0],\n",
       "        ...,\n",
       "        [0, 0, 0, ..., 0, 0, 0],\n",
       "        [0, 0, 0, ..., 0, 0, 0],\n",
       "        [0, 0, 0, ..., 0, 0, 0]]], dtype=uint8)"
      ]
     },
     "execution_count": 8,
     "metadata": {},
     "output_type": "execute_result"
    }
   ],
   "source": [
    "X_train_full[:3]"
   ]
  },
  {
   "cell_type": "code",
   "execution_count": 9,
   "metadata": {},
   "outputs": [
    {
     "data": {
      "text/plain": [
       "array([9, 0, 0], dtype=uint8)"
      ]
     },
     "execution_count": 9,
     "metadata": {},
     "output_type": "execute_result"
    }
   ],
   "source": [
    "y_train_full[:3]"
   ]
  },
  {
   "cell_type": "code",
   "execution_count": 10,
   "metadata": {},
   "outputs": [
    {
     "data": {
      "text/plain": [
       "(60000, 28, 28)"
      ]
     },
     "execution_count": 10,
     "metadata": {},
     "output_type": "execute_result"
    }
   ],
   "source": [
    "X_train_full.shape"
   ]
  },
  {
   "cell_type": "code",
   "execution_count": 11,
   "metadata": {},
   "outputs": [
    {
     "data": {
      "image/png": "[encoded data removed]",
      "text/plain": [
       "<Figure size 432x288 with 1 Axes>"
      ]
     },
     "metadata": {},
     "output_type": "display_data"
    }
   ],
   "source": [
    "some_pic = X_train_full[0]\n",
    "some_pic_image = some_pic.reshape(28,28)\n",
    "plt.imshow(some_pic_image)\n",
    "plt.show()"
   ]
  },
  {
   "cell_type": "code",
   "execution_count": 12,
   "metadata": {
    "collapsed": true
   },
   "outputs": [],
   "source": [
    "#create validation data as well, plus scaling down x values from 1-255 to 0-1 scale\n",
    "X_valid, X_train = X_train_full[:5000] / 255.0, X_train_full[5000:] / 255.0\n",
    "y_valid, y_train = y_train_full[:5000], y_train_full[5000:]"
   ]
  },
  {
   "cell_type": "code",
   "execution_count": 13,
   "metadata": {},
   "outputs": [
    {
     "data": {
      "text/plain": [
       "'Coat'"
      ]
     },
     "execution_count": 13,
     "metadata": {},
     "output_type": "execute_result"
    }
   ],
   "source": [
    "class_names = [\"T-shirt/top\", \"Trouser\", \"Pullover\", \"Dress\", \"Coat\",\n",
    "               \"Sandal\", \"Shirt\", \"Sneaker\", \"Bag\", \"Ankle boot\"]\n",
    "class_names[y_train[0]]"
   ]
  },
  {
   "cell_type": "code",
   "execution_count": 14,
   "metadata": {},
   "outputs": [
    {
     "name": "stdout",
     "output_type": "stream",
     "text": [
      "WARNING:tensorflow:From /Users/bp/anaconda/lib/python3.6/site-packages/tensorflow/python/ops/resource_variable_ops.py:435: colocate_with (from tensorflow.python.framework.ops) is deprecated and will be removed in a future version.\n",
      "Instructions for updating:\n",
      "Colocations handled automatically by placer.\n"
     ]
    }
   ],
   "source": [
    "model = keras.models.Sequential()\n",
    "model.add(keras.layers.Flatten(input_shape=[28, 28]))\n",
    "model.add(keras.layers.Dense(300, activation=\"relu\"))\n",
    "model.add(keras.layers.Dense(100, activation=\"relu\"))\n",
    "model.add(keras.layers.Dense(10, activation=\"softmax\"))"
   ]
  },
  {
   "cell_type": "code",
   "execution_count": 15,
   "metadata": {},
   "outputs": [
    {
     "name": "stdout",
     "output_type": "stream",
     "text": [
      "_________________________________________________________________\n",
      "Layer (type)                 Output Shape              Param #   \n",
      "=================================================================\n",
      "flatten (Flatten)            (None, 784)               0         \n",
      "_________________________________________________________________\n",
      "dense (Dense)                (None, 300)               235500    \n",
      "_________________________________________________________________\n",
      "dense_1 (Dense)              (None, 100)               30100     \n",
      "_________________________________________________________________\n",
      "dense_2 (Dense)              (None, 10)                1010      \n",
      "=================================================================\n",
      "Total params: 266,610\n",
      "Trainable params: 266,610\n",
      "Non-trainable params: 0\n",
      "_________________________________________________________________\n"
     ]
    }
   ],
   "source": [
    "model.summary()"
   ]
  },
  {
   "cell_type": "code",
   "execution_count": 16,
   "metadata": {},
   "outputs": [
    {
     "data": {
      "text/plain": [
       "[<tensorflow.python.keras.layers.core.Flatten at 0x13c59eeb8>,\n",
       " <tensorflow.python.keras.layers.core.Dense at 0x13c53e1d0>,\n",
       " <tensorflow.python.keras.layers.core.Dense at 0x13c5a82e8>,\n",
       " <tensorflow.python.keras.layers.core.Dense at 0x13c5a8358>]"
      ]
     },
     "execution_count": 16,
     "metadata": {},
     "output_type": "execute_result"
    }
   ],
   "source": [
    "model.layers"
   ]
  },
  {
   "cell_type": "code",
   "execution_count": 17,
   "metadata": {},
   "outputs": [
    {
     "data": {
      "text/plain": [
       "'dense'"
      ]
     },
     "execution_count": 17,
     "metadata": {},
     "output_type": "execute_result"
    }
   ],
   "source": [
    "model.layers[1].name\n"
   ]
  },
  {
   "cell_type": "code",
   "execution_count": 18,
   "metadata": {
    "collapsed": true
   },
   "outputs": [],
   "source": [
    "weights, biases = model.layers[1].get_weights()"
   ]
  },
  {
   "cell_type": "code",
   "execution_count": 19,
   "metadata": {},
   "outputs": [
    {
     "data": {
      "text/plain": [
       "array([[ 0.00824816,  0.01587024,  0.0736848 , ...,  0.0016951 ,\n",
       "        -0.03393587,  0.07236654],\n",
       "       [-0.05926446, -0.04319531, -0.05866531, ...,  0.00636724,\n",
       "         0.01464812,  0.02312351],\n",
       "       [ 0.06181125, -0.0375049 , -0.03751718, ..., -0.030186  ,\n",
       "        -0.06084795, -0.04475248],\n",
       "       ...,\n",
       "       [-0.07399986,  0.00296295,  0.02871981, ..., -0.01898358,\n",
       "        -0.01834582,  0.0469055 ],\n",
       "       [-0.02412297,  0.03298624, -0.01986672, ..., -0.01311959,\n",
       "        -0.0402382 ,  0.02645228],\n",
       "       [-0.04439185,  0.04327182, -0.06477626, ..., -0.06782567,\n",
       "        -0.05359065,  0.04698227]], dtype=float32)"
      ]
     },
     "execution_count": 19,
     "metadata": {},
     "output_type": "execute_result"
    }
   ],
   "source": [
    "weights"
   ]
  },
  {
   "cell_type": "code",
   "execution_count": 20,
   "metadata": {
    "collapsed": true
   },
   "outputs": [],
   "source": [
    "model.compile(loss=\"sparse_categorical_crossentropy\",\n",
    "              optimizer=\"sgd\",\n",
    "              metrics=[\"accuracy\"])"
   ]
  },
  {
   "cell_type": "code",
   "execution_count": 21,
   "metadata": {},
   "outputs": [
    {
     "name": "stdout",
     "output_type": "stream",
     "text": [
      "Train on 55000 samples, validate on 5000 samples\n",
      "Epoch 1/30\n",
      "55000/55000 [==============================] - 3s 55us/sample - loss: 0.7263 - acc: 0.7606 - val_loss: 0.5376 - val_acc: 0.8100\n",
      "Epoch 2/30\n",
      "55000/55000 [==============================] - 3s 53us/sample - loss: 0.4900 - acc: 0.8289 - val_loss: 0.4399 - val_acc: 0.8518\n",
      "Epoch 3/30\n",
      "55000/55000 [==============================] - 3s 54us/sample - loss: 0.4438 - acc: 0.8446 - val_loss: 0.4353 - val_acc: 0.8484\n",
      "Epoch 4/30\n",
      "55000/55000 [==============================] - 3s 56us/sample - loss: 0.4160 - acc: 0.8541 - val_loss: 0.4139 - val_acc: 0.8578\n",
      "Epoch 5/30\n",
      "55000/55000 [==============================] - 3s 56us/sample - loss: 0.3960 - acc: 0.8604 - val_loss: 0.3878 - val_acc: 0.8622\n",
      "Epoch 6/30\n",
      "55000/55000 [==============================] - 3s 60us/sample - loss: 0.3792 - acc: 0.8659 - val_loss: 0.3750 - val_acc: 0.8684\n",
      "Epoch 7/30\n",
      "55000/55000 [==============================] - 3s 59us/sample - loss: 0.3660 - acc: 0.8706 - val_loss: 0.3615 - val_acc: 0.8744\n",
      "Epoch 8/30\n",
      "55000/55000 [==============================] - 3s 56us/sample - loss: 0.3544 - acc: 0.8748 - val_loss: 0.3570 - val_acc: 0.8758\n",
      "Epoch 9/30\n",
      "55000/55000 [==============================] - 3s 62us/sample - loss: 0.3439 - acc: 0.8775 - val_loss: 0.3499 - val_acc: 0.8762\n",
      "Epoch 10/30\n",
      "55000/55000 [==============================] - 3s 58us/sample - loss: 0.3344 - acc: 0.8802 - val_loss: 0.3510 - val_acc: 0.8772\n",
      "Epoch 11/30\n",
      "55000/55000 [==============================] - 3s 58us/sample - loss: 0.3252 - acc: 0.8842 - val_loss: 0.3479 - val_acc: 0.8770\n",
      "Epoch 12/30\n",
      "55000/55000 [==============================] - 3s 63us/sample - loss: 0.3177 - acc: 0.8878 - val_loss: 0.3364 - val_acc: 0.8804\n",
      "Epoch 13/30\n",
      "55000/55000 [==============================] - 5s 83us/sample - loss: 0.3113 - acc: 0.8879 - val_loss: 0.3455 - val_acc: 0.8758\n",
      "Epoch 14/30\n",
      "55000/55000 [==============================] - 4s 77us/sample - loss: 0.3034 - acc: 0.8919 - val_loss: 0.3266 - val_acc: 0.8828\n",
      "Epoch 15/30\n",
      "55000/55000 [==============================] - 3s 63us/sample - loss: 0.2978 - acc: 0.8928 - val_loss: 0.3408 - val_acc: 0.8760\n",
      "Epoch 16/30\n",
      "55000/55000 [==============================] - 3s 60us/sample - loss: 0.2921 - acc: 0.8949 - val_loss: 0.3279 - val_acc: 0.8854\n",
      "Epoch 17/30\n",
      "55000/55000 [==============================] - 3s 61us/sample - loss: 0.2854 - acc: 0.8972 - val_loss: 0.3344 - val_acc: 0.8780\n",
      "Epoch 18/30\n",
      "55000/55000 [==============================] - 3s 62us/sample - loss: 0.2805 - acc: 0.8995 - val_loss: 0.3230 - val_acc: 0.8788\n",
      "Epoch 19/30\n",
      "55000/55000 [==============================] - 3s 60us/sample - loss: 0.2748 - acc: 0.9017 - val_loss: 0.3150 - val_acc: 0.8874\n",
      "Epoch 20/30\n",
      "55000/55000 [==============================] - 3s 60us/sample - loss: 0.2709 - acc: 0.9027 - val_loss: 0.3279 - val_acc: 0.8784\n",
      "Epoch 21/30\n",
      "55000/55000 [==============================] - 3s 60us/sample - loss: 0.2647 - acc: 0.9053 - val_loss: 0.3174 - val_acc: 0.8866\n",
      "Epoch 22/30\n",
      "55000/55000 [==============================] - 3s 59us/sample - loss: 0.2603 - acc: 0.9066 - val_loss: 0.3237 - val_acc: 0.8814\n",
      "Epoch 23/30\n",
      "55000/55000 [==============================] - 3s 59us/sample - loss: 0.2557 - acc: 0.9088 - val_loss: 0.3047 - val_acc: 0.8922\n",
      "Epoch 24/30\n",
      "55000/55000 [==============================] - 3s 59us/sample - loss: 0.2512 - acc: 0.9091 - val_loss: 0.3029 - val_acc: 0.8868\n",
      "Epoch 25/30\n",
      "55000/55000 [==============================] - 3s 59us/sample - loss: 0.2467 - acc: 0.9113 - val_loss: 0.3019 - val_acc: 0.8878\n",
      "Epoch 26/30\n",
      "55000/55000 [==============================] - 3s 60us/sample - loss: 0.2434 - acc: 0.9129 - val_loss: 0.2973 - val_acc: 0.8898\n",
      "Epoch 27/30\n",
      "55000/55000 [==============================] - 3s 59us/sample - loss: 0.2396 - acc: 0.9140 - val_loss: 0.2964 - val_acc: 0.8884\n",
      "Epoch 28/30\n",
      "55000/55000 [==============================] - 3s 61us/sample - loss: 0.2352 - acc: 0.9151 - val_loss: 0.3006 - val_acc: 0.8908\n",
      "Epoch 29/30\n",
      "55000/55000 [==============================] - 4s 67us/sample - loss: 0.2308 - acc: 0.9176 - val_loss: 0.2920 - val_acc: 0.8956\n",
      "Epoch 30/30\n",
      "55000/55000 [==============================] - 4s 81us/sample - loss: 0.2279 - acc: 0.9192 - val_loss: 0.2888 - val_acc: 0.8944\n"
     ]
    }
   ],
   "source": [
    "history = model.fit(X_train, y_train, epochs=30,validation_data=(X_valid, y_valid))"
   ]
  },
  {
   "cell_type": "code",
   "execution_count": 22,
   "metadata": {},
   "outputs": [
    {
     "data": {
      "image/png": "[encoded data removed]",
      "text/plain": [
       "<Figure size 576x360 with 1 Axes>"
      ]
     },
     "metadata": {},
     "output_type": "display_data"
    }
   ],
   "source": [
    "import pandas as pd\n",
    "import matplotlib.pyplot as plt\n",
    "pd.DataFrame(history.history).plot(figsize=(8, 5))\n",
    "plt.grid(True)\n",
    "plt.gca().set_ylim(0, 1) # set the vertical range to [0-1]\n",
    "plt.show()"
   ]
  },
  {
   "cell_type": "code",
   "execution_count": 23,
   "metadata": {},
   "outputs": [
    {
     "name": "stdout",
     "output_type": "stream",
     "text": [
      "10000/10000 [==============================] - 0s 21us/sample - loss: 2.4635 - acc: 0.8447\n"
     ]
    },
    {
     "data": {
      "text/plain": [
       "[2.4634568315505954, 0.8447]"
      ]
     },
     "execution_count": 23,
     "metadata": {},
     "output_type": "execute_result"
    }
   ],
   "source": [
    "model.evaluate(X_test, y_test)"
   ]
  },
  {
   "cell_type": "code",
   "execution_count": 24,
   "metadata": {},
   "outputs": [
    {
     "data": {
      "text/plain": [
       "array([[0., 0., 0., 0., 0., 0., 0., 0., 0., 1.],\n",
       "       [0., 0., 1., 0., 0., 0., 0., 0., 0., 0.],\n",
       "       [0., 1., 0., 0., 0., 0., 0., 0., 0., 0.]], dtype=float32)"
      ]
     },
     "execution_count": 24,
     "metadata": {},
     "output_type": "execute_result"
    }
   ],
   "source": [
    "X_new = X_test[:3]\n",
    "y_proba = model.predict(X_new)\n",
    "y_proba"
   ]
  },
  {
   "cell_type": "code",
   "execution_count": 25,
   "metadata": {},
   "outputs": [
    {
     "data": {
      "text/plain": [
       "array([9, 2, 1], dtype=uint8)"
      ]
     },
     "execution_count": 25,
     "metadata": {},
     "output_type": "execute_result"
    }
   ],
   "source": [
    "y_new = y_test[:3]\n",
    "y_new"
   ]
  },
  {
   "cell_type": "code",
   "execution_count": null,
   "metadata": {
    "collapsed": true
   },
   "outputs": [],
   "source": []
  }
 ],
 "metadata": {
  "kernelspec": {
   "display_name": "Python 3",
   "language": "python",
   "name": "python3"
  },
  "language_info": {
   "codemirror_mode": {
    "name": "ipython",
    "version": 3
   },
   "file_extension": ".py",
   "mimetype": "text/x-python",
   "name": "python",
   "nbconvert_exporter": "python",
   "pygments_lexer": "ipython3",
   "version": "3.6.3"
  }
 },
 "nbformat": 4,
 "nbformat_minor": 2
}
