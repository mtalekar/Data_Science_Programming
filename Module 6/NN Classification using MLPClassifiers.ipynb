{
 "cells": [
  {
   "cell_type": "markdown",
   "metadata": {},
   "source": [
    "Neural Network Classification using MLP Classifier in sklearn\n",
    "\n",
    "We will predict the ocean proximity (`ocean_proximity` column) of Californian districts, given a number of features from these districts.\n",
    "\n",
    "**The unit of analysis is a DISTRICT**"
   ]
  },
  {
   "cell_type": "code",
   "execution_count": 2,
   "metadata": {},
   "outputs": [],
   "source": [
    "# Common imports\n",
    "import numpy as np\n",
    "import pandas as pd"
   ]
  },
  {
   "cell_type": "markdown",
   "metadata": {},
   "source": [
    "# Get the data"
   ]
  },
  {
   "cell_type": "code",
   "execution_count": 5,
   "metadata": {},
   "outputs": [
    {
     "data": {
      "text/html": [
       "<div>\n",
       "<style scoped>\n",
       "    .dataframe tbody tr th:only-of-type {\n",
       "        vertical-align: middle;\n",
       "    }\n",
       "\n",
       "    .dataframe tbody tr th {\n",
       "        vertical-align: top;\n",
       "    }\n",
       "\n",
       "    .dataframe thead th {\n",
       "        text-align: right;\n",
       "    }\n",
       "</style>\n",
       "<table border=\"1\" class=\"dataframe\">\n",
       "  <thead>\n",
       "    <tr style=\"text-align: right;\">\n",
       "      <th></th>\n",
       "      <th>longitude</th>\n",
       "      <th>latitude</th>\n",
       "      <th>housing_median_age</th>\n",
       "      <th>total_rooms</th>\n",
       "      <th>total_bedrooms</th>\n",
       "      <th>population</th>\n",
       "      <th>households</th>\n",
       "      <th>median_income</th>\n",
       "      <th>median_house_value</th>\n",
       "      <th>ocean_proximity</th>\n",
       "    </tr>\n",
       "  </thead>\n",
       "  <tbody>\n",
       "    <tr>\n",
       "      <th>0</th>\n",
       "      <td>-122.23</td>\n",
       "      <td>37.88</td>\n",
       "      <td>41.0</td>\n",
       "      <td>880.0</td>\n",
       "      <td>129.0</td>\n",
       "      <td>322.0</td>\n",
       "      <td>126.0</td>\n",
       "      <td>8.3252</td>\n",
       "      <td>452600.0</td>\n",
       "      <td>NEAR BAY</td>\n",
       "    </tr>\n",
       "    <tr>\n",
       "      <th>1</th>\n",
       "      <td>-122.22</td>\n",
       "      <td>37.86</td>\n",
       "      <td>21.0</td>\n",
       "      <td>7099.0</td>\n",
       "      <td>1106.0</td>\n",
       "      <td>2401.0</td>\n",
       "      <td>1138.0</td>\n",
       "      <td>8.3014</td>\n",
       "      <td>358500.0</td>\n",
       "      <td>NEAR BAY</td>\n",
       "    </tr>\n",
       "    <tr>\n",
       "      <th>2</th>\n",
       "      <td>-122.24</td>\n",
       "      <td>37.85</td>\n",
       "      <td>52.0</td>\n",
       "      <td>1467.0</td>\n",
       "      <td>190.0</td>\n",
       "      <td>496.0</td>\n",
       "      <td>177.0</td>\n",
       "      <td>7.2574</td>\n",
       "      <td>352100.0</td>\n",
       "      <td>NEAR BAY</td>\n",
       "    </tr>\n",
       "    <tr>\n",
       "      <th>3</th>\n",
       "      <td>-122.25</td>\n",
       "      <td>37.85</td>\n",
       "      <td>52.0</td>\n",
       "      <td>1274.0</td>\n",
       "      <td>235.0</td>\n",
       "      <td>558.0</td>\n",
       "      <td>219.0</td>\n",
       "      <td>5.6431</td>\n",
       "      <td>341300.0</td>\n",
       "      <td>NEAR BAY</td>\n",
       "    </tr>\n",
       "    <tr>\n",
       "      <th>4</th>\n",
       "      <td>-122.25</td>\n",
       "      <td>37.85</td>\n",
       "      <td>52.0</td>\n",
       "      <td>1627.0</td>\n",
       "      <td>280.0</td>\n",
       "      <td>565.0</td>\n",
       "      <td>259.0</td>\n",
       "      <td>3.8462</td>\n",
       "      <td>342200.0</td>\n",
       "      <td>NEAR BAY</td>\n",
       "    </tr>\n",
       "  </tbody>\n",
       "</table>\n",
       "</div>"
      ],
      "text/plain": [
       "   longitude  latitude  housing_median_age  total_rooms  total_bedrooms  \\\n",
       "0    -122.23     37.88                41.0        880.0           129.0   \n",
       "1    -122.22     37.86                21.0       7099.0          1106.0   \n",
       "2    -122.24     37.85                52.0       1467.0           190.0   \n",
       "3    -122.25     37.85                52.0       1274.0           235.0   \n",
       "4    -122.25     37.85                52.0       1627.0           280.0   \n",
       "\n",
       "   population  households  median_income  median_house_value ocean_proximity  \n",
       "0       322.0       126.0         8.3252            452600.0        NEAR BAY  \n",
       "1      2401.0      1138.0         8.3014            358500.0        NEAR BAY  \n",
       "2       496.0       177.0         7.2574            352100.0        NEAR BAY  \n",
       "3       558.0       219.0         5.6431            341300.0        NEAR BAY  \n",
       "4       565.0       259.0         3.8462            342200.0        NEAR BAY  "
      ]
     },
     "execution_count": 5,
     "metadata": {},
     "output_type": "execute_result"
    }
   ],
   "source": [
    "housing = pd.read_csv(\"housing.csv\")\n",
    "housing.head()"
   ]
  },
  {
   "cell_type": "code",
   "execution_count": 6,
   "metadata": {},
   "outputs": [
    {
     "name": "stdout",
     "output_type": "stream",
     "text": [
      "<class 'pandas.core.frame.DataFrame'>\n",
      "Int64Index: 20433 entries, 0 to 20639\n",
      "Data columns (total 10 columns):\n",
      " #   Column              Non-Null Count  Dtype  \n",
      "---  ------              --------------  -----  \n",
      " 0   longitude           20433 non-null  float64\n",
      " 1   latitude            20433 non-null  float64\n",
      " 2   housing_median_age  20433 non-null  float64\n",
      " 3   total_rooms         20433 non-null  float64\n",
      " 4   total_bedrooms      20433 non-null  float64\n",
      " 5   population          20433 non-null  float64\n",
      " 6   households          20433 non-null  float64\n",
      " 7   median_income       20433 non-null  float64\n",
      " 8   median_house_value  20433 non-null  float64\n",
      " 9   ocean_proximity     20433 non-null  object \n",
      "dtypes: float64(9), object(1)\n",
      "memory usage: 1.7+ MB\n"
     ]
    }
   ],
   "source": [
    "#Drop the missing values\n",
    "housing.dropna(axis=0, inplace=True)\n",
    "\n",
    "# pandas specific issue - why you might want to reset the index\n",
    "# housing.reset_index(inplace=True, drop=True)\n",
    "\n",
    "housing.describe()\n",
    "housing.info()"
   ]
  },
  {
   "cell_type": "markdown",
   "metadata": {},
   "source": [
    "# Prepare the data for Machine Learning algorithms"
   ]
  },
  {
   "cell_type": "code",
   "execution_count": 7,
   "metadata": {},
   "outputs": [
    {
     "data": {
      "text/plain": [
       "<1H OCEAN     9034\n",
       "INLAND        6496\n",
       "NEAR OCEAN    2628\n",
       "NEAR BAY      2270\n",
       "ISLAND           5\n",
       "Name: ocean_proximity, dtype: int64"
      ]
     },
     "execution_count": 7,
     "metadata": {},
     "output_type": "execute_result"
    }
   ],
   "source": [
    "#Set the training and test data sets\n",
    "housing_X = housing.drop(\"ocean_proximity\", axis=1) # drop labels \n",
    "#Select the label\n",
    "housing_target = housing[\"ocean_proximity\"]\n",
    "housing_target.value_counts()"
   ]
  },
  {
   "cell_type": "markdown",
   "metadata": {},
   "source": [
    "### Standardize the data"
   ]
  },
  {
   "cell_type": "code",
   "execution_count": 8,
   "metadata": {},
   "outputs": [],
   "source": [
    "from sklearn.preprocessing import StandardScaler\n",
    "\n",
    "scaler = StandardScaler()\n",
    "\n",
    "housing_X_std = scaler.fit_transform(housing_X)"
   ]
  },
  {
   "cell_type": "code",
   "execution_count": 9,
   "metadata": {},
   "outputs": [
    {
     "data": {
      "text/plain": [
       "array([[-1.32731375,  1.05171726,  0.98216331, ..., -0.97683327,\n",
       "         2.34516291,  2.12881864],\n",
       "       [-1.32232256,  1.04235526, -0.60621017, ...,  1.67037262,\n",
       "         2.33263161,  1.31362603],\n",
       "       [-1.33230494,  1.03767426,  1.85576873, ..., -0.84342665,\n",
       "         1.78293943,  1.25818254],\n",
       "       ...,\n",
       "       [-0.82320322,  1.77727236, -0.92388486, ..., -0.17377773,\n",
       "        -1.14317103, -0.99247676],\n",
       "       [-0.87311515,  1.77727236, -0.84446619, ..., -0.39350628,\n",
       "        -1.05513604, -1.05831591],\n",
       "       [-0.83318561,  1.74918635, -1.00330353, ...,  0.07995643,\n",
       "        -0.78060586, -1.01759959]])"
      ]
     },
     "execution_count": 9,
     "metadata": {},
     "output_type": "execute_result"
    }
   ],
   "source": [
    "housing_X_std"
   ]
  },
  {
   "cell_type": "code",
   "execution_count": 10,
   "metadata": {
    "scrolled": true
   },
   "outputs": [
    {
     "data": {
      "text/plain": [
       "pandas.core.series.Series"
      ]
     },
     "execution_count": 10,
     "metadata": {},
     "output_type": "execute_result"
    }
   ],
   "source": [
    "housing_X_std.shape\n",
    "type(housing_target)"
   ]
  },
  {
   "cell_type": "markdown",
   "metadata": {},
   "source": [
    "# Split data (train/test)"
   ]
  },
  {
   "cell_type": "code",
   "execution_count": 11,
   "metadata": {},
   "outputs": [],
   "source": [
    "from sklearn.model_selection import train_test_split\n",
    "\n",
    "train_x, test_x, train_y, test_y = train_test_split(housing_X_std, housing_target, test_size=0.3)"
   ]
  },
  {
   "cell_type": "code",
   "execution_count": 12,
   "metadata": {},
   "outputs": [
    {
     "data": {
      "text/plain": [
       "((14303, 9), (6130, 9))"
      ]
     },
     "execution_count": 12,
     "metadata": {},
     "output_type": "execute_result"
    }
   ],
   "source": [
    "train_x.shape, test_x.shape"
   ]
  },
  {
   "cell_type": "markdown",
   "metadata": {},
   "source": [
    "# Multiclass classification\n",
    "\n"
   ]
  },
  {
   "cell_type": "code",
   "execution_count": 13,
   "metadata": {},
   "outputs": [
    {
     "name": "stderr",
     "output_type": "stream",
     "text": [
      "/Users/balajismbpro/opt/anaconda3/lib/python3.8/site-packages/sklearn/neural_network/_multilayer_perceptron.py:582: ConvergenceWarning: Stochastic Optimizer: Maximum iterations (200) reached and the optimization hasn't converged yet.\n",
      "  warnings.warn(\n"
     ]
    },
    {
     "data": {
      "text/plain": [
       "MLPClassifier()"
      ]
     },
     "execution_count": 13,
     "metadata": {},
     "output_type": "execute_result"
    }
   ],
   "source": [
    "from sklearn.neural_network import MLPClassifier\n",
    "\n",
    "#Default settings create 1 hidden layer with 100 neurons\n",
    "#look at MLPClassifier documentation in sklearn to see which parameters can be modified\n",
    "mlp_clf = MLPClassifier(hidden_layer_sizes=(100,))\n",
    "\n",
    "mlp_clf.fit(train_x, train_y)"
   ]
  },
  {
   "cell_type": "markdown",
   "metadata": {},
   "source": [
    "## Increase maximum iterations for convergence"
   ]
  },
  {
   "cell_type": "code",
   "execution_count": 14,
   "metadata": {},
   "outputs": [
    {
     "name": "stdout",
     "output_type": "stream",
     "text": [
      "Iteration 1, loss = 1.23774407\n",
      "Iteration 2, loss = 0.86677426\n",
      "Iteration 3, loss = 0.75589322\n",
      "Iteration 4, loss = 0.69059735\n",
      "Iteration 5, loss = 0.64510894\n",
      "Iteration 6, loss = 0.60941951\n",
      "Iteration 7, loss = 0.58039365\n",
      "Iteration 8, loss = 0.55284522\n",
      "Iteration 9, loss = 0.52810677\n",
      "Iteration 10, loss = 0.50554344\n",
      "Iteration 11, loss = 0.48512075\n",
      "Iteration 12, loss = 0.46635396\n",
      "Iteration 13, loss = 0.44899962\n",
      "Iteration 14, loss = 0.43408354\n",
      "Iteration 15, loss = 0.42061559\n",
      "Iteration 16, loss = 0.40790120\n",
      "Iteration 17, loss = 0.39732865\n",
      "Iteration 18, loss = 0.38701849\n",
      "Iteration 19, loss = 0.37817290\n",
      "Iteration 20, loss = 0.37085247\n",
      "Iteration 21, loss = 0.36118470\n",
      "Iteration 22, loss = 0.35495777\n",
      "Iteration 23, loss = 0.34911657\n",
      "Iteration 24, loss = 0.34189531\n",
      "Iteration 25, loss = 0.33774593\n",
      "Iteration 26, loss = 0.33101111\n",
      "Iteration 27, loss = 0.32664146\n",
      "Iteration 28, loss = 0.32114685\n",
      "Iteration 29, loss = 0.31632142\n",
      "Iteration 30, loss = 0.31345436\n",
      "Iteration 31, loss = 0.30980534\n",
      "Iteration 32, loss = 0.30617294\n",
      "Iteration 33, loss = 0.30259058\n",
      "Iteration 34, loss = 0.30069132\n",
      "Iteration 35, loss = 0.29727775\n",
      "Iteration 36, loss = 0.29387930\n",
      "Iteration 37, loss = 0.29163399\n",
      "Iteration 38, loss = 0.28933076\n",
      "Iteration 39, loss = 0.28698718\n",
      "Iteration 40, loss = 0.28513473\n",
      "Iteration 41, loss = 0.28281349\n",
      "Iteration 42, loss = 0.28090853\n",
      "Iteration 43, loss = 0.28029744\n",
      "Iteration 44, loss = 0.27676079\n",
      "Iteration 45, loss = 0.27540474\n",
      "Iteration 46, loss = 0.27319760\n",
      "Iteration 47, loss = 0.27163525\n",
      "Iteration 48, loss = 0.27123389\n",
      "Iteration 49, loss = 0.26842112\n",
      "Iteration 50, loss = 0.26753647\n",
      "Iteration 51, loss = 0.26617849\n",
      "Iteration 52, loss = 0.26479872\n",
      "Iteration 53, loss = 0.26272492\n",
      "Iteration 54, loss = 0.26120204\n",
      "Iteration 55, loss = 0.26015280\n",
      "Iteration 56, loss = 0.25958602\n",
      "Iteration 57, loss = 0.25820800\n",
      "Iteration 58, loss = 0.25758505\n",
      "Iteration 59, loss = 0.25532084\n",
      "Iteration 60, loss = 0.25439453\n",
      "Iteration 61, loss = 0.25359679\n",
      "Iteration 62, loss = 0.25195040\n",
      "Iteration 63, loss = 0.25094851\n",
      "Iteration 64, loss = 0.25022631\n",
      "Iteration 65, loss = 0.24966569\n",
      "Iteration 66, loss = 0.24933965\n",
      "Iteration 67, loss = 0.24731024\n",
      "Iteration 68, loss = 0.24599609\n",
      "Iteration 69, loss = 0.24579158\n",
      "Iteration 70, loss = 0.24582564\n",
      "Iteration 71, loss = 0.24360375\n",
      "Iteration 72, loss = 0.24354665\n",
      "Iteration 73, loss = 0.24156553\n",
      "Iteration 74, loss = 0.24032306\n",
      "Iteration 75, loss = 0.24003787\n",
      "Iteration 76, loss = 0.23954722\n",
      "Iteration 77, loss = 0.23813845\n",
      "Iteration 78, loss = 0.23815129\n",
      "Iteration 79, loss = 0.23798266\n",
      "Iteration 80, loss = 0.23748098\n",
      "Iteration 81, loss = 0.23511711\n",
      "Iteration 82, loss = 0.23475014\n",
      "Iteration 83, loss = 0.23407040\n",
      "Iteration 84, loss = 0.23295593\n",
      "Iteration 85, loss = 0.23361021\n",
      "Iteration 86, loss = 0.23279316\n",
      "Iteration 87, loss = 0.23210480\n",
      "Iteration 88, loss = 0.23121181\n",
      "Iteration 89, loss = 0.23064845\n",
      "Iteration 90, loss = 0.22894311\n",
      "Iteration 91, loss = 0.22943632\n",
      "Iteration 92, loss = 0.22886074\n",
      "Iteration 93, loss = 0.22733881\n",
      "Iteration 94, loss = 0.22744449\n",
      "Iteration 95, loss = 0.22626908\n",
      "Iteration 96, loss = 0.22574182\n",
      "Iteration 97, loss = 0.22498480\n",
      "Iteration 98, loss = 0.22420609\n",
      "Iteration 99, loss = 0.22532066\n",
      "Iteration 100, loss = 0.22424242\n",
      "Iteration 101, loss = 0.22284713\n",
      "Iteration 102, loss = 0.22236406\n",
      "Iteration 103, loss = 0.22211333\n",
      "Iteration 104, loss = 0.22021840\n",
      "Iteration 105, loss = 0.22105772\n",
      "Iteration 106, loss = 0.22127968\n",
      "Iteration 107, loss = 0.21910481\n",
      "Iteration 108, loss = 0.21964797\n",
      "Iteration 109, loss = 0.21867846\n",
      "Iteration 110, loss = 0.21837559\n",
      "Iteration 111, loss = 0.21723779\n",
      "Iteration 112, loss = 0.21741048\n",
      "Iteration 113, loss = 0.21628353\n",
      "Iteration 114, loss = 0.21587059\n",
      "Iteration 115, loss = 0.21545690\n",
      "Iteration 116, loss = 0.21515026\n",
      "Iteration 117, loss = 0.21474791\n",
      "Iteration 118, loss = 0.21510779\n",
      "Iteration 119, loss = 0.21486043\n",
      "Iteration 120, loss = 0.21404680\n",
      "Iteration 121, loss = 0.21292409\n",
      "Iteration 122, loss = 0.21189612\n",
      "Iteration 123, loss = 0.21159064\n",
      "Iteration 124, loss = 0.21227842\n",
      "Iteration 125, loss = 0.21045723\n",
      "Iteration 126, loss = 0.21114716\n",
      "Iteration 127, loss = 0.21033751\n",
      "Iteration 128, loss = 0.21021797\n",
      "Iteration 129, loss = 0.20929182\n",
      "Iteration 130, loss = 0.20904126\n",
      "Iteration 131, loss = 0.20826001\n",
      "Iteration 132, loss = 0.20797681\n",
      "Iteration 133, loss = 0.20770660\n",
      "Iteration 134, loss = 0.20929077\n",
      "Iteration 135, loss = 0.20813320\n",
      "Iteration 136, loss = 0.20748336\n",
      "Iteration 137, loss = 0.20764915\n",
      "Iteration 138, loss = 0.20573708\n",
      "Iteration 139, loss = 0.20494151\n",
      "Iteration 140, loss = 0.20532269\n",
      "Iteration 141, loss = 0.20417988\n",
      "Iteration 142, loss = 0.20494613\n",
      "Iteration 143, loss = 0.20476247\n",
      "Iteration 144, loss = 0.20381167\n",
      "Iteration 145, loss = 0.20384195\n",
      "Iteration 146, loss = 0.20312588\n",
      "Iteration 147, loss = 0.20245285\n",
      "Iteration 148, loss = 0.20216707\n",
      "Iteration 149, loss = 0.20080844\n",
      "Iteration 150, loss = 0.20113015\n",
      "Iteration 151, loss = 0.20318419\n",
      "Iteration 152, loss = 0.20084501\n",
      "Iteration 153, loss = 0.20039560\n",
      "Iteration 154, loss = 0.20022417\n",
      "Iteration 155, loss = 0.19999752\n",
      "Iteration 156, loss = 0.19926143\n",
      "Iteration 157, loss = 0.19926776\n",
      "Iteration 158, loss = 0.20060917\n",
      "Iteration 159, loss = 0.19899505\n",
      "Iteration 160, loss = 0.19787604\n",
      "Iteration 161, loss = 0.19736515\n",
      "Iteration 162, loss = 0.19807653\n",
      "Iteration 163, loss = 0.19730724\n",
      "Iteration 164, loss = 0.19699573\n",
      "Iteration 165, loss = 0.19584063\n",
      "Iteration 166, loss = 0.19701007\n",
      "Iteration 167, loss = 0.19593726\n",
      "Iteration 168, loss = 0.19560483\n",
      "Iteration 169, loss = 0.19528967\n",
      "Iteration 170, loss = 0.19594979\n",
      "Iteration 171, loss = 0.19424809\n",
      "Iteration 172, loss = 0.19461917\n",
      "Iteration 173, loss = 0.19383607\n",
      "Iteration 174, loss = 0.19439562\n",
      "Iteration 175, loss = 0.19380469\n",
      "Iteration 176, loss = 0.19325149\n",
      "Iteration 177, loss = 0.19420902\n",
      "Iteration 178, loss = 0.19281914\n",
      "Iteration 179, loss = 0.19237418\n",
      "Iteration 180, loss = 0.19183893\n",
      "Iteration 181, loss = 0.19145678\n",
      "Iteration 182, loss = 0.19197502\n",
      "Iteration 183, loss = 0.19096825\n",
      "Iteration 184, loss = 0.19262632\n",
      "Iteration 185, loss = 0.19197130\n",
      "Iteration 186, loss = 0.18973577\n",
      "Iteration 187, loss = 0.19071228\n",
      "Iteration 188, loss = 0.19031035\n",
      "Iteration 189, loss = 0.18915188\n",
      "Iteration 190, loss = 0.19026934\n",
      "Iteration 191, loss = 0.18897148\n",
      "Iteration 192, loss = 0.18964220\n",
      "Iteration 193, loss = 0.19118311\n",
      "Iteration 194, loss = 0.18775310\n",
      "Iteration 195, loss = 0.18824269\n",
      "Iteration 196, loss = 0.18833789\n",
      "Iteration 197, loss = 0.18770036\n",
      "Iteration 198, loss = 0.18704219\n",
      "Iteration 199, loss = 0.18787486\n",
      "Iteration 200, loss = 0.18686814\n",
      "Iteration 201, loss = 0.18765193\n",
      "Iteration 202, loss = 0.18786898\n",
      "Iteration 203, loss = 0.18653479\n",
      "Iteration 204, loss = 0.18708072\n",
      "Iteration 205, loss = 0.18620737\n",
      "Iteration 206, loss = 0.18571736\n",
      "Iteration 207, loss = 0.18639433\n",
      "Iteration 208, loss = 0.18507884\n",
      "Iteration 209, loss = 0.18531494\n",
      "Iteration 210, loss = 0.18399636\n",
      "Iteration 211, loss = 0.18557207\n",
      "Iteration 212, loss = 0.18501813\n",
      "Iteration 213, loss = 0.18377585\n",
      "Iteration 214, loss = 0.18288886\n",
      "Iteration 215, loss = 0.18332717\n",
      "Iteration 216, loss = 0.18353082\n",
      "Iteration 217, loss = 0.18271971\n",
      "Iteration 218, loss = 0.18140235\n",
      "Iteration 219, loss = 0.18197624\n",
      "Iteration 220, loss = 0.18225599\n",
      "Iteration 221, loss = 0.18303402\n",
      "Iteration 222, loss = 0.18151172\n",
      "Iteration 223, loss = 0.18202902\n",
      "Iteration 224, loss = 0.18186362\n",
      "Iteration 225, loss = 0.18177818\n",
      "Iteration 226, loss = 0.18098949\n",
      "Iteration 227, loss = 0.17973961\n",
      "Iteration 228, loss = 0.18038474\n",
      "Iteration 229, loss = 0.18023976\n",
      "Iteration 230, loss = 0.18198301\n",
      "Iteration 231, loss = 0.18054013\n",
      "Iteration 232, loss = 0.17999838\n",
      "Iteration 233, loss = 0.18055204\n",
      "Iteration 234, loss = 0.17919948\n",
      "Iteration 235, loss = 0.18083840\n",
      "Iteration 236, loss = 0.17908642\n",
      "Iteration 237, loss = 0.17871996\n",
      "Iteration 238, loss = 0.17913315\n",
      "Iteration 239, loss = 0.17792169\n",
      "Iteration 240, loss = 0.17876495\n",
      "Iteration 241, loss = 0.17940679\n",
      "Iteration 242, loss = 0.17793647\n",
      "Iteration 243, loss = 0.17861835\n",
      "Iteration 244, loss = 0.17857205\n",
      "Iteration 245, loss = 0.17714302\n",
      "Iteration 246, loss = 0.17728672\n",
      "Iteration 247, loss = 0.17664144\n",
      "Iteration 248, loss = 0.17687024\n",
      "Iteration 249, loss = 0.17752289\n",
      "Iteration 250, loss = 0.17705078\n",
      "Iteration 251, loss = 0.17633555\n",
      "Iteration 252, loss = 0.17543474\n",
      "Iteration 253, loss = 0.17549683\n",
      "Iteration 254, loss = 0.17681150\n",
      "Iteration 255, loss = 0.17652380\n"
     ]
    },
    {
     "name": "stdout",
     "output_type": "stream",
     "text": [
      "Iteration 256, loss = 0.17445493\n",
      "Iteration 257, loss = 0.17584325\n",
      "Iteration 258, loss = 0.17489281\n",
      "Iteration 259, loss = 0.17638690\n",
      "Iteration 260, loss = 0.17433427\n",
      "Iteration 261, loss = 0.17471863\n",
      "Iteration 262, loss = 0.17438480\n",
      "Iteration 263, loss = 0.17379378\n",
      "Iteration 264, loss = 0.17563527\n",
      "Iteration 265, loss = 0.17332480\n",
      "Iteration 266, loss = 0.17368491\n",
      "Iteration 267, loss = 0.17464267\n",
      "Iteration 268, loss = 0.17295532\n",
      "Iteration 269, loss = 0.17431571\n",
      "Iteration 270, loss = 0.17289409\n",
      "Iteration 271, loss = 0.17412473\n",
      "Iteration 272, loss = 0.17338758\n",
      "Iteration 273, loss = 0.17169661\n",
      "Iteration 274, loss = 0.17179368\n",
      "Iteration 275, loss = 0.17146743\n",
      "Iteration 276, loss = 0.17116775\n",
      "Iteration 277, loss = 0.17097835\n",
      "Iteration 278, loss = 0.17129734\n",
      "Iteration 279, loss = 0.17129051\n",
      "Iteration 280, loss = 0.17157549\n",
      "Iteration 281, loss = 0.17076698\n",
      "Iteration 282, loss = 0.17008921\n",
      "Iteration 283, loss = 0.17137844\n",
      "Iteration 284, loss = 0.17079752\n",
      "Iteration 285, loss = 0.17055334\n",
      "Iteration 286, loss = 0.17052286\n",
      "Iteration 287, loss = 0.16969014\n",
      "Iteration 288, loss = 0.16945977\n",
      "Iteration 289, loss = 0.16982447\n",
      "Iteration 290, loss = 0.16887780\n",
      "Iteration 291, loss = 0.16954932\n",
      "Iteration 292, loss = 0.16939679\n",
      "Iteration 293, loss = 0.17086177\n",
      "Iteration 294, loss = 0.16973828\n",
      "Iteration 295, loss = 0.16813511\n",
      "Iteration 296, loss = 0.16933744\n",
      "Iteration 297, loss = 0.16919503\n",
      "Iteration 298, loss = 0.16892812\n",
      "Iteration 299, loss = 0.16853327\n",
      "Iteration 300, loss = 0.16834405\n",
      "Iteration 301, loss = 0.16719154\n",
      "Iteration 302, loss = 0.16669540\n",
      "Iteration 303, loss = 0.16778477\n",
      "Iteration 304, loss = 0.16729109\n",
      "Iteration 305, loss = 0.16700140\n",
      "Iteration 306, loss = 0.16684473\n",
      "Iteration 307, loss = 0.16604488\n",
      "Iteration 308, loss = 0.16708441\n",
      "Iteration 309, loss = 0.16581898\n",
      "Iteration 310, loss = 0.16702966\n",
      "Iteration 311, loss = 0.16665553\n",
      "Iteration 312, loss = 0.16685443\n",
      "Iteration 313, loss = 0.16583853\n",
      "Iteration 314, loss = 0.16542186\n",
      "Iteration 315, loss = 0.16517923\n",
      "Iteration 316, loss = 0.16492007\n",
      "Iteration 317, loss = 0.16550170\n",
      "Iteration 318, loss = 0.16544445\n",
      "Iteration 319, loss = 0.16577857\n",
      "Iteration 320, loss = 0.16612228\n",
      "Iteration 321, loss = 0.16389234\n",
      "Iteration 322, loss = 0.16416570\n",
      "Iteration 323, loss = 0.16490951\n",
      "Iteration 324, loss = 0.16343592\n",
      "Iteration 325, loss = 0.16419501\n",
      "Iteration 326, loss = 0.16416962\n",
      "Iteration 327, loss = 0.16401304\n",
      "Iteration 328, loss = 0.16345471\n",
      "Iteration 329, loss = 0.16367788\n",
      "Iteration 330, loss = 0.16425404\n",
      "Iteration 331, loss = 0.16346575\n",
      "Iteration 332, loss = 0.16368568\n",
      "Iteration 333, loss = 0.16355781\n",
      "Iteration 334, loss = 0.16278966\n",
      "Iteration 335, loss = 0.16252527\n",
      "Iteration 336, loss = 0.16297456\n",
      "Iteration 337, loss = 0.16280007\n",
      "Iteration 338, loss = 0.16235165\n",
      "Iteration 339, loss = 0.16182443\n",
      "Iteration 340, loss = 0.16219762\n",
      "Iteration 341, loss = 0.16161886\n",
      "Iteration 342, loss = 0.16223531\n",
      "Iteration 343, loss = 0.16196793\n",
      "Iteration 344, loss = 0.16218210\n",
      "Iteration 345, loss = 0.16125291\n",
      "Iteration 346, loss = 0.16107382\n",
      "Iteration 347, loss = 0.16119961\n",
      "Iteration 348, loss = 0.16153089\n",
      "Iteration 349, loss = 0.16055818\n",
      "Iteration 350, loss = 0.16064849\n",
      "Iteration 351, loss = 0.16037839\n",
      "Iteration 352, loss = 0.16061210\n",
      "Iteration 353, loss = 0.16144193\n",
      "Iteration 354, loss = 0.16018095\n",
      "Iteration 355, loss = 0.15973852\n",
      "Iteration 356, loss = 0.15935077\n",
      "Iteration 357, loss = 0.16033981\n",
      "Iteration 358, loss = 0.15929589\n",
      "Iteration 359, loss = 0.15972614\n",
      "Iteration 360, loss = 0.15952779\n",
      "Iteration 361, loss = 0.16006435\n",
      "Iteration 362, loss = 0.15937979\n",
      "Iteration 363, loss = 0.15898757\n",
      "Iteration 364, loss = 0.15843831\n",
      "Iteration 365, loss = 0.15984757\n",
      "Iteration 366, loss = 0.16144227\n",
      "Iteration 367, loss = 0.15842661\n",
      "Iteration 368, loss = 0.15887974\n",
      "Iteration 369, loss = 0.15721052\n",
      "Iteration 370, loss = 0.15927175\n",
      "Iteration 371, loss = 0.16024658\n",
      "Iteration 372, loss = 0.15783724\n",
      "Iteration 373, loss = 0.15652477\n",
      "Iteration 374, loss = 0.15710099\n",
      "Iteration 375, loss = 0.15632537\n",
      "Iteration 376, loss = 0.15715657\n",
      "Iteration 377, loss = 0.15752910\n",
      "Iteration 378, loss = 0.15856745\n",
      "Iteration 379, loss = 0.15835545\n",
      "Iteration 380, loss = 0.15924790\n",
      "Iteration 381, loss = 0.15828106\n",
      "Iteration 382, loss = 0.15719993\n",
      "Iteration 383, loss = 0.15740644\n",
      "Iteration 384, loss = 0.15802086\n",
      "Iteration 385, loss = 0.15779663\n",
      "Iteration 386, loss = 0.15549781\n",
      "Iteration 387, loss = 0.15632166\n",
      "Iteration 388, loss = 0.15808295\n",
      "Iteration 389, loss = 0.15738811\n",
      "Iteration 390, loss = 0.15696999\n",
      "Iteration 391, loss = 0.15639911\n",
      "Iteration 392, loss = 0.15502399\n",
      "Iteration 393, loss = 0.15638587\n",
      "Iteration 394, loss = 0.15622134\n",
      "Iteration 395, loss = 0.15519577\n",
      "Iteration 396, loss = 0.15516037\n",
      "Iteration 397, loss = 0.15601908\n",
      "Iteration 398, loss = 0.15477320\n",
      "Iteration 399, loss = 0.15514928\n",
      "Iteration 400, loss = 0.15373180\n",
      "Iteration 401, loss = 0.15552604\n",
      "Iteration 402, loss = 0.15397417\n",
      "Iteration 403, loss = 0.15493246\n",
      "Iteration 404, loss = 0.15522855\n",
      "Iteration 405, loss = 0.15432096\n",
      "Iteration 406, loss = 0.15298499\n",
      "Iteration 407, loss = 0.15414630\n",
      "Iteration 408, loss = 0.15494389\n",
      "Iteration 409, loss = 0.15360401\n",
      "Iteration 410, loss = 0.15421122\n",
      "Iteration 411, loss = 0.15474105\n",
      "Iteration 412, loss = 0.15304059\n",
      "Iteration 413, loss = 0.15384680\n",
      "Iteration 414, loss = 0.15385652\n",
      "Iteration 415, loss = 0.15384384\n",
      "Iteration 416, loss = 0.15300723\n",
      "Iteration 417, loss = 0.15284581\n",
      "Iteration 418, loss = 0.15279440\n",
      "Iteration 419, loss = 0.15186656\n",
      "Iteration 420, loss = 0.15267680\n",
      "Iteration 421, loss = 0.15381667\n",
      "Iteration 422, loss = 0.15241234\n",
      "Iteration 423, loss = 0.15282961\n",
      "Iteration 424, loss = 0.15331978\n",
      "Iteration 425, loss = 0.15241714\n",
      "Iteration 426, loss = 0.15139771\n",
      "Iteration 427, loss = 0.15193075\n",
      "Iteration 428, loss = 0.15245420\n",
      "Iteration 429, loss = 0.15253201\n",
      "Iteration 430, loss = 0.15160539\n",
      "Iteration 431, loss = 0.15080281\n",
      "Iteration 432, loss = 0.15243892\n",
      "Iteration 433, loss = 0.15120389\n",
      "Iteration 434, loss = 0.15115596\n",
      "Iteration 435, loss = 0.15081004\n",
      "Iteration 436, loss = 0.15151894\n",
      "Iteration 437, loss = 0.15105520\n",
      "Iteration 438, loss = 0.15002565\n",
      "Iteration 439, loss = 0.15105874\n",
      "Iteration 440, loss = 0.14968104\n",
      "Iteration 441, loss = 0.14956556\n",
      "Iteration 442, loss = 0.15051173\n",
      "Iteration 443, loss = 0.15063502\n",
      "Iteration 444, loss = 0.15006844\n",
      "Iteration 445, loss = 0.14998831\n",
      "Iteration 446, loss = 0.15009751\n",
      "Iteration 447, loss = 0.15044062\n",
      "Iteration 448, loss = 0.14896729\n",
      "Iteration 449, loss = 0.14978087\n",
      "Iteration 450, loss = 0.14954041\n",
      "Iteration 451, loss = 0.15020473\n",
      "Iteration 452, loss = 0.14976639\n",
      "Iteration 453, loss = 0.14881425\n",
      "Iteration 454, loss = 0.15029743\n",
      "Iteration 455, loss = 0.15033614\n",
      "Iteration 456, loss = 0.14792934\n",
      "Iteration 457, loss = 0.14959141\n",
      "Iteration 458, loss = 0.14973147\n",
      "Iteration 459, loss = 0.14806658\n",
      "Iteration 460, loss = 0.14859940\n",
      "Iteration 461, loss = 0.14992706\n",
      "Iteration 462, loss = 0.14732073\n",
      "Iteration 463, loss = 0.15043619\n",
      "Iteration 464, loss = 0.14896187\n",
      "Iteration 465, loss = 0.14878344\n",
      "Iteration 466, loss = 0.14930520\n",
      "Iteration 467, loss = 0.14722229\n",
      "Iteration 468, loss = 0.14792325\n",
      "Iteration 469, loss = 0.14844754\n",
      "Iteration 470, loss = 0.14854367\n",
      "Iteration 471, loss = 0.14964573\n",
      "Iteration 472, loss = 0.14711434\n",
      "Iteration 473, loss = 0.14711699\n",
      "Iteration 474, loss = 0.14831206\n",
      "Iteration 475, loss = 0.14925790\n",
      "Iteration 476, loss = 0.14775132\n",
      "Iteration 477, loss = 0.14595712\n",
      "Iteration 478, loss = 0.14659594\n",
      "Iteration 479, loss = 0.14661179\n",
      "Iteration 480, loss = 0.14696461\n",
      "Iteration 481, loss = 0.14608261\n",
      "Iteration 482, loss = 0.14614391\n",
      "Iteration 483, loss = 0.14826415\n",
      "Iteration 484, loss = 0.14706063\n",
      "Iteration 485, loss = 0.14509737\n",
      "Iteration 486, loss = 0.14641362\n",
      "Iteration 487, loss = 0.14774268\n",
      "Iteration 488, loss = 0.14652585\n",
      "Iteration 489, loss = 0.14543768\n",
      "Iteration 490, loss = 0.14614352\n",
      "Iteration 491, loss = 0.14577507\n",
      "Iteration 492, loss = 0.14502722\n",
      "Iteration 493, loss = 0.14545388\n",
      "Iteration 494, loss = 0.14438808\n",
      "Iteration 495, loss = 0.14491963\n",
      "Iteration 496, loss = 0.14481730\n",
      "Iteration 497, loss = 0.14531820\n",
      "Iteration 498, loss = 0.14510498\n",
      "Iteration 499, loss = 0.14521218\n",
      "Iteration 500, loss = 0.14500102\n",
      "Iteration 501, loss = 0.14525998\n",
      "Iteration 502, loss = 0.14561887\n",
      "Iteration 503, loss = 0.14496898\n",
      "Iteration 504, loss = 0.14501488\n"
     ]
    },
    {
     "name": "stdout",
     "output_type": "stream",
     "text": [
      "Iteration 505, loss = 0.14477641\n",
      "Training loss did not improve more than tol=0.000100 for 10 consecutive epochs. Stopping.\n"
     ]
    },
    {
     "data": {
      "text/plain": [
       "MLPClassifier(max_iter=1000, verbose=True)"
      ]
     },
     "execution_count": 14,
     "metadata": {},
     "output_type": "execute_result"
    }
   ],
   "source": [
    "mlp_clf = MLPClassifier(hidden_layer_sizes=(100,), max_iter=1000, verbose=True)\n",
    "\n",
    "mlp_clf.fit(train_x, train_y)\n",
    "\n",
    "# default loss function is cross-entropy or log-loss \n",
    "# classifier predicts a probability (0-1), while the actual is 0 or 1 see doc below\n",
    "# https://ml-cheatsheet.readthedocs.io/en/latest/loss_functions.html"
   ]
  },
  {
   "cell_type": "markdown",
   "metadata": {},
   "source": [
    "# Classification Matrix"
   ]
  },
  {
   "cell_type": "code",
   "execution_count": 15,
   "metadata": {},
   "outputs": [],
   "source": [
    "test_y_pred = mlp_clf.predict(test_x)"
   ]
  },
  {
   "cell_type": "code",
   "execution_count": 16,
   "metadata": {
    "scrolled": true
   },
   "outputs": [
    {
     "data": {
      "text/plain": [
       "array([[2500,   45,   17,   86],\n",
       "       [  53, 1929,    4,    0],\n",
       "       [  33,    4,  641,   17],\n",
       "       [ 145,    0,   14,  642]])"
      ]
     },
     "execution_count": 16,
     "metadata": {},
     "output_type": "execute_result"
    }
   ],
   "source": [
    "from sklearn.metrics import confusion_matrix\n",
    "\n",
    "confusion_matrix(test_y, test_y_pred)"
   ]
  },
  {
   "cell_type": "code",
   "execution_count": 17,
   "metadata": {},
   "outputs": [
    {
     "name": "stdout",
     "output_type": "stream",
     "text": [
      "0.931810766721044\n"
     ]
    }
   ],
   "source": [
    "from sklearn.metrics import accuracy_score\n",
    "\n",
    "print(accuracy_score(test_y, test_y_pred))"
   ]
  },
  {
   "cell_type": "markdown",
   "metadata": {},
   "source": [
    "# Change the number of neurons"
   ]
  },
  {
   "cell_type": "code",
   "execution_count": 18,
   "metadata": {},
   "outputs": [
    {
     "name": "stdout",
     "output_type": "stream",
     "text": [
      "Iteration 1, loss = 1.07665520\n",
      "Iteration 2, loss = 0.77140823\n",
      "Iteration 3, loss = 0.66817168\n",
      "Iteration 4, loss = 0.60773372\n",
      "Iteration 5, loss = 0.56201671\n",
      "Iteration 6, loss = 0.52523229\n",
      "Iteration 7, loss = 0.49393103\n",
      "Iteration 8, loss = 0.46616753\n",
      "Iteration 9, loss = 0.44395169\n",
      "Iteration 10, loss = 0.42374618\n",
      "Iteration 11, loss = 0.40714454\n",
      "Iteration 12, loss = 0.39162391\n",
      "Iteration 13, loss = 0.37807186\n",
      "Iteration 14, loss = 0.36669824\n",
      "Iteration 15, loss = 0.35625169\n",
      "Iteration 16, loss = 0.34691681\n",
      "Iteration 17, loss = 0.33955587\n",
      "Iteration 18, loss = 0.33074014\n",
      "Iteration 19, loss = 0.32372723\n",
      "Iteration 20, loss = 0.31666862\n",
      "Iteration 21, loss = 0.31121161\n",
      "Iteration 22, loss = 0.30751974\n",
      "Iteration 23, loss = 0.30151788\n",
      "Iteration 24, loss = 0.29739494\n",
      "Iteration 25, loss = 0.29297470\n",
      "Iteration 26, loss = 0.28898589\n",
      "Iteration 27, loss = 0.28641664\n",
      "Iteration 28, loss = 0.28145054\n",
      "Iteration 29, loss = 0.28077429\n",
      "Iteration 30, loss = 0.27602116\n",
      "Iteration 31, loss = 0.27349818\n",
      "Iteration 32, loss = 0.27089574\n",
      "Iteration 33, loss = 0.26770389\n",
      "Iteration 34, loss = 0.26594727\n",
      "Iteration 35, loss = 0.26363728\n",
      "Iteration 36, loss = 0.26171060\n",
      "Iteration 37, loss = 0.25890265\n",
      "Iteration 38, loss = 0.25772010\n",
      "Iteration 39, loss = 0.25602898\n",
      "Iteration 40, loss = 0.25291025\n",
      "Iteration 41, loss = 0.25129793\n",
      "Iteration 42, loss = 0.25132362\n",
      "Iteration 43, loss = 0.25037939\n",
      "Iteration 44, loss = 0.24760892\n",
      "Iteration 45, loss = 0.24553335\n",
      "Iteration 46, loss = 0.24368165\n",
      "Iteration 47, loss = 0.24211106\n",
      "Iteration 48, loss = 0.24102698\n",
      "Iteration 49, loss = 0.23986775\n",
      "Iteration 50, loss = 0.23839039\n",
      "Iteration 51, loss = 0.23833975\n",
      "Iteration 52, loss = 0.23782956\n",
      "Iteration 53, loss = 0.23546711\n",
      "Iteration 54, loss = 0.23406258\n",
      "Iteration 55, loss = 0.23518671\n",
      "Iteration 56, loss = 0.23099293\n",
      "Iteration 57, loss = 0.23123651\n",
      "Iteration 58, loss = 0.23048572\n",
      "Iteration 59, loss = 0.22772236\n",
      "Iteration 60, loss = 0.22654627\n",
      "Iteration 61, loss = 0.22794318\n",
      "Iteration 62, loss = 0.22449416\n",
      "Iteration 63, loss = 0.22537335\n",
      "Iteration 64, loss = 0.22405092\n",
      "Iteration 65, loss = 0.22520661\n",
      "Iteration 66, loss = 0.22284779\n",
      "Iteration 67, loss = 0.22061170\n",
      "Iteration 68, loss = 0.22065299\n",
      "Iteration 69, loss = 0.21936747\n",
      "Iteration 70, loss = 0.21877210\n",
      "Iteration 71, loss = 0.21727118\n",
      "Iteration 72, loss = 0.21716756\n",
      "Iteration 73, loss = 0.21700631\n",
      "Iteration 74, loss = 0.21607301\n",
      "Iteration 75, loss = 0.21438742\n",
      "Iteration 76, loss = 0.21562423\n",
      "Iteration 77, loss = 0.21318944\n",
      "Iteration 78, loss = 0.21193902\n",
      "Iteration 79, loss = 0.21264385\n",
      "Iteration 80, loss = 0.21179657\n",
      "Iteration 81, loss = 0.21062435\n",
      "Iteration 82, loss = 0.20827830\n",
      "Iteration 83, loss = 0.20808709\n",
      "Iteration 84, loss = 0.20856416\n",
      "Iteration 85, loss = 0.20824330\n",
      "Iteration 86, loss = 0.20584509\n",
      "Iteration 87, loss = 0.20658426\n",
      "Iteration 88, loss = 0.20637908\n",
      "Iteration 89, loss = 0.20441734\n",
      "Iteration 90, loss = 0.20412944\n",
      "Iteration 91, loss = 0.20476309\n",
      "Iteration 92, loss = 0.20402003\n",
      "Iteration 93, loss = 0.20364388\n",
      "Iteration 94, loss = 0.20163456\n",
      "Iteration 95, loss = 0.20293735\n",
      "Iteration 96, loss = 0.20108720\n",
      "Iteration 97, loss = 0.19974776\n",
      "Iteration 98, loss = 0.19931708\n",
      "Iteration 99, loss = 0.19983846\n",
      "Iteration 100, loss = 0.19860107\n",
      "Iteration 101, loss = 0.19758571\n",
      "Iteration 102, loss = 0.19759381\n",
      "Iteration 103, loss = 0.19572244\n",
      "Iteration 104, loss = 0.19712848\n",
      "Iteration 105, loss = 0.19531683\n",
      "Iteration 106, loss = 0.19515527\n",
      "Iteration 107, loss = 0.19791719\n",
      "Iteration 108, loss = 0.19491823\n",
      "Iteration 109, loss = 0.19471662\n",
      "Iteration 110, loss = 0.19575196\n",
      "Iteration 111, loss = 0.19301364\n",
      "Iteration 112, loss = 0.19232124\n",
      "Iteration 113, loss = 0.19289788\n",
      "Iteration 114, loss = 0.19262887\n",
      "Iteration 115, loss = 0.19476392\n",
      "Iteration 116, loss = 0.19151652\n",
      "Iteration 117, loss = 0.19051613\n",
      "Iteration 118, loss = 0.19093866\n",
      "Iteration 119, loss = 0.18899665\n",
      "Iteration 120, loss = 0.18968475\n",
      "Iteration 121, loss = 0.18877714\n",
      "Iteration 122, loss = 0.18725997\n",
      "Iteration 123, loss = 0.18681615\n",
      "Iteration 124, loss = 0.18621690\n",
      "Iteration 125, loss = 0.18720445\n",
      "Iteration 126, loss = 0.18663501\n",
      "Iteration 127, loss = 0.18595887\n",
      "Iteration 128, loss = 0.18596704\n",
      "Iteration 129, loss = 0.18886236\n",
      "Iteration 130, loss = 0.18456148\n",
      "Iteration 131, loss = 0.18309766\n",
      "Iteration 132, loss = 0.18322841\n",
      "Iteration 133, loss = 0.18310654\n",
      "Iteration 134, loss = 0.18493498\n",
      "Iteration 135, loss = 0.18225044\n",
      "Iteration 136, loss = 0.18330826\n",
      "Iteration 137, loss = 0.18169538\n",
      "Iteration 138, loss = 0.18244273\n",
      "Iteration 139, loss = 0.18285674\n",
      "Iteration 140, loss = 0.18063307\n",
      "Iteration 141, loss = 0.18027700\n",
      "Iteration 142, loss = 0.18019289\n",
      "Iteration 143, loss = 0.17906417\n",
      "Iteration 144, loss = 0.17959343\n",
      "Iteration 145, loss = 0.17910558\n",
      "Iteration 146, loss = 0.17927205\n",
      "Iteration 147, loss = 0.17782672\n",
      "Iteration 148, loss = 0.17672862\n",
      "Iteration 149, loss = 0.17632865\n",
      "Iteration 150, loss = 0.17749692\n",
      "Iteration 151, loss = 0.17558156\n",
      "Iteration 152, loss = 0.17662175\n",
      "Iteration 153, loss = 0.17634381\n",
      "Iteration 154, loss = 0.17599448\n",
      "Iteration 155, loss = 0.17675619\n",
      "Iteration 156, loss = 0.17512786\n",
      "Iteration 157, loss = 0.17459603\n",
      "Iteration 158, loss = 0.17581237\n",
      "Iteration 159, loss = 0.17432243\n",
      "Iteration 160, loss = 0.17432217\n",
      "Iteration 161, loss = 0.17169728\n",
      "Iteration 162, loss = 0.17235890\n",
      "Iteration 163, loss = 0.17277633\n",
      "Iteration 164, loss = 0.17315456\n",
      "Iteration 165, loss = 0.17144070\n",
      "Iteration 166, loss = 0.17228653\n",
      "Iteration 167, loss = 0.17127763\n",
      "Iteration 168, loss = 0.17104315\n",
      "Iteration 169, loss = 0.17227386\n",
      "Iteration 170, loss = 0.17234373\n",
      "Iteration 171, loss = 0.17160669\n",
      "Iteration 172, loss = 0.16977396\n",
      "Iteration 173, loss = 0.16938826\n",
      "Iteration 174, loss = 0.16892758\n",
      "Iteration 175, loss = 0.16975510\n",
      "Iteration 176, loss = 0.16829373\n",
      "Iteration 177, loss = 0.16837286\n",
      "Iteration 178, loss = 0.17021569\n",
      "Iteration 179, loss = 0.16783541\n",
      "Iteration 180, loss = 0.16707533\n",
      "Iteration 181, loss = 0.16551529\n",
      "Iteration 182, loss = 0.16814515\n",
      "Iteration 183, loss = 0.16525400\n",
      "Iteration 184, loss = 0.16682825\n",
      "Iteration 185, loss = 0.16592558\n",
      "Iteration 186, loss = 0.16687769\n",
      "Iteration 187, loss = 0.16593419\n",
      "Iteration 188, loss = 0.16437790\n",
      "Iteration 189, loss = 0.16542804\n",
      "Iteration 190, loss = 0.16520676\n",
      "Iteration 191, loss = 0.16334494\n",
      "Iteration 192, loss = 0.16583020\n",
      "Iteration 193, loss = 0.16471960\n",
      "Iteration 194, loss = 0.16327756\n",
      "Iteration 195, loss = 0.16625475\n",
      "Iteration 196, loss = 0.16478520\n",
      "Iteration 197, loss = 0.16353430\n",
      "Iteration 198, loss = 0.16206792\n",
      "Iteration 199, loss = 0.16292903\n",
      "Iteration 200, loss = 0.16166951\n",
      "Iteration 201, loss = 0.16201336\n",
      "Iteration 202, loss = 0.16185961\n",
      "Iteration 203, loss = 0.16146146\n",
      "Iteration 204, loss = 0.16272668\n",
      "Iteration 205, loss = 0.16163047\n",
      "Iteration 206, loss = 0.16122442\n",
      "Iteration 207, loss = 0.15996194\n",
      "Iteration 208, loss = 0.15927288\n",
      "Iteration 209, loss = 0.16044775\n",
      "Iteration 210, loss = 0.16034950\n",
      "Iteration 211, loss = 0.16220805\n",
      "Iteration 212, loss = 0.15994699\n",
      "Iteration 213, loss = 0.15875010\n",
      "Iteration 214, loss = 0.15885797\n",
      "Iteration 215, loss = 0.15966617\n",
      "Iteration 216, loss = 0.15794702\n",
      "Iteration 217, loss = 0.15856369\n",
      "Iteration 218, loss = 0.15773626\n",
      "Iteration 219, loss = 0.15663629\n",
      "Iteration 220, loss = 0.15793692\n",
      "Iteration 221, loss = 0.15847837\n",
      "Iteration 222, loss = 0.15623357\n",
      "Iteration 223, loss = 0.15718359\n",
      "Iteration 224, loss = 0.15625428\n",
      "Iteration 225, loss = 0.15647519\n",
      "Iteration 226, loss = 0.15760380\n",
      "Iteration 227, loss = 0.15558977\n",
      "Iteration 228, loss = 0.15598046\n",
      "Iteration 229, loss = 0.15663650\n",
      "Iteration 230, loss = 0.15423392\n",
      "Iteration 231, loss = 0.15630985\n",
      "Iteration 232, loss = 0.15758348\n",
      "Iteration 233, loss = 0.15560127\n",
      "Iteration 234, loss = 0.15527129\n",
      "Iteration 235, loss = 0.15464357\n",
      "Iteration 236, loss = 0.15418315\n",
      "Iteration 237, loss = 0.15309012\n",
      "Iteration 238, loss = 0.15522335\n",
      "Iteration 239, loss = 0.15274326\n",
      "Iteration 240, loss = 0.15626700\n",
      "Iteration 241, loss = 0.15502846\n",
      "Iteration 242, loss = 0.15230517\n",
      "Iteration 243, loss = 0.15364626\n",
      "Iteration 244, loss = 0.15142399\n",
      "Iteration 245, loss = 0.15207904\n",
      "Iteration 246, loss = 0.15064925\n",
      "Iteration 247, loss = 0.15099022\n",
      "Iteration 248, loss = 0.15274903\n",
      "Iteration 249, loss = 0.15243436\n",
      "Iteration 250, loss = 0.15043887\n",
      "Iteration 251, loss = 0.14979650\n",
      "Iteration 252, loss = 0.15057323\n"
     ]
    },
    {
     "name": "stdout",
     "output_type": "stream",
     "text": [
      "Iteration 253, loss = 0.15007190\n",
      "Iteration 254, loss = 0.15057881\n",
      "Iteration 255, loss = 0.15061505\n",
      "Iteration 256, loss = 0.15136623\n",
      "Iteration 257, loss = 0.14855094\n",
      "Iteration 258, loss = 0.14865903\n",
      "Iteration 259, loss = 0.14959358\n",
      "Iteration 260, loss = 0.15014809\n",
      "Iteration 261, loss = 0.14939778\n",
      "Iteration 262, loss = 0.15262056\n",
      "Iteration 263, loss = 0.14942259\n",
      "Iteration 264, loss = 0.14955455\n",
      "Iteration 265, loss = 0.14797066\n",
      "Iteration 266, loss = 0.14751468\n",
      "Iteration 267, loss = 0.15076922\n",
      "Iteration 268, loss = 0.14771222\n",
      "Iteration 269, loss = 0.14584924\n",
      "Iteration 270, loss = 0.14719228\n",
      "Iteration 271, loss = 0.14651429\n",
      "Iteration 272, loss = 0.14597038\n",
      "Iteration 273, loss = 0.14702139\n",
      "Iteration 274, loss = 0.14616104\n",
      "Iteration 275, loss = 0.14548016\n",
      "Iteration 276, loss = 0.14544100\n",
      "Iteration 277, loss = 0.14560926\n",
      "Iteration 278, loss = 0.14583891\n",
      "Iteration 279, loss = 0.14632315\n",
      "Iteration 280, loss = 0.14414097\n",
      "Iteration 281, loss = 0.14498105\n",
      "Iteration 282, loss = 0.14571650\n",
      "Iteration 283, loss = 0.14464448\n",
      "Iteration 284, loss = 0.14636264\n",
      "Iteration 285, loss = 0.14420512\n",
      "Iteration 286, loss = 0.14657047\n",
      "Iteration 287, loss = 0.14537324\n",
      "Iteration 288, loss = 0.14604497\n",
      "Iteration 289, loss = 0.14492171\n",
      "Iteration 290, loss = 0.14472838\n",
      "Iteration 291, loss = 0.14267663\n",
      "Iteration 292, loss = 0.14339881\n",
      "Iteration 293, loss = 0.14461293\n",
      "Iteration 294, loss = 0.14307945\n",
      "Iteration 295, loss = 0.14153364\n",
      "Iteration 296, loss = 0.14157356\n",
      "Iteration 297, loss = 0.14322013\n",
      "Iteration 298, loss = 0.14224323\n",
      "Iteration 299, loss = 0.13997847\n",
      "Iteration 300, loss = 0.14034277\n",
      "Iteration 301, loss = 0.14078933\n",
      "Iteration 302, loss = 0.14160681\n",
      "Iteration 303, loss = 0.13963177\n",
      "Iteration 304, loss = 0.14184477\n",
      "Iteration 305, loss = 0.14040003\n",
      "Iteration 306, loss = 0.14215792\n",
      "Iteration 307, loss = 0.14018476\n",
      "Iteration 308, loss = 0.14030005\n",
      "Iteration 309, loss = 0.13966652\n",
      "Iteration 310, loss = 0.13909631\n",
      "Iteration 311, loss = 0.14045981\n",
      "Iteration 312, loss = 0.13960713\n",
      "Iteration 313, loss = 0.13792730\n",
      "Iteration 314, loss = 0.13986471\n",
      "Iteration 315, loss = 0.13868254\n",
      "Iteration 316, loss = 0.13882279\n",
      "Iteration 317, loss = 0.14048630\n",
      "Iteration 318, loss = 0.13834878\n",
      "Iteration 319, loss = 0.13826606\n",
      "Iteration 320, loss = 0.13859477\n",
      "Iteration 321, loss = 0.13654738\n",
      "Iteration 322, loss = 0.13785821\n",
      "Iteration 323, loss = 0.13719631\n",
      "Iteration 324, loss = 0.13577647\n",
      "Iteration 325, loss = 0.14155865\n",
      "Iteration 326, loss = 0.14094211\n",
      "Iteration 327, loss = 0.13628592\n",
      "Iteration 328, loss = 0.13598589\n",
      "Iteration 329, loss = 0.13631906\n",
      "Iteration 330, loss = 0.13614754\n",
      "Iteration 331, loss = 0.13533337\n",
      "Iteration 332, loss = 0.13609655\n",
      "Iteration 333, loss = 0.13694985\n",
      "Iteration 334, loss = 0.13815241\n",
      "Iteration 335, loss = 0.13659414\n",
      "Iteration 336, loss = 0.13644298\n",
      "Iteration 337, loss = 0.13653567\n",
      "Iteration 338, loss = 0.13492089\n",
      "Iteration 339, loss = 0.13630786\n",
      "Iteration 340, loss = 0.13538765\n",
      "Iteration 341, loss = 0.13382105\n",
      "Iteration 342, loss = 0.13618414\n",
      "Iteration 343, loss = 0.13397697\n",
      "Iteration 344, loss = 0.13381271\n",
      "Iteration 345, loss = 0.13456808\n",
      "Iteration 346, loss = 0.13624335\n",
      "Iteration 347, loss = 0.13610804\n",
      "Iteration 348, loss = 0.13444301\n",
      "Iteration 349, loss = 0.13267646\n",
      "Iteration 350, loss = 0.13462186\n",
      "Iteration 351, loss = 0.13446773\n",
      "Iteration 352, loss = 0.13338881\n",
      "Iteration 353, loss = 0.13616323\n",
      "Iteration 354, loss = 0.13585967\n",
      "Iteration 355, loss = 0.13403394\n",
      "Iteration 356, loss = 0.13138763\n",
      "Iteration 357, loss = 0.13207477\n",
      "Iteration 358, loss = 0.13437382\n",
      "Iteration 359, loss = 0.13282873\n",
      "Iteration 360, loss = 0.13258532\n",
      "Iteration 361, loss = 0.13189902\n",
      "Iteration 362, loss = 0.13034789\n",
      "Iteration 363, loss = 0.13049104\n",
      "Iteration 364, loss = 0.13078362\n",
      "Iteration 365, loss = 0.13046353\n",
      "Iteration 366, loss = 0.13265285\n",
      "Iteration 367, loss = 0.13232551\n",
      "Iteration 368, loss = 0.13047195\n",
      "Iteration 369, loss = 0.13304006\n",
      "Iteration 370, loss = 0.13240012\n",
      "Iteration 371, loss = 0.12982955\n",
      "Iteration 372, loss = 0.13021457\n",
      "Iteration 373, loss = 0.13168289\n",
      "Iteration 374, loss = 0.12823809\n",
      "Iteration 375, loss = 0.12987552\n",
      "Iteration 376, loss = 0.12965204\n",
      "Iteration 377, loss = 0.12949671\n",
      "Iteration 378, loss = 0.13053710\n",
      "Iteration 379, loss = 0.12951577\n",
      "Iteration 380, loss = 0.12975203\n",
      "Iteration 381, loss = 0.12841067\n",
      "Iteration 382, loss = 0.12948124\n",
      "Iteration 383, loss = 0.12861127\n",
      "Iteration 384, loss = 0.12806052\n",
      "Iteration 385, loss = 0.13076366\n",
      "Iteration 386, loss = 0.12860856\n",
      "Iteration 387, loss = 0.12961108\n",
      "Iteration 388, loss = 0.12842220\n",
      "Iteration 389, loss = 0.12835958\n",
      "Iteration 390, loss = 0.12803911\n",
      "Iteration 391, loss = 0.12731723\n",
      "Iteration 392, loss = 0.12606928\n",
      "Iteration 393, loss = 0.12700027\n",
      "Iteration 394, loss = 0.12695431\n",
      "Iteration 395, loss = 0.12594940\n",
      "Iteration 396, loss = 0.12669355\n",
      "Iteration 397, loss = 0.12610747\n",
      "Iteration 398, loss = 0.12789999\n",
      "Iteration 399, loss = 0.12787762\n",
      "Iteration 400, loss = 0.12875016\n",
      "Iteration 401, loss = 0.12554863\n",
      "Iteration 402, loss = 0.12843090\n",
      "Iteration 403, loss = 0.12581964\n",
      "Iteration 404, loss = 0.12602644\n",
      "Iteration 405, loss = 0.12506108\n",
      "Iteration 406, loss = 0.12622279\n",
      "Iteration 407, loss = 0.12698969\n",
      "Iteration 408, loss = 0.12624706\n",
      "Iteration 409, loss = 0.12599984\n",
      "Iteration 410, loss = 0.12406932\n",
      "Iteration 411, loss = 0.12682378\n",
      "Iteration 412, loss = 0.12391222\n",
      "Iteration 413, loss = 0.12440874\n",
      "Iteration 414, loss = 0.12416142\n",
      "Iteration 415, loss = 0.12483123\n",
      "Iteration 416, loss = 0.12651803\n",
      "Iteration 417, loss = 0.12542298\n",
      "Iteration 418, loss = 0.12587380\n",
      "Iteration 419, loss = 0.12502864\n",
      "Iteration 420, loss = 0.12584070\n",
      "Iteration 421, loss = 0.12434665\n",
      "Iteration 422, loss = 0.12359954\n",
      "Iteration 423, loss = 0.12397514\n",
      "Iteration 424, loss = 0.12269274\n",
      "Iteration 425, loss = 0.12519556\n",
      "Iteration 426, loss = 0.12496100\n",
      "Iteration 427, loss = 0.12415818\n",
      "Iteration 428, loss = 0.12369645\n",
      "Iteration 429, loss = 0.12475940\n",
      "Iteration 430, loss = 0.12269173\n",
      "Iteration 431, loss = 0.12231882\n",
      "Iteration 432, loss = 0.12368734\n",
      "Iteration 433, loss = 0.12286802\n",
      "Iteration 434, loss = 0.12290350\n",
      "Iteration 435, loss = 0.12437853\n",
      "Iteration 436, loss = 0.12284348\n",
      "Iteration 437, loss = 0.12285729\n",
      "Iteration 438, loss = 0.12181916\n",
      "Iteration 439, loss = 0.12167125\n",
      "Iteration 440, loss = 0.12271349\n",
      "Iteration 441, loss = 0.12235680\n",
      "Iteration 442, loss = 0.12131031\n",
      "Iteration 443, loss = 0.11994377\n",
      "Iteration 444, loss = 0.12249982\n",
      "Iteration 445, loss = 0.12098074\n",
      "Iteration 446, loss = 0.12092260\n",
      "Iteration 447, loss = 0.12192281\n",
      "Iteration 448, loss = 0.12114745\n",
      "Iteration 449, loss = 0.12094150\n",
      "Iteration 450, loss = 0.12277387\n",
      "Iteration 451, loss = 0.12326665\n",
      "Iteration 452, loss = 0.12053879\n",
      "Iteration 453, loss = 0.12183381\n",
      "Iteration 454, loss = 0.12348657\n",
      "Training loss did not improve more than tol=0.000100 for 10 consecutive epochs. Stopping.\n"
     ]
    },
    {
     "data": {
      "text/plain": [
       "MLPClassifier(hidden_layer_sizes=(200,), max_iter=1000, verbose=True)"
      ]
     },
     "execution_count": 18,
     "metadata": {},
     "output_type": "execute_result"
    }
   ],
   "source": [
    "#Increase neurons from 100 to 200\n",
    "mlp_clf = MLPClassifier(max_iter=1000, verbose=True,\n",
    "                        hidden_layer_sizes=(200,))\n",
    "\n",
    "mlp_clf.fit(train_x, train_y)"
   ]
  },
  {
   "cell_type": "code",
   "execution_count": 19,
   "metadata": {},
   "outputs": [
    {
     "name": "stdout",
     "output_type": "stream",
     "text": [
      "0.933768352365416\n"
     ]
    }
   ],
   "source": [
    "test_y_pred = mlp_clf.predict(test_x)\n",
    "\n",
    "print(accuracy_score(test_y, test_y_pred))"
   ]
  },
  {
   "cell_type": "markdown",
   "metadata": {},
   "source": [
    "# Deep Neural Network"
   ]
  },
  {
   "cell_type": "code",
   "execution_count": 20,
   "metadata": {},
   "outputs": [
    {
     "data": {
      "text/plain": [
       "MLPClassifier(hidden_layer_sizes=(50, 25, 10), max_iter=1000)"
      ]
     },
     "execution_count": 20,
     "metadata": {},
     "output_type": "execute_result"
    }
   ],
   "source": [
    "dnn_clf = MLPClassifier(hidden_layer_sizes=(50,25,10),\n",
    "                       max_iter=1000)\n",
    "\n",
    "dnn_clf.fit(train_x, train_y)"
   ]
  },
  {
   "cell_type": "code",
   "execution_count": 21,
   "metadata": {},
   "outputs": [
    {
     "data": {
      "text/plain": [
       "262"
      ]
     },
     "execution_count": 21,
     "metadata": {},
     "output_type": "execute_result"
    }
   ],
   "source": [
    "#Let's check the number of iterations:\n",
    "dnn_clf.n_iter_"
   ]
  },
  {
   "cell_type": "code",
   "execution_count": 22,
   "metadata": {},
   "outputs": [
    {
     "data": {
      "text/plain": [
       "5"
      ]
     },
     "execution_count": 22,
     "metadata": {},
     "output_type": "execute_result"
    }
   ],
   "source": [
    "#Let's check the number of layers:\n",
    "dnn_clf.n_layers_"
   ]
  },
  {
   "cell_type": "code",
   "execution_count": 23,
   "metadata": {},
   "outputs": [
    {
     "name": "stdout",
     "output_type": "stream",
     "text": [
      "0.9489396411092985\n"
     ]
    }
   ],
   "source": [
    "test_y_pred = dnn_clf.predict(test_x)\n",
    "\n",
    "print(accuracy_score(test_y, test_y_pred))\n"
   ]
  },
  {
   "cell_type": "markdown",
   "metadata": {},
   "source": [
    "# Deeper Neural Network"
   ]
  },
  {
   "cell_type": "code",
   "execution_count": 24,
   "metadata": {},
   "outputs": [
    {
     "data": {
      "text/plain": [
       "MLPClassifier(hidden_layer_sizes=(100, 80, 60, 40, 20, 10), max_iter=1000)"
      ]
     },
     "execution_count": 24,
     "metadata": {},
     "output_type": "execute_result"
    }
   ],
   "source": [
    "dnn_clf = MLPClassifier(hidden_layer_sizes=(100,80,60,40,20,10),\n",
    "                       max_iter=1000)\n",
    "\n",
    "dnn_clf.fit(train_x, train_y)"
   ]
  },
  {
   "cell_type": "code",
   "execution_count": 25,
   "metadata": {},
   "outputs": [
    {
     "data": {
      "text/plain": [
       "137"
      ]
     },
     "execution_count": 25,
     "metadata": {},
     "output_type": "execute_result"
    }
   ],
   "source": [
    "#Let's check the number of iterations:\n",
    "dnn_clf.n_iter_"
   ]
  },
  {
   "cell_type": "code",
   "execution_count": 26,
   "metadata": {},
   "outputs": [
    {
     "data": {
      "text/plain": [
       "8"
      ]
     },
     "execution_count": 26,
     "metadata": {},
     "output_type": "execute_result"
    }
   ],
   "source": [
    "#Let's check the number of layers:\n",
    "dnn_clf.n_layers_"
   ]
  },
  {
   "cell_type": "code",
   "execution_count": 27,
   "metadata": {},
   "outputs": [
    {
     "name": "stdout",
     "output_type": "stream",
     "text": [
      "0.9430668841761827\n"
     ]
    }
   ],
   "source": [
    "test_y_pred = dnn_clf.predict(test_x)\n",
    "\n",
    "print(accuracy_score(test_y, test_y_pred))"
   ]
  },
  {
   "cell_type": "markdown",
   "metadata": {},
   "source": [
    "## Early stopping"
   ]
  },
  {
   "cell_type": "code",
   "execution_count": 28,
   "metadata": {},
   "outputs": [
    {
     "data": {
      "text/plain": [
       "MLPClassifier(early_stopping=True, hidden_layer_sizes=(50, 25, 10),\n",
       "              max_iter=1000)"
      ]
     },
     "execution_count": 28,
     "metadata": {},
     "output_type": "execute_result"
    }
   ],
   "source": [
    "dnn_clf = MLPClassifier(hidden_layer_sizes=(50,25,10),\n",
    "                       max_iter=1000,\n",
    "                       early_stopping=True)\n",
    "\n",
    "dnn_clf.fit(train_x, train_y)"
   ]
  },
  {
   "cell_type": "code",
   "execution_count": 29,
   "metadata": {},
   "outputs": [
    {
     "data": {
      "text/plain": [
       "112"
      ]
     },
     "execution_count": 29,
     "metadata": {},
     "output_type": "execute_result"
    }
   ],
   "source": [
    "#Let's check the number of iterations:\n",
    "dnn_clf.n_iter_"
   ]
  },
  {
   "cell_type": "code",
   "execution_count": 30,
   "metadata": {},
   "outputs": [
    {
     "name": "stdout",
     "output_type": "stream",
     "text": [
      "0.9296900489396411\n"
     ]
    }
   ],
   "source": [
    "test_y_pred = dnn_clf.predict(test_x)\n",
    "\n",
    "print(accuracy_score(test_y, test_y_pred))\n"
   ]
  },
  {
   "cell_type": "markdown",
   "metadata": {},
   "source": [
    "## Activation function"
   ]
  },
  {
   "cell_type": "code",
   "execution_count": 31,
   "metadata": {},
   "outputs": [
    {
     "data": {
      "text/plain": [
       "MLPClassifier(activation='tanh', hidden_layer_sizes=(50, 25, 10), max_iter=1000)"
      ]
     },
     "execution_count": 31,
     "metadata": {},
     "output_type": "execute_result"
    }
   ],
   "source": [
    "dnn_clf = MLPClassifier(hidden_layer_sizes=(50,25,10),\n",
    "                       max_iter=1000,\n",
    "                       activation = 'tanh')\n",
    "\n",
    "dnn_clf.fit(train_x, train_y)"
   ]
  },
  {
   "cell_type": "code",
   "execution_count": 32,
   "metadata": {},
   "outputs": [
    {
     "name": "stdout",
     "output_type": "stream",
     "text": [
      "0.9487765089722675\n"
     ]
    }
   ],
   "source": [
    "test_y_pred = dnn_clf.predict(test_x)\n",
    "\n",
    "print(accuracy_score(test_y, test_y_pred))"
   ]
  },
  {
   "cell_type": "markdown",
   "metadata": {},
   "source": [
    "## Solver (Optimizer)"
   ]
  },
  {
   "cell_type": "code",
   "execution_count": 33,
   "metadata": {},
   "outputs": [
    {
     "data": {
      "text/plain": [
       "MLPClassifier(activation='tanh', hidden_layer_sizes=(50, 25, 10), max_iter=1000,\n",
       "              solver='sgd')"
      ]
     },
     "execution_count": 33,
     "metadata": {},
     "output_type": "execute_result"
    }
   ],
   "source": [
    "#Let's use Stochastic Gradient Descent optimizer\n",
    "\n",
    "dnn_clf = MLPClassifier(hidden_layer_sizes=(50,25,10),\n",
    "                       max_iter=1000,\n",
    "                       activation = 'tanh',\n",
    "                       solver='sgd')\n",
    "\n",
    "dnn_clf.fit(train_x, train_y)"
   ]
  },
  {
   "cell_type": "code",
   "execution_count": 34,
   "metadata": {},
   "outputs": [
    {
     "name": "stdout",
     "output_type": "stream",
     "text": [
      "0.9453507340946167\n"
     ]
    }
   ],
   "source": [
    "test_y_pred = dnn_clf.predict(test_x)\n",
    "\n",
    "print(accuracy_score(test_y, test_y_pred))"
   ]
  },
  {
   "cell_type": "markdown",
   "metadata": {},
   "source": [
    "## Prediction probabilities"
   ]
  },
  {
   "cell_type": "code",
   "execution_count": 35,
   "metadata": {},
   "outputs": [
    {
     "data": {
      "text/plain": [
       "array([[-1.2923754 ,  0.98618326,  1.37925668, -0.73562713, -0.84691963,\n",
       "        -0.75711394, -0.7544889 , -0.20363968, -0.67021145]])"
      ]
     },
     "execution_count": 35,
     "metadata": {},
     "output_type": "execute_result"
    }
   ],
   "source": [
    "#Select a random observation\n",
    "\n",
    "random = test_x[50:51]\n",
    "random"
   ]
  },
  {
   "cell_type": "code",
   "execution_count": 36,
   "metadata": {},
   "outputs": [
    {
     "data": {
      "text/plain": [
       "array([[3.44410097e-03, 4.61619414e-04, 8.10017706e-05, 9.95997915e-01,\n",
       "        1.53624277e-05]])"
      ]
     },
     "execution_count": 36,
     "metadata": {},
     "output_type": "execute_result"
    }
   ],
   "source": [
    "# Observe the input variables of the observation\n",
    "dnn_clf.predict_proba(random)"
   ]
  },
  {
   "cell_type": "code",
   "execution_count": 37,
   "metadata": {},
   "outputs": [
    {
     "data": {
      "text/plain": [
       "array([[0., 0., 0., 1., 0.]])"
      ]
     },
     "execution_count": 37,
     "metadata": {},
     "output_type": "execute_result"
    }
   ],
   "source": [
    "# Round the probability values\n",
    "np.round(dnn_clf.predict_proba(random))"
   ]
  },
  {
   "cell_type": "markdown",
   "metadata": {},
   "source": [
    "# Learning Curve"
   ]
  },
  {
   "cell_type": "code",
   "execution_count": 38,
   "metadata": {},
   "outputs": [],
   "source": [
    "from matplotlib import pyplot as plt"
   ]
  },
  {
   "cell_type": "code",
   "execution_count": 39,
   "metadata": {},
   "outputs": [
    {
     "name": "stderr",
     "output_type": "stream",
     "text": [
      "No handles with labels found to put in legend.\n"
     ]
    },
    {
     "data": {
      "text/plain": [
       "<matplotlib.legend.Legend at 0x7faeb1f7ef70>"
      ]
     },
     "execution_count": 39,
     "metadata": {},
     "output_type": "execute_result"
    },
    {
     "data": {
      "image/png": "[encoded data removed]",
      "text/plain": [
       "<Figure size 432x288 with 1 Axes>"
      ]
     },
     "metadata": {
      "needs_background": "light"
     },
     "output_type": "display_data"
    }
   ],
   "source": [
    "plt.plot(dnn_clf.loss_curve_)\n",
    "plt.xlabel(\"Iterations\")\n",
    "plt.ylabel(\"Loss\")\n",
    "plt.legend()"
   ]
  },
  {
   "cell_type": "code",
   "execution_count": 41,
   "metadata": {},
   "outputs": [],
   "source": [
    "plt.show()"
   ]
  },
  {
   "cell_type": "code",
   "execution_count": null,
   "metadata": {
    "collapsed": true
   },
   "outputs": [],
   "source": []
  }
 ],
 "metadata": {
  "kernelspec": {
   "display_name": "Python 3",
   "language": "python",
   "name": "python3"
  },
  "language_info": {
   "codemirror_mode": {
    "name": "ipython",
    "version": 3
   },
   "file_extension": ".py",
   "mimetype": "text/x-python",
   "name": "python",
   "nbconvert_exporter": "python",
   "pygments_lexer": "ipython3",
   "version": "3.8.3"
  },
  "nav_menu": {
   "height": "279px",
   "width": "309px"
  },
  "toc": {
   "nav_menu": {},
   "number_sections": true,
   "sideBar": true,
   "skip_h1_title": false,
   "toc_cell": false,
   "toc_position": {},
   "toc_section_display": "block",
   "toc_window_display": false
  }
 },
 "nbformat": 4,
 "nbformat_minor": 1
}
