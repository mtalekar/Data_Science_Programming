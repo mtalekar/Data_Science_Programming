{
 "cells": [
  {
   "cell_type": "markdown",
   "metadata": {},
   "source": [
    "# Tutorial 2 - Tensorflow - DNNClassifier\n",
    "\n",
    "We will predict the ocean proximity (`ocean_proximity` column) of Californian districts, given a number of features from these districts.\n",
    "\n",
    "**The unit of analysis is a DISTRICT**"
   ]
  },
  {
   "cell_type": "code",
   "execution_count": 1,
   "metadata": {
    "collapsed": true
   },
   "outputs": [],
   "source": [
    "# Common imports\n",
    "import numpy as np\n",
    "import pandas as pd\n",
    "import tensorflow as tf"
   ]
  },
  {
   "cell_type": "markdown",
   "metadata": {},
   "source": [
    "# Get the data"
   ]
  },
  {
   "cell_type": "code",
   "execution_count": 2,
   "metadata": {},
   "outputs": [
    {
     "data": {
      "text/html": [
       "<div>\n",
       "<style scoped>\n",
       "    .dataframe tbody tr th:only-of-type {\n",
       "        vertical-align: middle;\n",
       "    }\n",
       "\n",
       "    .dataframe tbody tr th {\n",
       "        vertical-align: top;\n",
       "    }\n",
       "\n",
       "    .dataframe thead th {\n",
       "        text-align: right;\n",
       "    }\n",
       "</style>\n",
       "<table border=\"1\" class=\"dataframe\">\n",
       "  <thead>\n",
       "    <tr style=\"text-align: right;\">\n",
       "      <th></th>\n",
       "      <th>longitude</th>\n",
       "      <th>latitude</th>\n",
       "      <th>housing_median_age</th>\n",
       "      <th>total_rooms</th>\n",
       "      <th>total_bedrooms</th>\n",
       "      <th>population</th>\n",
       "      <th>households</th>\n",
       "      <th>median_income</th>\n",
       "      <th>median_house_value</th>\n",
       "      <th>ocean_proximity</th>\n",
       "    </tr>\n",
       "  </thead>\n",
       "  <tbody>\n",
       "    <tr>\n",
       "      <th>0</th>\n",
       "      <td>-122.23</td>\n",
       "      <td>37.88</td>\n",
       "      <td>41.0</td>\n",
       "      <td>880.0</td>\n",
       "      <td>129.0</td>\n",
       "      <td>322.0</td>\n",
       "      <td>126.0</td>\n",
       "      <td>8.3252</td>\n",
       "      <td>452600.0</td>\n",
       "      <td>NEAR BAY</td>\n",
       "    </tr>\n",
       "    <tr>\n",
       "      <th>1</th>\n",
       "      <td>-122.22</td>\n",
       "      <td>37.86</td>\n",
       "      <td>21.0</td>\n",
       "      <td>7099.0</td>\n",
       "      <td>1106.0</td>\n",
       "      <td>2401.0</td>\n",
       "      <td>1138.0</td>\n",
       "      <td>8.3014</td>\n",
       "      <td>358500.0</td>\n",
       "      <td>NEAR BAY</td>\n",
       "    </tr>\n",
       "    <tr>\n",
       "      <th>2</th>\n",
       "      <td>-122.24</td>\n",
       "      <td>37.85</td>\n",
       "      <td>52.0</td>\n",
       "      <td>1467.0</td>\n",
       "      <td>190.0</td>\n",
       "      <td>496.0</td>\n",
       "      <td>177.0</td>\n",
       "      <td>7.2574</td>\n",
       "      <td>352100.0</td>\n",
       "      <td>NEAR BAY</td>\n",
       "    </tr>\n",
       "    <tr>\n",
       "      <th>3</th>\n",
       "      <td>-122.25</td>\n",
       "      <td>37.85</td>\n",
       "      <td>52.0</td>\n",
       "      <td>1274.0</td>\n",
       "      <td>235.0</td>\n",
       "      <td>558.0</td>\n",
       "      <td>219.0</td>\n",
       "      <td>5.6431</td>\n",
       "      <td>341300.0</td>\n",
       "      <td>NEAR BAY</td>\n",
       "    </tr>\n",
       "    <tr>\n",
       "      <th>4</th>\n",
       "      <td>-122.25</td>\n",
       "      <td>37.85</td>\n",
       "      <td>52.0</td>\n",
       "      <td>1627.0</td>\n",
       "      <td>280.0</td>\n",
       "      <td>565.0</td>\n",
       "      <td>259.0</td>\n",
       "      <td>3.8462</td>\n",
       "      <td>342200.0</td>\n",
       "      <td>NEAR BAY</td>\n",
       "    </tr>\n",
       "  </tbody>\n",
       "</table>\n",
       "</div>"
      ],
      "text/plain": [
       "   longitude  latitude  housing_median_age  total_rooms  total_bedrooms  \\\n",
       "0    -122.23     37.88                41.0        880.0           129.0   \n",
       "1    -122.22     37.86                21.0       7099.0          1106.0   \n",
       "2    -122.24     37.85                52.0       1467.0           190.0   \n",
       "3    -122.25     37.85                52.0       1274.0           235.0   \n",
       "4    -122.25     37.85                52.0       1627.0           280.0   \n",
       "\n",
       "   population  households  median_income  median_house_value ocean_proximity  \n",
       "0       322.0       126.0         8.3252            452600.0        NEAR BAY  \n",
       "1      2401.0      1138.0         8.3014            358500.0        NEAR BAY  \n",
       "2       496.0       177.0         7.2574            352100.0        NEAR BAY  \n",
       "3       558.0       219.0         5.6431            341300.0        NEAR BAY  \n",
       "4       565.0       259.0         3.8462            342200.0        NEAR BAY  "
      ]
     },
     "execution_count": 2,
     "metadata": {},
     "output_type": "execute_result"
    }
   ],
   "source": [
    "housing = pd.read_csv(\"housing.csv\")\n",
    "housing.head()"
   ]
  },
  {
   "cell_type": "code",
   "execution_count": 3,
   "metadata": {},
   "outputs": [
    {
     "data": {
      "text/html": [
       "<div>\n",
       "<style scoped>\n",
       "    .dataframe tbody tr th:only-of-type {\n",
       "        vertical-align: middle;\n",
       "    }\n",
       "\n",
       "    .dataframe tbody tr th {\n",
       "        vertical-align: top;\n",
       "    }\n",
       "\n",
       "    .dataframe thead th {\n",
       "        text-align: right;\n",
       "    }\n",
       "</style>\n",
       "<table border=\"1\" class=\"dataframe\">\n",
       "  <thead>\n",
       "    <tr style=\"text-align: right;\">\n",
       "      <th></th>\n",
       "      <th>longitude</th>\n",
       "      <th>latitude</th>\n",
       "      <th>housing_median_age</th>\n",
       "      <th>total_rooms</th>\n",
       "      <th>total_bedrooms</th>\n",
       "      <th>population</th>\n",
       "      <th>households</th>\n",
       "      <th>median_income</th>\n",
       "      <th>median_house_value</th>\n",
       "    </tr>\n",
       "  </thead>\n",
       "  <tbody>\n",
       "    <tr>\n",
       "      <th>count</th>\n",
       "      <td>20433.000000</td>\n",
       "      <td>20433.000000</td>\n",
       "      <td>20433.000000</td>\n",
       "      <td>20433.000000</td>\n",
       "      <td>20433.000000</td>\n",
       "      <td>20433.000000</td>\n",
       "      <td>20433.000000</td>\n",
       "      <td>20433.000000</td>\n",
       "      <td>20433.000000</td>\n",
       "    </tr>\n",
       "    <tr>\n",
       "      <th>mean</th>\n",
       "      <td>-119.570689</td>\n",
       "      <td>35.633221</td>\n",
       "      <td>28.633094</td>\n",
       "      <td>2636.504233</td>\n",
       "      <td>537.870553</td>\n",
       "      <td>1424.946949</td>\n",
       "      <td>499.433465</td>\n",
       "      <td>3.871162</td>\n",
       "      <td>206864.413155</td>\n",
       "    </tr>\n",
       "    <tr>\n",
       "      <th>std</th>\n",
       "      <td>2.003578</td>\n",
       "      <td>2.136348</td>\n",
       "      <td>12.591805</td>\n",
       "      <td>2185.269567</td>\n",
       "      <td>421.385070</td>\n",
       "      <td>1133.208490</td>\n",
       "      <td>382.299226</td>\n",
       "      <td>1.899291</td>\n",
       "      <td>115435.667099</td>\n",
       "    </tr>\n",
       "    <tr>\n",
       "      <th>min</th>\n",
       "      <td>-124.350000</td>\n",
       "      <td>32.540000</td>\n",
       "      <td>1.000000</td>\n",
       "      <td>2.000000</td>\n",
       "      <td>1.000000</td>\n",
       "      <td>3.000000</td>\n",
       "      <td>1.000000</td>\n",
       "      <td>0.499900</td>\n",
       "      <td>14999.000000</td>\n",
       "    </tr>\n",
       "    <tr>\n",
       "      <th>25%</th>\n",
       "      <td>-121.800000</td>\n",
       "      <td>33.930000</td>\n",
       "      <td>18.000000</td>\n",
       "      <td>1450.000000</td>\n",
       "      <td>296.000000</td>\n",
       "      <td>787.000000</td>\n",
       "      <td>280.000000</td>\n",
       "      <td>2.563700</td>\n",
       "      <td>119500.000000</td>\n",
       "    </tr>\n",
       "    <tr>\n",
       "      <th>50%</th>\n",
       "      <td>-118.490000</td>\n",
       "      <td>34.260000</td>\n",
       "      <td>29.000000</td>\n",
       "      <td>2127.000000</td>\n",
       "      <td>435.000000</td>\n",
       "      <td>1166.000000</td>\n",
       "      <td>409.000000</td>\n",
       "      <td>3.536500</td>\n",
       "      <td>179700.000000</td>\n",
       "    </tr>\n",
       "    <tr>\n",
       "      <th>75%</th>\n",
       "      <td>-118.010000</td>\n",
       "      <td>37.720000</td>\n",
       "      <td>37.000000</td>\n",
       "      <td>3143.000000</td>\n",
       "      <td>647.000000</td>\n",
       "      <td>1722.000000</td>\n",
       "      <td>604.000000</td>\n",
       "      <td>4.744000</td>\n",
       "      <td>264700.000000</td>\n",
       "    </tr>\n",
       "    <tr>\n",
       "      <th>max</th>\n",
       "      <td>-114.310000</td>\n",
       "      <td>41.950000</td>\n",
       "      <td>52.000000</td>\n",
       "      <td>39320.000000</td>\n",
       "      <td>6445.000000</td>\n",
       "      <td>35682.000000</td>\n",
       "      <td>6082.000000</td>\n",
       "      <td>15.000100</td>\n",
       "      <td>500001.000000</td>\n",
       "    </tr>\n",
       "  </tbody>\n",
       "</table>\n",
       "</div>"
      ],
      "text/plain": [
       "          longitude      latitude  housing_median_age   total_rooms  \\\n",
       "count  20433.000000  20433.000000        20433.000000  20433.000000   \n",
       "mean    -119.570689     35.633221           28.633094   2636.504233   \n",
       "std        2.003578      2.136348           12.591805   2185.269567   \n",
       "min     -124.350000     32.540000            1.000000      2.000000   \n",
       "25%     -121.800000     33.930000           18.000000   1450.000000   \n",
       "50%     -118.490000     34.260000           29.000000   2127.000000   \n",
       "75%     -118.010000     37.720000           37.000000   3143.000000   \n",
       "max     -114.310000     41.950000           52.000000  39320.000000   \n",
       "\n",
       "       total_bedrooms    population    households  median_income  \\\n",
       "count    20433.000000  20433.000000  20433.000000   20433.000000   \n",
       "mean       537.870553   1424.946949    499.433465       3.871162   \n",
       "std        421.385070   1133.208490    382.299226       1.899291   \n",
       "min          1.000000      3.000000      1.000000       0.499900   \n",
       "25%        296.000000    787.000000    280.000000       2.563700   \n",
       "50%        435.000000   1166.000000    409.000000       3.536500   \n",
       "75%        647.000000   1722.000000    604.000000       4.744000   \n",
       "max       6445.000000  35682.000000   6082.000000      15.000100   \n",
       "\n",
       "       median_house_value  \n",
       "count        20433.000000  \n",
       "mean        206864.413155  \n",
       "std         115435.667099  \n",
       "min          14999.000000  \n",
       "25%         119500.000000  \n",
       "50%         179700.000000  \n",
       "75%         264700.000000  \n",
       "max         500001.000000  "
      ]
     },
     "execution_count": 3,
     "metadata": {},
     "output_type": "execute_result"
    }
   ],
   "source": [
    "#Drop the missing values\n",
    "housing.dropna(axis=0, inplace=True)\n",
    "\n",
    "# Let's also reset the index\n",
    "housing.reset_index(inplace=True, drop=True)\n",
    "\n",
    "\n",
    "housing.describe()"
   ]
  },
  {
   "cell_type": "markdown",
   "metadata": {},
   "source": [
    "# Prepare the data for Machine Learning algorithms"
   ]
  },
  {
   "cell_type": "code",
   "execution_count": 4,
   "metadata": {
    "collapsed": true
   },
   "outputs": [],
   "source": [
    "#Set the training and test data sets\n",
    "housing_num = housing.drop(\"ocean_proximity\", axis=1) # drop labels \n",
    "\n",
    "#Select the label\n",
    "housing_target = housing[[\"ocean_proximity\"]]"
   ]
  },
  {
   "cell_type": "markdown",
   "metadata": {},
   "source": [
    "### Standardize the data"
   ]
  },
  {
   "cell_type": "code",
   "execution_count": 5,
   "metadata": {
    "collapsed": true
   },
   "outputs": [],
   "source": [
    "from sklearn.preprocessing import StandardScaler\n",
    "\n",
    "scaler = StandardScaler()\n",
    "\n",
    "housing_num_std = scaler.fit_transform(housing_num)"
   ]
  },
  {
   "cell_type": "code",
   "execution_count": 6,
   "metadata": {},
   "outputs": [
    {
     "data": {
      "text/plain": [
       "array([[-1.32731375,  1.05171726,  0.98216331, ..., -0.97683327,\n",
       "         2.34516291,  2.12881864],\n",
       "       [-1.32232256,  1.04235526, -0.60621017, ...,  1.67037262,\n",
       "         2.33263161,  1.31362603],\n",
       "       [-1.33230494,  1.03767426,  1.85576873, ..., -0.84342665,\n",
       "         1.78293943,  1.25818254],\n",
       "       ...,\n",
       "       [-0.82320322,  1.77727236, -0.92388486, ..., -0.17377773,\n",
       "        -1.14317103, -0.99247676],\n",
       "       [-0.87311515,  1.77727236, -0.84446619, ..., -0.39350628,\n",
       "        -1.05513604, -1.05831591],\n",
       "       [-0.83318561,  1.74918635, -1.00330353, ...,  0.07995643,\n",
       "        -0.78060586, -1.01759959]])"
      ]
     },
     "execution_count": 6,
     "metadata": {},
     "output_type": "execute_result"
    }
   ],
   "source": [
    "housing_num_std"
   ]
  },
  {
   "cell_type": "code",
   "execution_count": 7,
   "metadata": {
    "scrolled": true
   },
   "outputs": [
    {
     "data": {
      "text/plain": [
       "(20433, 9)"
      ]
     },
     "execution_count": 7,
     "metadata": {},
     "output_type": "execute_result"
    }
   ],
   "source": [
    "housing_num_std.shape"
   ]
  },
  {
   "cell_type": "markdown",
   "metadata": {},
   "source": [
    "### Convert back to a dataframe"
   ]
  },
  {
   "cell_type": "code",
   "execution_count": 8,
   "metadata": {},
   "outputs": [
    {
     "data": {
      "text/html": [
       "<div>\n",
       "<style scoped>\n",
       "    .dataframe tbody tr th:only-of-type {\n",
       "        vertical-align: middle;\n",
       "    }\n",
       "\n",
       "    .dataframe tbody tr th {\n",
       "        vertical-align: top;\n",
       "    }\n",
       "\n",
       "    .dataframe thead th {\n",
       "        text-align: right;\n",
       "    }\n",
       "</style>\n",
       "<table border=\"1\" class=\"dataframe\">\n",
       "  <thead>\n",
       "    <tr style=\"text-align: right;\">\n",
       "      <th></th>\n",
       "      <th>longitude</th>\n",
       "      <th>latitude</th>\n",
       "      <th>housing_median_age</th>\n",
       "      <th>total_rooms</th>\n",
       "      <th>total_bedrooms</th>\n",
       "      <th>population</th>\n",
       "      <th>households</th>\n",
       "      <th>median_income</th>\n",
       "      <th>median_house_value</th>\n",
       "    </tr>\n",
       "  </thead>\n",
       "  <tbody>\n",
       "    <tr>\n",
       "      <th>0</th>\n",
       "      <td>-1.327314</td>\n",
       "      <td>1.051717</td>\n",
       "      <td>0.982163</td>\n",
       "      <td>-0.803813</td>\n",
       "      <td>-0.970325</td>\n",
       "      <td>-0.973320</td>\n",
       "      <td>-0.976833</td>\n",
       "      <td>2.345163</td>\n",
       "      <td>2.128819</td>\n",
       "    </tr>\n",
       "    <tr>\n",
       "      <th>1</th>\n",
       "      <td>-1.322323</td>\n",
       "      <td>1.042355</td>\n",
       "      <td>-0.606210</td>\n",
       "      <td>2.042130</td>\n",
       "      <td>1.348276</td>\n",
       "      <td>0.861339</td>\n",
       "      <td>1.670373</td>\n",
       "      <td>2.332632</td>\n",
       "      <td>1.313626</td>\n",
       "    </tr>\n",
       "    <tr>\n",
       "      <th>2</th>\n",
       "      <td>-1.332305</td>\n",
       "      <td>1.037674</td>\n",
       "      <td>1.855769</td>\n",
       "      <td>-0.535189</td>\n",
       "      <td>-0.825561</td>\n",
       "      <td>-0.819769</td>\n",
       "      <td>-0.843427</td>\n",
       "      <td>1.782939</td>\n",
       "      <td>1.258183</td>\n",
       "    </tr>\n",
       "    <tr>\n",
       "      <th>3</th>\n",
       "      <td>-1.337296</td>\n",
       "      <td>1.037674</td>\n",
       "      <td>1.855769</td>\n",
       "      <td>-0.623510</td>\n",
       "      <td>-0.718768</td>\n",
       "      <td>-0.765056</td>\n",
       "      <td>-0.733562</td>\n",
       "      <td>0.932970</td>\n",
       "      <td>1.164622</td>\n",
       "    </tr>\n",
       "    <tr>\n",
       "      <th>4</th>\n",
       "      <td>-1.337296</td>\n",
       "      <td>1.037674</td>\n",
       "      <td>1.855769</td>\n",
       "      <td>-0.461970</td>\n",
       "      <td>-0.611974</td>\n",
       "      <td>-0.758879</td>\n",
       "      <td>-0.628930</td>\n",
       "      <td>-0.013143</td>\n",
       "      <td>1.172418</td>\n",
       "    </tr>\n",
       "  </tbody>\n",
       "</table>\n",
       "</div>"
      ],
      "text/plain": [
       "   longitude  latitude  housing_median_age  total_rooms  total_bedrooms  \\\n",
       "0  -1.327314  1.051717            0.982163    -0.803813       -0.970325   \n",
       "1  -1.322323  1.042355           -0.606210     2.042130        1.348276   \n",
       "2  -1.332305  1.037674            1.855769    -0.535189       -0.825561   \n",
       "3  -1.337296  1.037674            1.855769    -0.623510       -0.718768   \n",
       "4  -1.337296  1.037674            1.855769    -0.461970       -0.611974   \n",
       "\n",
       "   population  households  median_income  median_house_value  \n",
       "0   -0.973320   -0.976833       2.345163            2.128819  \n",
       "1    0.861339    1.670373       2.332632            1.313626  \n",
       "2   -0.819769   -0.843427       1.782939            1.258183  \n",
       "3   -0.765056   -0.733562       0.932970            1.164622  \n",
       "4   -0.758879   -0.628930      -0.013143            1.172418  "
      ]
     },
     "execution_count": 8,
     "metadata": {},
     "output_type": "execute_result"
    }
   ],
   "source": [
    "housing_num_std_df = pd.DataFrame(housing_num_std, columns=housing_num.columns)\n",
    "\n",
    "housing_num_std_df.head(5)"
   ]
  },
  {
   "cell_type": "markdown",
   "metadata": {},
   "source": [
    "### Create the label column\n",
    "\n",
    "Tensorflow wants the labels in integer form. So, we need to do Ordinal Encoding, then convert the numbers to integers."
   ]
  },
  {
   "cell_type": "code",
   "execution_count": 9,
   "metadata": {},
   "outputs": [
    {
     "data": {
      "text/plain": [
       "array([[3.],\n",
       "       [3.],\n",
       "       [3.],\n",
       "       [3.],\n",
       "       [3.],\n",
       "       [3.],\n",
       "       [3.],\n",
       "       [3.],\n",
       "       [3.],\n",
       "       [3.]])"
      ]
     },
     "execution_count": 9,
     "metadata": {},
     "output_type": "execute_result"
    }
   ],
   "source": [
    "from sklearn.preprocessing import OrdinalEncoder\n",
    "\n",
    "ordinal_encoder = OrdinalEncoder()\n",
    "\n",
    "housing_labels_ord = ordinal_encoder.fit_transform(housing_target)\n",
    "\n",
    "housing_labels_ord[:10]"
   ]
  },
  {
   "cell_type": "code",
   "execution_count": 10,
   "metadata": {},
   "outputs": [
    {
     "data": {
      "text/plain": [
       "dtype('float64')"
      ]
     },
     "execution_count": 10,
     "metadata": {},
     "output_type": "execute_result"
    }
   ],
   "source": [
    "# Data type is float. It needs to be integer\n",
    "housing_labels_ord.dtype"
   ]
  },
  {
   "cell_type": "code",
   "execution_count": 11,
   "metadata": {},
   "outputs": [
    {
     "data": {
      "text/plain": [
       "dtype('int64')"
      ]
     },
     "execution_count": 11,
     "metadata": {},
     "output_type": "execute_result"
    }
   ],
   "source": [
    "#Convert to integer\n",
    "\n",
    "housing_labels_int = housing_labels_ord.astype(int)\n",
    "\n",
    "housing_labels_int.dtype"
   ]
  },
  {
   "cell_type": "code",
   "execution_count": 12,
   "metadata": {},
   "outputs": [
    {
     "data": {
      "text/plain": [
       "array([3, 3, 3, ..., 1, 1, 1])"
      ]
     },
     "execution_count": 12,
     "metadata": {},
     "output_type": "execute_result"
    }
   ],
   "source": [
    "#We need to convert this to a 1-D array using RAVEL\n",
    "\n",
    "housing_labels_int_1d = np.ravel(housing_labels_int)\n",
    "\n",
    "housing_labels_int_1d"
   ]
  },
  {
   "cell_type": "markdown",
   "metadata": {},
   "source": [
    "# Split data (train/test)"
   ]
  },
  {
   "cell_type": "code",
   "execution_count": 13,
   "metadata": {
    "collapsed": true
   },
   "outputs": [],
   "source": [
    "from sklearn.model_selection import train_test_split\n",
    "\n",
    "train_x, test_x, train_y, test_y = train_test_split(housing_num_std_df, housing_labels_int_1d, test_size=0.3)"
   ]
  },
  {
   "cell_type": "markdown",
   "metadata": {},
   "source": [
    "# Create feature columns\n",
    "\n",
    "TensorFlow needs \"feature columns\" as a bridge between the data and the estimator. These involve columns names and data types only. "
   ]
  },
  {
   "cell_type": "code",
   "execution_count": 14,
   "metadata": {
    "collapsed": true
   },
   "outputs": [],
   "source": [
    "longitude1= tf.feature_column.numeric_column('longitude')\n",
    "latitude1= tf.feature_column.numeric_column('latitude')\n",
    "housing_median_age1= tf.feature_column.numeric_column('housing_median_age')\n",
    "total_rooms1= tf.feature_column.numeric_column('total_rooms')\n",
    "total_bedrooms1= tf.feature_column.numeric_column('total_bedrooms')\n",
    "population1= tf.feature_column.numeric_column('population')\n",
    "households1= tf.feature_column.numeric_column('households')\n",
    "median_income1= tf.feature_column.numeric_column('median_income')\n",
    "median_house_value1= tf.feature_column.numeric_column('median_house_value')\n",
    "\n",
    "feat_columns = [longitude1, \n",
    "                latitude1,\n",
    "               housing_median_age1,\n",
    "               total_rooms1,\n",
    "               total_bedrooms1,\n",
    "               population1,\n",
    "               households1,\n",
    "               median_income1,\n",
    "               median_house_value1\n",
    "               ]"
   ]
  },
  {
   "cell_type": "code",
   "execution_count": 15,
   "metadata": {
    "scrolled": true
   },
   "outputs": [
    {
     "data": {
      "text/plain": [
       "[NumericColumn(key='longitude', shape=(1,), default_value=None, dtype=tf.float32, normalizer_fn=None),\n",
       " NumericColumn(key='latitude', shape=(1,), default_value=None, dtype=tf.float32, normalizer_fn=None),\n",
       " NumericColumn(key='housing_median_age', shape=(1,), default_value=None, dtype=tf.float32, normalizer_fn=None),\n",
       " NumericColumn(key='total_rooms', shape=(1,), default_value=None, dtype=tf.float32, normalizer_fn=None),\n",
       " NumericColumn(key='total_bedrooms', shape=(1,), default_value=None, dtype=tf.float32, normalizer_fn=None),\n",
       " NumericColumn(key='population', shape=(1,), default_value=None, dtype=tf.float32, normalizer_fn=None),\n",
       " NumericColumn(key='households', shape=(1,), default_value=None, dtype=tf.float32, normalizer_fn=None),\n",
       " NumericColumn(key='median_income', shape=(1,), default_value=None, dtype=tf.float32, normalizer_fn=None),\n",
       " NumericColumn(key='median_house_value', shape=(1,), default_value=None, dtype=tf.float32, normalizer_fn=None)]"
      ]
     },
     "execution_count": 15,
     "metadata": {},
     "output_type": "execute_result"
    }
   ],
   "source": [
    "feat_columns"
   ]
  },
  {
   "cell_type": "raw",
   "metadata": {},
   "source": [
    "# The housing dataframe is all numerical. So, you could do this as a shortcut:\n",
    "\n",
    "feat_columns = [tf.feature_column.numeric_column(key = column) for column in housing_num_std_df.columns]\n",
    "\n",
    "feat_columns"
   ]
  },
  {
   "cell_type": "markdown",
   "metadata": {},
   "source": [
    "## More sophisticated feature columns:\n",
    "\n",
    "You can define feature columns using different ways, depending on whether they are categorical, binned, one-hot-encoding, crossed, etc. <br>Refer to: https://www.tensorflow.org/guide/feature_columns"
   ]
  },
  {
   "cell_type": "markdown",
   "metadata": {},
   "source": [
    "# Multiclass classification\n",
    "\n"
   ]
  },
  {
   "cell_type": "code",
   "execution_count": 16,
   "metadata": {},
   "outputs": [
    {
     "name": "stdout",
     "output_type": "stream",
     "text": [
      "INFO:tensorflow:Using default config.\n",
      "WARNING:tensorflow:Using temporary folder as model directory: /var/folders/yr/h7yx6m314m76y6r1650t9xkh0000gp/T/tmpxnxccr4v\n",
      "INFO:tensorflow:Using config: {'_model_dir': '/var/folders/yr/h7yx6m314m76y6r1650t9xkh0000gp/T/tmpxnxccr4v', '_tf_random_seed': None, '_save_summary_steps': 100, '_save_checkpoints_steps': None, '_save_checkpoints_secs': 600, '_session_config': allow_soft_placement: true\n",
      "graph_options {\n",
      "  rewrite_options {\n",
      "    meta_optimizer_iterations: ONE\n",
      "  }\n",
      "}\n",
      ", '_keep_checkpoint_max': 5, '_keep_checkpoint_every_n_hours': 10000, '_log_step_count_steps': 100, '_train_distribute': None, '_device_fn': None, '_protocol': None, '_eval_distribute': None, '_experimental_distribute': None, '_service': None, '_cluster_spec': <tensorflow.python.training.server_lib.ClusterSpec object at 0x1a2b32f320>, '_task_type': 'worker', '_task_id': 0, '_global_id_in_cluster': 0, '_master': '', '_evaluation_master': '', '_is_chief': True, '_num_ps_replicas': 0, '_num_worker_replicas': 1}\n"
     ]
    }
   ],
   "source": [
    "#Define the model\n",
    "\n",
    "tf.reset_default_graph()\n",
    "\n",
    "dnn_clf = tf.estimator.DNNClassifier(hidden_units=[50, 25, 10], \n",
    "                                     n_classes=5, \n",
    "                                     feature_columns=feat_columns) \n"
   ]
  },
  {
   "cell_type": "code",
   "execution_count": 17,
   "metadata": {
    "collapsed": true
   },
   "outputs": [],
   "source": [
    "#Read data from tensor into memory\n",
    "\n",
    "def training_input_fn ():\n",
    "    dataset = tf.data.Dataset.from_tensor_slices((dict(train_x), train_y))\n",
    "    dataset = dataset.shuffle(500).repeat().batch(100)\n",
    "    dataset_iterator = dataset.make_one_shot_iterator()   \n",
    "    return dataset_iterator.get_next()\n",
    "\n",
    "# create testing input function\n",
    "def valid_input_fn ():\n",
    "    dataset = tf.data.Dataset.from_tensor_slices((dict(test_x), test_y))\n",
    "    dataset = dataset.batch(100)\n",
    "    dataset_iterator = dataset.make_one_shot_iterator()   \n",
    "    return dataset_iterator.get_next()\n"
   ]
  },
  {
   "cell_type": "code",
   "execution_count": 18,
   "metadata": {},
   "outputs": [
    {
     "name": "stdout",
     "output_type": "stream",
     "text": [
      "WARNING:tensorflow:From /Users/bp/anaconda/lib/python3.6/site-packages/tensorflow/python/framework/op_def_library.py:263: colocate_with (from tensorflow.python.framework.ops) is deprecated and will be removed in a future version.\n",
      "Instructions for updating:\n",
      "Colocations handled automatically by placer.\n",
      "INFO:tensorflow:Calling model_fn.\n",
      "WARNING:tensorflow:From /Users/bp/anaconda/lib/python3.6/site-packages/tensorflow/python/feature_column/feature_column_v2.py:2703: to_float (from tensorflow.python.ops.math_ops) is deprecated and will be removed in a future version.\n",
      "Instructions for updating:\n",
      "Use tf.cast instead.\n",
      "INFO:tensorflow:Done calling model_fn.\n",
      "INFO:tensorflow:Create CheckpointSaverHook.\n",
      "INFO:tensorflow:Graph was finalized.\n",
      "INFO:tensorflow:Running local_init_op.\n",
      "INFO:tensorflow:Done running local_init_op.\n",
      "INFO:tensorflow:Saving checkpoints for 0 into /var/folders/yr/h7yx6m314m76y6r1650t9xkh0000gp/T/tmpxnxccr4v/model.ckpt.\n",
      "INFO:tensorflow:loss = 171.32, step = 1\n",
      "INFO:tensorflow:global_step/sec: 286.518\n",
      "INFO:tensorflow:loss = 51.594604, step = 101 (0.350 sec)\n",
      "INFO:tensorflow:global_step/sec: 460.035\n",
      "INFO:tensorflow:loss = 43.19963, step = 201 (0.217 sec)\n",
      "INFO:tensorflow:global_step/sec: 455.529\n",
      "INFO:tensorflow:loss = 31.037985, step = 301 (0.220 sec)\n",
      "INFO:tensorflow:global_step/sec: 465.735\n",
      "INFO:tensorflow:loss = 26.55597, step = 401 (0.215 sec)\n",
      "INFO:tensorflow:global_step/sec: 436.79\n",
      "INFO:tensorflow:loss = 31.695572, step = 501 (0.229 sec)\n",
      "INFO:tensorflow:global_step/sec: 435.972\n",
      "INFO:tensorflow:loss = 32.488716, step = 601 (0.229 sec)\n",
      "INFO:tensorflow:global_step/sec: 470.696\n",
      "INFO:tensorflow:loss = 31.867655, step = 701 (0.212 sec)\n",
      "INFO:tensorflow:global_step/sec: 480.128\n",
      "INFO:tensorflow:loss = 25.552263, step = 801 (0.208 sec)\n",
      "INFO:tensorflow:global_step/sec: 455.27\n",
      "INFO:tensorflow:loss = 22.984495, step = 901 (0.220 sec)\n",
      "INFO:tensorflow:global_step/sec: 449.327\n",
      "INFO:tensorflow:loss = 25.219992, step = 1001 (0.223 sec)\n",
      "INFO:tensorflow:global_step/sec: 479.226\n",
      "INFO:tensorflow:loss = 26.655115, step = 1101 (0.209 sec)\n",
      "INFO:tensorflow:global_step/sec: 442.978\n",
      "INFO:tensorflow:loss = 29.272604, step = 1201 (0.226 sec)\n",
      "INFO:tensorflow:global_step/sec: 422.502\n",
      "INFO:tensorflow:loss = 30.945557, step = 1301 (0.237 sec)\n",
      "INFO:tensorflow:global_step/sec: 410.002\n",
      "INFO:tensorflow:loss = 22.925882, step = 1401 (0.244 sec)\n",
      "INFO:tensorflow:global_step/sec: 456.113\n",
      "INFO:tensorflow:loss = 25.892714, step = 1501 (0.219 sec)\n",
      "INFO:tensorflow:global_step/sec: 460.543\n",
      "INFO:tensorflow:loss = 21.541231, step = 1601 (0.217 sec)\n",
      "INFO:tensorflow:global_step/sec: 419.711\n",
      "INFO:tensorflow:loss = 27.036512, step = 1701 (0.238 sec)\n",
      "INFO:tensorflow:global_step/sec: 406.618\n",
      "INFO:tensorflow:loss = 23.051155, step = 1801 (0.246 sec)\n",
      "INFO:tensorflow:global_step/sec: 399.06\n",
      "INFO:tensorflow:loss = 25.081522, step = 1901 (0.250 sec)\n",
      "INFO:tensorflow:global_step/sec: 436.404\n",
      "INFO:tensorflow:loss = 21.779764, step = 2001 (0.229 sec)\n",
      "INFO:tensorflow:global_step/sec: 433.604\n",
      "INFO:tensorflow:loss = 18.7795, step = 2101 (0.231 sec)\n",
      "INFO:tensorflow:global_step/sec: 444.64\n",
      "INFO:tensorflow:loss = 27.380442, step = 2201 (0.225 sec)\n",
      "INFO:tensorflow:global_step/sec: 440.067\n",
      "INFO:tensorflow:loss = 23.480158, step = 2301 (0.228 sec)\n",
      "INFO:tensorflow:global_step/sec: 387.403\n",
      "INFO:tensorflow:loss = 18.753702, step = 2401 (0.258 sec)\n",
      "INFO:tensorflow:global_step/sec: 427.457\n",
      "INFO:tensorflow:loss = 28.876886, step = 2501 (0.233 sec)\n",
      "INFO:tensorflow:global_step/sec: 395.9\n",
      "INFO:tensorflow:loss = 14.295642, step = 2601 (0.252 sec)\n",
      "INFO:tensorflow:global_step/sec: 421.228\n",
      "INFO:tensorflow:loss = 18.582628, step = 2701 (0.237 sec)\n",
      "INFO:tensorflow:global_step/sec: 445.961\n",
      "INFO:tensorflow:loss = 10.756537, step = 2801 (0.224 sec)\n",
      "INFO:tensorflow:global_step/sec: 433.766\n",
      "INFO:tensorflow:loss = 14.150945, step = 2901 (0.231 sec)\n",
      "INFO:tensorflow:global_step/sec: 413.084\n",
      "INFO:tensorflow:loss = 20.412315, step = 3001 (0.242 sec)\n",
      "INFO:tensorflow:global_step/sec: 443.463\n",
      "INFO:tensorflow:loss = 11.021619, step = 3101 (0.225 sec)\n",
      "INFO:tensorflow:global_step/sec: 392.278\n",
      "INFO:tensorflow:loss = 24.606272, step = 3201 (0.256 sec)\n",
      "INFO:tensorflow:global_step/sec: 379.216\n",
      "INFO:tensorflow:loss = 26.038969, step = 3301 (0.263 sec)\n",
      "INFO:tensorflow:global_step/sec: 384.667\n",
      "INFO:tensorflow:loss = 17.6211, step = 3401 (0.260 sec)\n",
      "INFO:tensorflow:global_step/sec: 409.265\n",
      "INFO:tensorflow:loss = 21.378296, step = 3501 (0.244 sec)\n",
      "INFO:tensorflow:global_step/sec: 393.83\n",
      "INFO:tensorflow:loss = 17.737305, step = 3601 (0.254 sec)\n",
      "INFO:tensorflow:global_step/sec: 392.56\n",
      "INFO:tensorflow:loss = 28.913076, step = 3701 (0.254 sec)\n",
      "INFO:tensorflow:global_step/sec: 404.418\n",
      "INFO:tensorflow:loss = 16.035072, step = 3801 (0.247 sec)\n",
      "INFO:tensorflow:global_step/sec: 390.686\n",
      "INFO:tensorflow:loss = 27.791798, step = 3901 (0.256 sec)\n",
      "INFO:tensorflow:global_step/sec: 375.532\n",
      "INFO:tensorflow:loss = 21.450478, step = 4001 (0.266 sec)\n",
      "INFO:tensorflow:global_step/sec: 376.015\n",
      "INFO:tensorflow:loss = 16.231958, step = 4101 (0.266 sec)\n",
      "INFO:tensorflow:global_step/sec: 379.446\n",
      "INFO:tensorflow:loss = 20.966137, step = 4201 (0.264 sec)\n",
      "INFO:tensorflow:global_step/sec: 381.609\n",
      "INFO:tensorflow:loss = 17.188528, step = 4301 (0.262 sec)\n",
      "INFO:tensorflow:global_step/sec: 385.929\n",
      "INFO:tensorflow:loss = 13.076807, step = 4401 (0.259 sec)\n",
      "INFO:tensorflow:global_step/sec: 389.266\n",
      "INFO:tensorflow:loss = 15.56755, step = 4501 (0.257 sec)\n",
      "INFO:tensorflow:global_step/sec: 363.331\n",
      "INFO:tensorflow:loss = 21.709795, step = 4601 (0.275 sec)\n",
      "INFO:tensorflow:global_step/sec: 356.394\n",
      "INFO:tensorflow:loss = 14.825267, step = 4701 (0.281 sec)\n",
      "INFO:tensorflow:global_step/sec: 373.495\n",
      "INFO:tensorflow:loss = 27.399342, step = 4801 (0.268 sec)\n",
      "INFO:tensorflow:global_step/sec: 372.302\n",
      "INFO:tensorflow:loss = 14.484028, step = 4901 (0.269 sec)\n",
      "INFO:tensorflow:global_step/sec: 354.189\n",
      "INFO:tensorflow:loss = 22.63992, step = 5001 (0.282 sec)\n",
      "INFO:tensorflow:global_step/sec: 358.152\n",
      "INFO:tensorflow:loss = 22.9196, step = 5101 (0.279 sec)\n",
      "INFO:tensorflow:global_step/sec: 360.463\n",
      "INFO:tensorflow:loss = 16.485703, step = 5201 (0.278 sec)\n",
      "INFO:tensorflow:global_step/sec: 390.834\n",
      "INFO:tensorflow:loss = 23.074778, step = 5301 (0.256 sec)\n",
      "INFO:tensorflow:global_step/sec: 388.672\n",
      "INFO:tensorflow:loss = 14.659708, step = 5401 (0.258 sec)\n",
      "INFO:tensorflow:global_step/sec: 347.648\n",
      "INFO:tensorflow:loss = 12.414016, step = 5501 (0.287 sec)\n",
      "INFO:tensorflow:global_step/sec: 382.234\n",
      "INFO:tensorflow:loss = 19.431028, step = 5601 (0.262 sec)\n",
      "INFO:tensorflow:global_step/sec: 344.26\n",
      "INFO:tensorflow:loss = 18.345776, step = 5701 (0.291 sec)\n",
      "INFO:tensorflow:global_step/sec: 344.634\n",
      "INFO:tensorflow:loss = 24.280605, step = 5801 (0.290 sec)\n",
      "INFO:tensorflow:global_step/sec: 355.029\n",
      "INFO:tensorflow:loss = 13.082277, step = 5901 (0.281 sec)\n",
      "INFO:tensorflow:global_step/sec: 352.311\n",
      "INFO:tensorflow:loss = 17.839348, step = 6001 (0.284 sec)\n",
      "INFO:tensorflow:global_step/sec: 340.582\n",
      "INFO:tensorflow:loss = 19.092978, step = 6101 (0.294 sec)\n",
      "INFO:tensorflow:global_step/sec: 342.15\n",
      "INFO:tensorflow:loss = 9.245537, step = 6201 (0.292 sec)\n",
      "INFO:tensorflow:global_step/sec: 370.642\n",
      "INFO:tensorflow:loss = 16.80875, step = 6301 (0.270 sec)\n",
      "INFO:tensorflow:global_step/sec: 390.71\n",
      "INFO:tensorflow:loss = 14.575486, step = 6401 (0.256 sec)\n",
      "INFO:tensorflow:global_step/sec: 368.985\n",
      "INFO:tensorflow:loss = 16.76218, step = 6501 (0.271 sec)\n",
      "INFO:tensorflow:global_step/sec: 359.407\n",
      "INFO:tensorflow:loss = 17.125093, step = 6601 (0.278 sec)\n",
      "INFO:tensorflow:global_step/sec: 390.862\n",
      "INFO:tensorflow:loss = 18.740181, step = 6701 (0.256 sec)\n",
      "INFO:tensorflow:global_step/sec: 394.917\n",
      "INFO:tensorflow:loss = 13.121157, step = 6801 (0.253 sec)\n",
      "INFO:tensorflow:global_step/sec: 359.109\n",
      "INFO:tensorflow:loss = 20.067152, step = 6901 (0.279 sec)\n",
      "INFO:tensorflow:global_step/sec: 361.732\n",
      "INFO:tensorflow:loss = 14.385078, step = 7001 (0.277 sec)\n",
      "INFO:tensorflow:global_step/sec: 362.575\n",
      "INFO:tensorflow:loss = 21.442072, step = 7101 (0.275 sec)\n",
      "INFO:tensorflow:global_step/sec: 361.118\n",
      "INFO:tensorflow:loss = 13.91654, step = 7201 (0.276 sec)\n",
      "INFO:tensorflow:global_step/sec: 362.509\n",
      "INFO:tensorflow:loss = 18.549011, step = 7301 (0.276 sec)\n",
      "INFO:tensorflow:global_step/sec: 367.16\n"
     ]
    },
    {
     "name": "stdout",
     "output_type": "stream",
     "text": [
      "INFO:tensorflow:loss = 22.342915, step = 7401 (0.273 sec)\n",
      "INFO:tensorflow:global_step/sec: 364.215\n",
      "INFO:tensorflow:loss = 16.823505, step = 7501 (0.274 sec)\n",
      "INFO:tensorflow:global_step/sec: 392.651\n",
      "INFO:tensorflow:loss = 19.227583, step = 7601 (0.255 sec)\n",
      "INFO:tensorflow:global_step/sec: 396.489\n",
      "INFO:tensorflow:loss = 18.692703, step = 7701 (0.252 sec)\n",
      "INFO:tensorflow:global_step/sec: 391.854\n",
      "INFO:tensorflow:loss = 14.808048, step = 7801 (0.255 sec)\n",
      "INFO:tensorflow:global_step/sec: 393.194\n",
      "INFO:tensorflow:loss = 28.748566, step = 7901 (0.254 sec)\n",
      "INFO:tensorflow:global_step/sec: 402.434\n",
      "INFO:tensorflow:loss = 21.649973, step = 8001 (0.248 sec)\n",
      "INFO:tensorflow:global_step/sec: 392.09\n",
      "INFO:tensorflow:loss = 21.891212, step = 8101 (0.255 sec)\n",
      "INFO:tensorflow:global_step/sec: 393.159\n",
      "INFO:tensorflow:loss = 14.768515, step = 8201 (0.254 sec)\n",
      "INFO:tensorflow:global_step/sec: 404.253\n",
      "INFO:tensorflow:loss = 16.421707, step = 8301 (0.247 sec)\n",
      "INFO:tensorflow:global_step/sec: 410.371\n",
      "INFO:tensorflow:loss = 17.776976, step = 8401 (0.244 sec)\n",
      "INFO:tensorflow:global_step/sec: 431.551\n",
      "INFO:tensorflow:loss = 15.186141, step = 8501 (0.232 sec)\n",
      "INFO:tensorflow:global_step/sec: 406.782\n",
      "INFO:tensorflow:loss = 10.790446, step = 8601 (0.246 sec)\n",
      "INFO:tensorflow:global_step/sec: 406.35\n",
      "INFO:tensorflow:loss = 16.635958, step = 8701 (0.246 sec)\n",
      "INFO:tensorflow:global_step/sec: 405.186\n",
      "INFO:tensorflow:loss = 14.511506, step = 8801 (0.247 sec)\n",
      "INFO:tensorflow:global_step/sec: 426.822\n",
      "INFO:tensorflow:loss = 16.46337, step = 8901 (0.235 sec)\n",
      "INFO:tensorflow:global_step/sec: 400.194\n",
      "INFO:tensorflow:loss = 11.756664, step = 9001 (0.249 sec)\n",
      "INFO:tensorflow:global_step/sec: 419.296\n",
      "INFO:tensorflow:loss = 19.191994, step = 9101 (0.239 sec)\n",
      "INFO:tensorflow:global_step/sec: 440.748\n",
      "INFO:tensorflow:loss = 15.354056, step = 9201 (0.227 sec)\n",
      "INFO:tensorflow:global_step/sec: 437.086\n",
      "INFO:tensorflow:loss = 14.2411175, step = 9301 (0.228 sec)\n",
      "INFO:tensorflow:global_step/sec: 437.851\n",
      "INFO:tensorflow:loss = 22.300995, step = 9401 (0.229 sec)\n",
      "INFO:tensorflow:global_step/sec: 440.007\n",
      "INFO:tensorflow:loss = 14.996457, step = 9501 (0.227 sec)\n",
      "INFO:tensorflow:global_step/sec: 424.29\n",
      "INFO:tensorflow:loss = 17.613045, step = 9601 (0.236 sec)\n",
      "INFO:tensorflow:global_step/sec: 418.811\n",
      "INFO:tensorflow:loss = 17.771803, step = 9701 (0.239 sec)\n",
      "INFO:tensorflow:global_step/sec: 433.633\n",
      "INFO:tensorflow:loss = 8.890094, step = 9801 (0.231 sec)\n",
      "INFO:tensorflow:global_step/sec: 438.064\n",
      "INFO:tensorflow:loss = 19.324007, step = 9901 (0.228 sec)\n",
      "INFO:tensorflow:Saving checkpoints for 10000 into /var/folders/yr/h7yx6m314m76y6r1650t9xkh0000gp/T/tmpxnxccr4v/model.ckpt.\n",
      "INFO:tensorflow:Loss for final step: 15.308229.\n"
     ]
    },
    {
     "data": {
      "text/plain": [
       "<tensorflow_estimator.python.estimator.canned.dnn.DNNClassifier at 0x1a2b313f28>"
      ]
     },
     "execution_count": 18,
     "metadata": {},
     "output_type": "execute_result"
    }
   ],
   "source": [
    "#Train the model\n",
    "\n",
    "dnn_clf.train(input_fn = lambda:training_input_fn(),steps=10000)"
   ]
  },
  {
   "cell_type": "code",
   "execution_count": 19,
   "metadata": {},
   "outputs": [
    {
     "name": "stdout",
     "output_type": "stream",
     "text": [
      "INFO:tensorflow:Calling model_fn.\n",
      "INFO:tensorflow:Done calling model_fn.\n",
      "INFO:tensorflow:Starting evaluation at 2019-10-29T05:23:09Z\n",
      "INFO:tensorflow:Graph was finalized.\n",
      "WARNING:tensorflow:From /Users/bp/anaconda/lib/python3.6/site-packages/tensorflow/python/training/saver.py:1266: checkpoint_exists (from tensorflow.python.training.checkpoint_management) is deprecated and will be removed in a future version.\n",
      "Instructions for updating:\n",
      "Use standard file APIs to check for files with this prefix.\n",
      "INFO:tensorflow:Restoring parameters from /var/folders/yr/h7yx6m314m76y6r1650t9xkh0000gp/T/tmpxnxccr4v/model.ckpt-10000\n",
      "INFO:tensorflow:Running local_init_op.\n",
      "INFO:tensorflow:Done running local_init_op.\n",
      "INFO:tensorflow:Finished evaluation at 2019-10-29-05:23:09\n",
      "INFO:tensorflow:Saving dict for global step 10000: accuracy = 0.9309951, average_loss = 0.17250624, global_step = 10000, loss = 17.055859\n",
      "INFO:tensorflow:Saving 'checkpoint_path' summary for global step 10000: /var/folders/yr/h7yx6m314m76y6r1650t9xkh0000gp/T/tmpxnxccr4v/model.ckpt-10000\n"
     ]
    },
    {
     "data": {
      "text/plain": [
       "{'accuracy': 0.9309951,\n",
       " 'average_loss': 0.17250624,\n",
       " 'global_step': 10000,\n",
       " 'loss': 17.055859}"
      ]
     },
     "execution_count": 19,
     "metadata": {},
     "output_type": "execute_result"
    }
   ],
   "source": [
    "#Evaluate the model\n",
    "\n",
    "dnn_clf.evaluate(input_fn = lambda:valid_input_fn())"
   ]
  },
  {
   "cell_type": "markdown",
   "metadata": {},
   "source": [
    "# Classification Matrix"
   ]
  },
  {
   "cell_type": "code",
   "execution_count": 20,
   "metadata": {
    "scrolled": true
   },
   "outputs": [
    {
     "name": "stdout",
     "output_type": "stream",
     "text": [
      "INFO:tensorflow:Calling model_fn.\n",
      "INFO:tensorflow:Done calling model_fn.\n",
      "INFO:tensorflow:Graph was finalized.\n",
      "INFO:tensorflow:Restoring parameters from /var/folders/yr/h7yx6m314m76y6r1650t9xkh0000gp/T/tmpxnxccr4v/model.ckpt-10000\n",
      "INFO:tensorflow:Running local_init_op.\n",
      "INFO:tensorflow:Done running local_init_op.\n"
     ]
    }
   ],
   "source": [
    "y_train_pred = list(dnn_clf.predict(input_fn = valid_input_fn))"
   ]
  },
  {
   "cell_type": "code",
   "execution_count": 21,
   "metadata": {
    "collapsed": true
   },
   "outputs": [],
   "source": [
    "#y_train_pred is a dictionary. We only need the \"classes\" from it\n",
    "\n",
    "y_train_pred\n",
    "\n",
    "predictions = [p['class_ids'][0] for p in y_train_pred]"
   ]
  },
  {
   "cell_type": "code",
   "execution_count": 22,
   "metadata": {
    "scrolled": true
   },
   "outputs": [
    {
     "name": "stdout",
     "output_type": "stream",
     "text": [
      "WARNING:tensorflow:From /Users/bp/anaconda/lib/python3.6/site-packages/tensorflow/python/ops/confusion_matrix.py:193: to_int64 (from tensorflow.python.ops.math_ops) is deprecated and will be removed in a future version.\n",
      "Instructions for updating:\n",
      "Use tf.cast instead.\n",
      "WARNING:tensorflow:From /Users/bp/anaconda/lib/python3.6/site-packages/tensorflow/python/ops/confusion_matrix.py:194: to_int32 (from tensorflow.python.ops.math_ops) is deprecated and will be removed in a future version.\n",
      "Instructions for updating:\n",
      "Use tf.cast instead.\n"
     ]
    }
   ],
   "source": [
    "confusion_matrix = tf.confusion_matrix(list(test_y), predictions)\n"
   ]
  },
  {
   "cell_type": "code",
   "execution_count": 23,
   "metadata": {},
   "outputs": [
    {
     "name": "stdout",
     "output_type": "stream",
     "text": [
      "\n",
      "Confusion Matrix:\n",
      " [[2565   54    0   10   78]\n",
      " [  59 1921    0    7    0]\n",
      " [   0    0    0    0    1]\n",
      " [  22    8    0  631    3]\n",
      " [ 138    0    0   43  590]]\n"
     ]
    }
   ],
   "source": [
    "with tf.Session():\n",
    "    print('\\nConfusion Matrix:\\n', tf.Tensor.eval(confusion_matrix,feed_dict=None, session=None))"
   ]
  },
  {
   "cell_type": "markdown",
   "metadata": {},
   "source": [
    "# Optimizers, Learning rate, Dropout & Activation functions"
   ]
  },
  {
   "cell_type": "code",
   "execution_count": 24,
   "metadata": {},
   "outputs": [
    {
     "name": "stdout",
     "output_type": "stream",
     "text": [
      "INFO:tensorflow:Using default config.\n",
      "WARNING:tensorflow:Using temporary folder as model directory: /var/folders/yr/h7yx6m314m76y6r1650t9xkh0000gp/T/tmpif9wmp_s\n",
      "INFO:tensorflow:Using config: {'_model_dir': '/var/folders/yr/h7yx6m314m76y6r1650t9xkh0000gp/T/tmpif9wmp_s', '_tf_random_seed': None, '_save_summary_steps': 100, '_save_checkpoints_steps': None, '_save_checkpoints_secs': 600, '_session_config': allow_soft_placement: true\n",
      "graph_options {\n",
      "  rewrite_options {\n",
      "    meta_optimizer_iterations: ONE\n",
      "  }\n",
      "}\n",
      ", '_keep_checkpoint_max': 5, '_keep_checkpoint_every_n_hours': 10000, '_log_step_count_steps': 100, '_train_distribute': None, '_device_fn': None, '_protocol': None, '_eval_distribute': None, '_experimental_distribute': None, '_service': None, '_cluster_spec': <tensorflow.python.training.server_lib.ClusterSpec object at 0x1a2bbc2f28>, '_task_type': 'worker', '_task_id': 0, '_global_id_in_cluster': 0, '_master': '', '_evaluation_master': '', '_is_chief': True, '_num_ps_replicas': 0, '_num_worker_replicas': 1}\n"
     ]
    }
   ],
   "source": [
    "# Select from one of the below optimizers\n",
    "\n",
    "tf.reset_default_graph()\n",
    "\n",
    "# Set the learning rate:\n",
    "lr = 0.001\n",
    "\n",
    "# Set the dropout rate:\n",
    "# Note: in this case, dropout is reducing the accuracy\n",
    "dropout = 0.1\n",
    "\n",
    "\n",
    "# Available optimizers:\n",
    "momentum = tf.train.MomentumOptimizer(learning_rate=lr, momentum=0.9)\n",
    "nesterov = tf.train.MomentumOptimizer(learning_rate=lr, momentum=0.9, use_nesterov=True)\n",
    "adagrad =  tf.train.AdagradOptimizer(learning_rate=lr)\n",
    "adam = tf.train.AdamOptimizer(learning_rate=lr, beta1=0.9, beta2=0.999, epsilon=1e-08)\n",
    "gd = tf.train.GradientDescentOptimizer(learning_rate=lr)\n",
    "rmsprop = tf.train.RMSPropOptimizer(learning_rate=lr, decay=0.9, momentum=0.9, epsilon=1e-10)\n",
    "\n",
    "\n",
    "# Activation functions:\n",
    "relu = tf.nn.relu\n",
    "leaky_relu = tf.nn.leaky_relu\n",
    "elu = tf.nn.elu\n",
    "tanh = tf.math.tanh\n",
    "sigmoid = tf.math.sigmoid\n",
    "\n",
    "\n",
    "#Select an the optimizer and activation function in the definition below:\n",
    "dnn_clf = tf.estimator.DNNClassifier(hidden_units = [50, 25, 10], \n",
    "                                     n_classes = 5, \n",
    "                                     feature_columns = feat_columns,\n",
    "                                     optimizer = nesterov,\n",
    "                                     activation_fn = elu,\n",
    "                                     dropout = dropout) "
   ]
  },
  {
   "cell_type": "code",
   "execution_count": 25,
   "metadata": {},
   "outputs": [
    {
     "name": "stdout",
     "output_type": "stream",
     "text": [
      "INFO:tensorflow:Calling model_fn.\n",
      "WARNING:tensorflow:From /Users/bp/anaconda/lib/python3.6/site-packages/tensorflow/python/keras/layers/core.py:143: calling dropout (from tensorflow.python.ops.nn_ops) with keep_prob is deprecated and will be removed in a future version.\n",
      "Instructions for updating:\n",
      "Please use `rate` instead of `keep_prob`. Rate should be set to `rate = 1 - keep_prob`.\n",
      "INFO:tensorflow:Done calling model_fn.\n",
      "INFO:tensorflow:Create CheckpointSaverHook.\n",
      "INFO:tensorflow:Graph was finalized.\n",
      "INFO:tensorflow:Running local_init_op.\n",
      "INFO:tensorflow:Done running local_init_op.\n",
      "INFO:tensorflow:Saving checkpoints for 0 into /var/folders/yr/h7yx6m314m76y6r1650t9xkh0000gp/T/tmpif9wmp_s/model.ckpt.\n",
      "INFO:tensorflow:loss = 159.63231, step = 1\n",
      "INFO:tensorflow:global_step/sec: 254.735\n",
      "INFO:tensorflow:loss = 63.059113, step = 101 (0.394 sec)\n",
      "INFO:tensorflow:global_step/sec: 450.732\n",
      "INFO:tensorflow:loss = 49.529594, step = 201 (0.222 sec)\n",
      "INFO:tensorflow:global_step/sec: 423.912\n",
      "INFO:tensorflow:loss = 49.416534, step = 301 (0.236 sec)\n",
      "INFO:tensorflow:global_step/sec: 452.225\n",
      "INFO:tensorflow:loss = 30.10559, step = 401 (0.221 sec)\n",
      "INFO:tensorflow:global_step/sec: 440.674\n",
      "INFO:tensorflow:loss = 42.458904, step = 501 (0.227 sec)\n",
      "INFO:tensorflow:global_step/sec: 453.235\n",
      "INFO:tensorflow:loss = 26.922413, step = 601 (0.221 sec)\n",
      "INFO:tensorflow:global_step/sec: 401.291\n",
      "INFO:tensorflow:loss = 26.26794, step = 701 (0.250 sec)\n",
      "INFO:tensorflow:global_step/sec: 390.529\n",
      "INFO:tensorflow:loss = 36.220417, step = 801 (0.256 sec)\n",
      "INFO:tensorflow:global_step/sec: 426.213\n",
      "INFO:tensorflow:loss = 24.266773, step = 901 (0.235 sec)\n",
      "INFO:tensorflow:global_step/sec: 433.458\n",
      "INFO:tensorflow:loss = 39.559845, step = 1001 (0.231 sec)\n",
      "INFO:tensorflow:global_step/sec: 386.487\n",
      "INFO:tensorflow:loss = 25.128633, step = 1101 (0.259 sec)\n",
      "INFO:tensorflow:global_step/sec: 373.991\n",
      "INFO:tensorflow:loss = 29.176254, step = 1201 (0.267 sec)\n",
      "INFO:tensorflow:global_step/sec: 375.899\n",
      "INFO:tensorflow:loss = 39.06608, step = 1301 (0.266 sec)\n",
      "INFO:tensorflow:global_step/sec: 419.678\n",
      "INFO:tensorflow:loss = 24.496784, step = 1401 (0.238 sec)\n",
      "INFO:tensorflow:global_step/sec: 380.311\n",
      "INFO:tensorflow:loss = 31.69921, step = 1501 (0.263 sec)\n",
      "INFO:tensorflow:global_step/sec: 373.497\n",
      "INFO:tensorflow:loss = 34.249107, step = 1601 (0.267 sec)\n",
      "INFO:tensorflow:global_step/sec: 383.302\n",
      "INFO:tensorflow:loss = 40.301243, step = 1701 (0.261 sec)\n",
      "INFO:tensorflow:global_step/sec: 407.003\n",
      "INFO:tensorflow:loss = 25.090832, step = 1801 (0.246 sec)\n",
      "INFO:tensorflow:global_step/sec: 377.713\n",
      "INFO:tensorflow:loss = 23.51268, step = 1901 (0.265 sec)\n",
      "INFO:tensorflow:global_step/sec: 401.455\n",
      "INFO:tensorflow:loss = 27.71459, step = 2001 (0.249 sec)\n",
      "INFO:tensorflow:global_step/sec: 408.358\n",
      "INFO:tensorflow:loss = 19.60196, step = 2101 (0.245 sec)\n",
      "INFO:tensorflow:global_step/sec: 377.669\n",
      "INFO:tensorflow:loss = 30.773737, step = 2201 (0.265 sec)\n",
      "INFO:tensorflow:global_step/sec: 356.41\n",
      "INFO:tensorflow:loss = 35.78272, step = 2301 (0.280 sec)\n",
      "INFO:tensorflow:global_step/sec: 343.975\n",
      "INFO:tensorflow:loss = 19.577465, step = 2401 (0.291 sec)\n",
      "INFO:tensorflow:global_step/sec: 375.983\n",
      "INFO:tensorflow:loss = 25.224321, step = 2501 (0.266 sec)\n",
      "INFO:tensorflow:global_step/sec: 386.278\n",
      "INFO:tensorflow:loss = 29.865467, step = 2601 (0.259 sec)\n",
      "INFO:tensorflow:global_step/sec: 345.924\n",
      "INFO:tensorflow:loss = 28.429117, step = 2701 (0.290 sec)\n",
      "INFO:tensorflow:global_step/sec: 355.761\n",
      "INFO:tensorflow:loss = 25.451601, step = 2801 (0.281 sec)\n",
      "INFO:tensorflow:global_step/sec: 381.172\n",
      "INFO:tensorflow:loss = 28.436628, step = 2901 (0.262 sec)\n",
      "INFO:tensorflow:global_step/sec: 347.519\n",
      "INFO:tensorflow:loss = 30.62626, step = 3001 (0.288 sec)\n",
      "INFO:tensorflow:global_step/sec: 360.789\n",
      "INFO:tensorflow:loss = 33.609734, step = 3101 (0.277 sec)\n",
      "INFO:tensorflow:global_step/sec: 380.035\n",
      "INFO:tensorflow:loss = 30.029705, step = 3201 (0.263 sec)\n",
      "INFO:tensorflow:global_step/sec: 382.591\n",
      "INFO:tensorflow:loss = 32.721046, step = 3301 (0.261 sec)\n",
      "INFO:tensorflow:global_step/sec: 356.143\n",
      "INFO:tensorflow:loss = 25.173326, step = 3401 (0.281 sec)\n",
      "INFO:tensorflow:global_step/sec: 349.72\n",
      "INFO:tensorflow:loss = 26.220762, step = 3501 (0.286 sec)\n",
      "INFO:tensorflow:global_step/sec: 361.89\n",
      "INFO:tensorflow:loss = 17.750416, step = 3601 (0.276 sec)\n",
      "INFO:tensorflow:global_step/sec: 376.374\n",
      "INFO:tensorflow:loss = 22.295784, step = 3701 (0.266 sec)\n",
      "INFO:tensorflow:global_step/sec: 383.484\n",
      "INFO:tensorflow:loss = 15.249358, step = 3801 (0.261 sec)\n",
      "INFO:tensorflow:global_step/sec: 350.354\n",
      "INFO:tensorflow:loss = 19.641054, step = 3901 (0.285 sec)\n",
      "INFO:tensorflow:global_step/sec: 359.69\n",
      "INFO:tensorflow:loss = 31.16503, step = 4001 (0.278 sec)\n",
      "INFO:tensorflow:global_step/sec: 372.197\n",
      "INFO:tensorflow:loss = 22.373848, step = 4101 (0.269 sec)\n",
      "INFO:tensorflow:global_step/sec: 350.596\n",
      "INFO:tensorflow:loss = 26.40846, step = 4201 (0.285 sec)\n",
      "INFO:tensorflow:global_step/sec: 368.428\n",
      "INFO:tensorflow:loss = 19.371983, step = 4301 (0.271 sec)\n",
      "INFO:tensorflow:global_step/sec: 365.001\n",
      "INFO:tensorflow:loss = 28.988365, step = 4401 (0.274 sec)\n",
      "INFO:tensorflow:global_step/sec: 355.29\n",
      "INFO:tensorflow:loss = 21.405434, step = 4501 (0.281 sec)\n",
      "INFO:tensorflow:global_step/sec: 387.311\n",
      "INFO:tensorflow:loss = 24.814894, step = 4601 (0.258 sec)\n",
      "INFO:tensorflow:global_step/sec: 390.217\n",
      "INFO:tensorflow:loss = 21.36086, step = 4701 (0.256 sec)\n",
      "INFO:tensorflow:global_step/sec: 383.234\n",
      "INFO:tensorflow:loss = 24.049416, step = 4801 (0.261 sec)\n",
      "INFO:tensorflow:global_step/sec: 359.178\n",
      "INFO:tensorflow:loss = 20.454826, step = 4901 (0.279 sec)\n",
      "INFO:tensorflow:global_step/sec: 332.509\n",
      "INFO:tensorflow:loss = 23.446451, step = 5001 (0.301 sec)\n",
      "INFO:tensorflow:global_step/sec: 331.245\n",
      "INFO:tensorflow:loss = 24.112112, step = 5101 (0.301 sec)\n",
      "INFO:tensorflow:global_step/sec: 340.72\n",
      "INFO:tensorflow:loss = 29.683987, step = 5201 (0.294 sec)\n",
      "INFO:tensorflow:global_step/sec: 336.372\n",
      "INFO:tensorflow:loss = 24.620401, step = 5301 (0.298 sec)\n",
      "INFO:tensorflow:global_step/sec: 347.819\n",
      "INFO:tensorflow:loss = 18.400637, step = 5401 (0.287 sec)\n",
      "INFO:tensorflow:global_step/sec: 338.024\n",
      "INFO:tensorflow:loss = 23.51219, step = 5501 (0.296 sec)\n",
      "INFO:tensorflow:global_step/sec: 336.408\n",
      "INFO:tensorflow:loss = 21.124418, step = 5601 (0.297 sec)\n",
      "INFO:tensorflow:global_step/sec: 329.428\n",
      "INFO:tensorflow:loss = 22.704836, step = 5701 (0.303 sec)\n",
      "INFO:tensorflow:global_step/sec: 319.538\n",
      "INFO:tensorflow:loss = 37.50514, step = 5801 (0.313 sec)\n",
      "INFO:tensorflow:global_step/sec: 307.937\n",
      "INFO:tensorflow:loss = 20.271051, step = 5901 (0.325 sec)\n",
      "INFO:tensorflow:global_step/sec: 317.041\n",
      "INFO:tensorflow:loss = 22.27461, step = 6001 (0.315 sec)\n",
      "INFO:tensorflow:global_step/sec: 341.323\n",
      "INFO:tensorflow:loss = 24.420288, step = 6101 (0.293 sec)\n",
      "INFO:tensorflow:global_step/sec: 313.703\n",
      "INFO:tensorflow:loss = 23.898949, step = 6201 (0.319 sec)\n",
      "INFO:tensorflow:global_step/sec: 343.252\n",
      "INFO:tensorflow:loss = 19.450203, step = 6301 (0.291 sec)\n",
      "INFO:tensorflow:global_step/sec: 326.578\n",
      "INFO:tensorflow:loss = 33.254284, step = 6401 (0.306 sec)\n",
      "INFO:tensorflow:global_step/sec: 340.648\n",
      "INFO:tensorflow:loss = 21.524372, step = 6501 (0.294 sec)\n",
      "INFO:tensorflow:global_step/sec: 352.529\n",
      "INFO:tensorflow:loss = 34.254944, step = 6601 (0.283 sec)\n",
      "INFO:tensorflow:global_step/sec: 373.308\n",
      "INFO:tensorflow:loss = 18.287233, step = 6701 (0.268 sec)\n",
      "INFO:tensorflow:global_step/sec: 354.881\n",
      "INFO:tensorflow:loss = 29.163055, step = 6801 (0.282 sec)\n",
      "INFO:tensorflow:global_step/sec: 365.699\n",
      "INFO:tensorflow:loss = 21.81556, step = 6901 (0.274 sec)\n",
      "INFO:tensorflow:global_step/sec: 395.52\n",
      "INFO:tensorflow:loss = 23.810926, step = 7001 (0.253 sec)\n",
      "INFO:tensorflow:global_step/sec: 375.11\n",
      "INFO:tensorflow:loss = 37.337032, step = 7101 (0.266 sec)\n",
      "INFO:tensorflow:global_step/sec: 388.965\n",
      "INFO:tensorflow:loss = 23.049732, step = 7201 (0.257 sec)\n",
      "INFO:tensorflow:global_step/sec: 422.017\n",
      "INFO:tensorflow:loss = 25.240046, step = 7301 (0.237 sec)\n",
      "INFO:tensorflow:global_step/sec: 421.471\n",
      "INFO:tensorflow:loss = 17.709284, step = 7401 (0.237 sec)\n",
      "INFO:tensorflow:global_step/sec: 411.337\n",
      "INFO:tensorflow:loss = 22.470772, step = 7501 (0.243 sec)\n",
      "INFO:tensorflow:global_step/sec: 387.759\n",
      "INFO:tensorflow:loss = 32.024094, step = 7601 (0.259 sec)\n"
     ]
    },
    {
     "name": "stdout",
     "output_type": "stream",
     "text": [
      "INFO:tensorflow:global_step/sec: 394.999\n",
      "INFO:tensorflow:loss = 20.124397, step = 7701 (0.252 sec)\n",
      "INFO:tensorflow:global_step/sec: 428.701\n",
      "INFO:tensorflow:loss = 27.03337, step = 7801 (0.233 sec)\n",
      "INFO:tensorflow:global_step/sec: 429.721\n",
      "INFO:tensorflow:loss = 30.521267, step = 7901 (0.233 sec)\n",
      "INFO:tensorflow:global_step/sec: 411.191\n",
      "INFO:tensorflow:loss = 16.50904, step = 8001 (0.243 sec)\n",
      "INFO:tensorflow:global_step/sec: 437.346\n",
      "INFO:tensorflow:loss = 29.18869, step = 8101 (0.228 sec)\n",
      "INFO:tensorflow:global_step/sec: 447.319\n",
      "INFO:tensorflow:loss = 14.210391, step = 8201 (0.224 sec)\n",
      "INFO:tensorflow:global_step/sec: 441.698\n",
      "INFO:tensorflow:loss = 18.879475, step = 8301 (0.226 sec)\n",
      "INFO:tensorflow:global_step/sec: 445.7\n",
      "INFO:tensorflow:loss = 26.960052, step = 8401 (0.224 sec)\n",
      "INFO:tensorflow:global_step/sec: 448.922\n",
      "INFO:tensorflow:loss = 21.480227, step = 8501 (0.222 sec)\n",
      "INFO:tensorflow:global_step/sec: 460.704\n",
      "INFO:tensorflow:loss = 20.215006, step = 8601 (0.218 sec)\n",
      "INFO:tensorflow:global_step/sec: 430.279\n",
      "INFO:tensorflow:loss = 16.147871, step = 8701 (0.232 sec)\n",
      "INFO:tensorflow:global_step/sec: 447.065\n",
      "INFO:tensorflow:loss = 27.078943, step = 8801 (0.224 sec)\n",
      "INFO:tensorflow:global_step/sec: 433.14\n",
      "INFO:tensorflow:loss = 20.448566, step = 8901 (0.231 sec)\n",
      "INFO:tensorflow:global_step/sec: 470.345\n",
      "INFO:tensorflow:loss = 17.39794, step = 9001 (0.213 sec)\n",
      "INFO:tensorflow:global_step/sec: 467.314\n",
      "INFO:tensorflow:loss = 30.045511, step = 9101 (0.214 sec)\n",
      "INFO:tensorflow:global_step/sec: 427.901\n",
      "INFO:tensorflow:loss = 28.369656, step = 9201 (0.234 sec)\n",
      "INFO:tensorflow:global_step/sec: 468.584\n",
      "INFO:tensorflow:loss = 21.735065, step = 9301 (0.213 sec)\n",
      "INFO:tensorflow:global_step/sec: 475.907\n",
      "INFO:tensorflow:loss = 17.7071, step = 9401 (0.210 sec)\n",
      "INFO:tensorflow:global_step/sec: 450.706\n",
      "INFO:tensorflow:loss = 18.35374, step = 9501 (0.222 sec)\n",
      "INFO:tensorflow:global_step/sec: 434.007\n",
      "INFO:tensorflow:loss = 36.369118, step = 9601 (0.231 sec)\n",
      "INFO:tensorflow:global_step/sec: 442.817\n",
      "INFO:tensorflow:loss = 22.431992, step = 9701 (0.226 sec)\n",
      "INFO:tensorflow:global_step/sec: 490.966\n",
      "INFO:tensorflow:loss = 25.777636, step = 9801 (0.203 sec)\n",
      "INFO:tensorflow:global_step/sec: 480.09\n",
      "INFO:tensorflow:loss = 17.855928, step = 9901 (0.208 sec)\n",
      "INFO:tensorflow:Saving checkpoints for 10000 into /var/folders/yr/h7yx6m314m76y6r1650t9xkh0000gp/T/tmpif9wmp_s/model.ckpt.\n",
      "INFO:tensorflow:Loss for final step: 13.428105.\n"
     ]
    },
    {
     "data": {
      "text/plain": [
       "<tensorflow_estimator.python.estimator.canned.dnn.DNNClassifier at 0x1a2bbc2da0>"
      ]
     },
     "execution_count": 25,
     "metadata": {},
     "output_type": "execute_result"
    }
   ],
   "source": [
    "#Train the model\n",
    "\n",
    "dnn_clf.train(input_fn = lambda:training_input_fn(),steps=10000)"
   ]
  },
  {
   "cell_type": "code",
   "execution_count": null,
   "metadata": {
    "collapsed": true
   },
   "outputs": [],
   "source": [
    "dnn_clf.evaluate(input_fn = lambda:valid_input_fn())"
   ]
  },
  {
   "cell_type": "code",
   "execution_count": null,
   "metadata": {
    "collapsed": true
   },
   "outputs": [],
   "source": []
  }
 ],
 "metadata": {
  "kernelspec": {
   "display_name": "Python 3",
   "language": "python",
   "name": "python3"
  },
  "language_info": {
   "codemirror_mode": {
    "name": "ipython",
    "version": 3
   },
   "file_extension": ".py",
   "mimetype": "text/x-python",
   "name": "python",
   "nbconvert_exporter": "python",
   "pygments_lexer": "ipython3",
   "version": "3.6.3"
  },
  "nav_menu": {
   "height": "279px",
   "width": "309px"
  },
  "toc": {
   "nav_menu": {},
   "number_sections": true,
   "sideBar": true,
   "skip_h1_title": false,
   "toc_cell": false,
   "toc_position": {},
   "toc_section_display": "block",
   "toc_window_display": false
  }
 },
 "nbformat": 4,
 "nbformat_minor": 1
}
