{
 "cells": [
  {
   "cell_type": "code",
   "execution_count": 172,
   "metadata": {
    "collapsed": true
   },
   "outputs": [],
   "source": [
    "import numpy as np\n",
    "m = 50 # number of data points\n",
    "x = 6 * np.random.rand(m,1) - 3\n",
    "y = 4*(x**2) + 3*x + 2 + 2*np.random.randn(m,1)"
   ]
  },
  {
   "cell_type": "code",
   "execution_count": 173,
   "metadata": {},
   "outputs": [
    {
     "name": "stdout",
     "output_type": "stream",
     "text": [
      "<class 'numpy.ndarray'> 2 (50, 1) <class 'numpy.ndarray'> 2 (50, 1)\n",
      "[[-0.0780988 ]\n",
      " [ 1.01001115]\n",
      " [ 1.03274961]]\n",
      "[[ 2.24555924]\n",
      " [10.90555089]\n",
      " [14.47796275]]\n"
     ]
    }
   ],
   "source": [
    "print(type(x), x.ndim, x.shape, type(y),y.ndim, y.shape)\n",
    "print(x[:3])\n",
    "print(y[:3])"
   ]
  },
  {
   "cell_type": "code",
   "execution_count": 174,
   "metadata": {},
   "outputs": [
    {
     "data": {
      "image/png": "[encoded data removed]",
      "text/plain": [
       "<matplotlib.figure.Figure at 0x10e5818d0>"
      ]
     },
     "metadata": {},
     "output_type": "display_data"
    }
   ],
   "source": [
    "import matplotlib\n",
    "import matplotlib.pyplot as plt\n",
    "plt.scatter(x,y)\n",
    "plt.show()"
   ]
  },
  {
   "cell_type": "code",
   "execution_count": 188,
   "metadata": {},
   "outputs": [
    {
     "name": "stdout",
     "output_type": "stream",
     "text": [
      "(40, 1) (40, 1) (10, 1) (10, 1)\n"
     ]
    }
   ],
   "source": [
    "from sklearn.model_selection import train_test_split\n",
    "x_train, x_test, y_train, y_test = train_test_split(x, y, test_size=0.2)\n",
    "print(x_train.shape, y_train.shape, x_test.shape, y_test.shape)"
   ]
  },
  {
   "cell_type": "code",
   "execution_count": 189,
   "metadata": {
    "collapsed": true
   },
   "outputs": [],
   "source": [
    "# let's plot a linear regression and a polynomial regression on this, and \n",
    "# compare fits on the entire training data\n"
   ]
  },
  {
   "cell_type": "code",
   "execution_count": 190,
   "metadata": {},
   "outputs": [
    {
     "name": "stdout",
     "output_type": "stream",
     "text": [
      "[11.21553649] [[3.34311718]]\n"
     ]
    }
   ],
   "source": [
    "from sklearn.linear_model import LinearRegression\n",
    "lin_reg = LinearRegression()\n",
    "lin_reg.fit(x_train, y_train)\n",
    "print(lin_reg.intercept_, lin_reg.coef_)"
   ]
  },
  {
   "cell_type": "code",
   "execution_count": 191,
   "metadata": {},
   "outputs": [
    {
     "name": "stdout",
     "output_type": "stream",
     "text": [
      "Mean Squared Error on Test:  152.90202783460367\n"
     ]
    },
    {
     "data": {
      "image/png": "[encoded data removed]",
      "text/plain": [
       "<matplotlib.figure.Figure at 0x10e625b70>"
      ]
     },
     "metadata": {},
     "output_type": "display_data"
    }
   ],
   "source": [
    "#this block of code plots the predicted values as a red line\n",
    "#and the actual values as a scatter plot, along with the \n",
    "#mean squared error\n",
    "# re-use this as needed \n",
    "\n",
    "y_predict = lin_reg.predict(x_test)\n",
    "\n",
    "from sklearn.metrics import mean_squared_error\n",
    "mse = mean_squared_error(y_test,y_predict)\n",
    "print(\"Mean Squared Error on Test: \", mse)\n",
    "\n",
    "order = x_test[:,0].argsort()\n",
    "xs = x_test[order]\n",
    "ys = y_predict[order]\n",
    "plt.plot(xs,ys,\"r-\")\n",
    "plt.scatter(x_test, y_test, color='blue')\n",
    "plt.show()\n"
   ]
  },
  {
   "cell_type": "code",
   "execution_count": 198,
   "metadata": {},
   "outputs": [
    {
     "name": "stdout",
     "output_type": "stream",
     "text": [
      "[-0.0780988] [-0.0780988   0.00609942]\n",
      "(50, 1) (50, 2)\n"
     ]
    }
   ],
   "source": [
    "# let's add polynomial features of degree num_degrees (modify this and play around\n",
    "# with this block of code and the next. what do you find?\n",
    "\n",
    "from sklearn.preprocessing import PolynomialFeatures\n",
    "num_degrees = 2\n",
    "poly_features = PolynomialFeatures(degree=num_degrees, include_bias=False)\n",
    "x_poly = poly_features.fit_transform(x)\n",
    "print(x[0], x_poly[0])\n",
    "print(x.shape, x_poly.shape)"
   ]
  },
  {
   "cell_type": "code",
   "execution_count": 199,
   "metadata": {},
   "outputs": [
    {
     "name": "stdout",
     "output_type": "stream",
     "text": [
      "[2.21233749] [[3.19031372 3.94439062]]\n",
      "Mean Squared Error on Test:  3.7587943520784526\n"
     ]
    },
    {
     "data": {
      "image/png": "[encoded data removed]",
      "text/plain": [
       "<matplotlib.figure.Figure at 0x10e5e8cf8>"
      ]
     },
     "metadata": {},
     "output_type": "display_data"
    }
   ],
   "source": [
    "\n",
    "x_train, x_test, y_train, y_test = train_test_split(x_poly, y, test_size=0.2)\n",
    "lin_reg = LinearRegression()\n",
    "lin_reg.fit(x_train, y_train)\n",
    "print(lin_reg.intercept_, lin_reg.coef_)\n",
    "y_predict = lin_reg.predict(x_test)\n",
    "mse = mean_squared_error(y_test,y_predict)\n",
    "print(\"Mean Squared Error on Test: \", mse)\n",
    "\n",
    "order = x_test[:,0].argsort()\n",
    "x_test = x_test[order]\n",
    "ys = y_predict[order]\n",
    "truey = y_test[order]\n",
    "xs = x_test[:,:-(num_degrees-1)]\n",
    "\n",
    "plt.plot(xs,ys,\"r-\")\n",
    "plt.scatter(xs, truey, color='blue')\n",
    "plt.show()"
   ]
  },
  {
   "cell_type": "code",
   "execution_count": 200,
   "metadata": {
    "collapsed": true
   },
   "outputs": [],
   "source": [
    "# In class work. repeat the above analyses for different polynomials, different\n",
    "# train-test splits. work in groups of 2 and present in class"
   ]
  },
  {
   "cell_type": "code",
   "execution_count": 201,
   "metadata": {},
   "outputs": [
    {
     "name": "stdout",
     "output_type": "stream",
     "text": [
      "Mean Squared Error on Test:  3.802975270684717\n",
      "[2.43494342] [3.01006706 3.87484411]\n"
     ]
    },
    {
     "data": {
      "image/png": "[encoded data removed]",
      "text/plain": [
       "<matplotlib.figure.Figure at 0x118d2e7f0>"
      ]
     },
     "metadata": {},
     "output_type": "display_data"
    }
   ],
   "source": [
    "from sklearn.linear_model import Lasso\n",
    "lasso_reg = Lasso(alpha=0.5)\n",
    "lasso_reg.fit(x_train, y_train)\n",
    "y_predict = lasso_reg.predict(x_test)\n",
    "mse = mean_squared_error(truey,y_predict)\n",
    "print(\"Mean Squared Error on Test: \", mse)\n",
    "print(lasso_reg.intercept_, lasso_reg.coef_)\n",
    "\n",
    "plt.plot(xs,y_predict,\"r-\")\n",
    "plt.scatter(xs, truey, color='blue')\n",
    "plt.show()\n"
   ]
  },
  {
   "cell_type": "code",
   "execution_count": null,
   "metadata": {
    "collapsed": true
   },
   "outputs": [],
   "source": [
    "# CLASS WORK. Play around with this code to see if you can construct scenarios here where\n",
    "# lass regression helps in fitting a better model\n"
   ]
  },
  {
   "cell_type": "code",
   "execution_count": null,
   "metadata": {
    "collapsed": true
   },
   "outputs": [],
   "source": []
  }
 ],
 "metadata": {
  "kernelspec": {
   "display_name": "Python 3",
   "language": "python",
   "name": "python3"
  },
  "language_info": {
   "codemirror_mode": {
    "name": "ipython",
    "version": 3
   },
   "file_extension": ".py",
   "mimetype": "text/x-python",
   "name": "python",
   "nbconvert_exporter": "python",
   "pygments_lexer": "ipython3",
   "version": "3.6.1"
  }
 },
 "nbformat": 4,
 "nbformat_minor": 2
}
